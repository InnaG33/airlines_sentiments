{
 "cells": [
  {
   "cell_type": "markdown",
   "metadata": {
    "id": "IshOqZNB6POh"
   },
   "source": [
    "# NLP: US Airlines Tweets Sentiment Analysis\n"
   ]
  },
  {
   "cell_type": "markdown",
   "metadata": {
    "id": "N4Eouxvz5Rb3"
   },
   "source": [
    "## **Context:**\n",
    "\n",
    "A sentiment analysis job about the problems of each major U.S. airline. Twitter data was scraped from February of 2015 and contributors were asked to first classify positive, negative, and neutral tweets, followed by categorizing negative reasons (such as \"late flight\" or \"rude service\")."
   ]
  },
  {
   "cell_type": "markdown",
   "metadata": {
    "id": "jaP-CPyF5Ndl"
   },
   "source": [
    "- The purpose of this analysis is to classify positive, neutral or negative sentiments from posted tweets to help US airlines in improving customer support and their services."
   ]
  },
  {
   "cell_type": "markdown",
   "metadata": {},
   "source": [
    "#### Importing libraries, loading dataset, data shape and description"
   ]
  },
  {
   "cell_type": "code",
   "execution_count": 1,
   "metadata": {
    "colab": {
     "base_uri": "https://localhost:8080/"
    },
    "execution": {
     "iopub.execute_input": "2021-04-24T13:58:11.314325Z",
     "iopub.status.busy": "2021-04-24T13:58:11.309997Z",
     "iopub.status.idle": "2021-04-24T13:58:15.590193Z",
     "shell.execute_reply": "2021-04-24T13:58:15.580755Z",
     "shell.execute_reply.started": "2021-04-24T13:58:11.314246Z"
    },
    "id": "ZjnXaaLV5Qff",
    "outputId": "15795ad8-16dd-4a3f-c20f-188d95934244"
   },
   "outputs": [],
   "source": [
    "# install and import necessary libraries.\n",
    "\n",
    "#!conda activate name_of_your_environment\n",
    "#!pip install contractions\n",
    "\n",
    "import re, string, unicodedata                          \n",
    "import contractions                                     \n",
    "from bs4 import BeautifulSoup                           \n",
    "\n",
    "import numpy as np                                      \n",
    "import pandas as pd                                     \n",
    "import nltk                                             \n",
    "\n",
    "# nltk.download('stopwords')                              # Download if needed.\n",
    "# nltk.download('punkt')\n",
    "# nltk.download('wordnet')\n",
    "\n",
    "#! pip install emoji\n",
    "import emoji\n",
    "\n",
    "from nltk.corpus import stopwords                       \n",
    "from nltk.tokenize import word_tokenize, sent_tokenize  \n",
    "from nltk.stem.wordnet import WordNetLemmatizer         \n",
    "\n",
    "import matplotlib.pyplot as plt\n",
    "import seaborn as sns"
   ]
  },
  {
   "cell_type": "code",
   "execution_count": 2,
   "metadata": {},
   "outputs": [],
   "source": [
    "from sklearn.feature_extraction.text import CountVectorizer\n",
    "from sklearn.feature_extraction.text import TfidfVectorizer"
   ]
  },
  {
   "cell_type": "code",
   "execution_count": 55,
   "metadata": {},
   "outputs": [],
   "source": [
    "from sklearn.model_selection import train_test_split\n",
    "\n",
    "from sklearn.ensemble import RandomForestClassifier\n",
    "\n",
    "from sklearn.model_selection import cross_val_score\n",
    "from sklearn.metrics import classification_report\n",
    "from sklearn.metrics import confusion_matrix, recall_score, precision_score, f1_score, roc_auc_score,accuracy_score\n",
    "\n",
    "from sklearn.linear_model import LogisticRegression\n",
    "from sklearn.tree import DecisionTreeClassifier\n",
    "from sklearn.ensemble import GradientBoostingClassifier"
   ]
  },
  {
   "cell_type": "code",
   "execution_count": 4,
   "metadata": {},
   "outputs": [],
   "source": [
    "sns.set_context(\"talk\", font_scale=0.9) #for automatic larfer fonts on plots"
   ]
  },
  {
   "cell_type": "code",
   "execution_count": 5,
   "metadata": {
    "execution": {
     "iopub.execute_input": "2021-04-24T13:58:15.604696Z",
     "iopub.status.busy": "2021-04-24T13:58:15.602849Z",
     "iopub.status.idle": "2021-04-24T13:58:20.141730Z",
     "shell.execute_reply": "2021-04-24T13:58:20.140814Z",
     "shell.execute_reply.started": "2021-04-24T13:58:15.604628Z"
    },
    "id": "o5rfFTY67Fhd"
   },
   "outputs": [],
   "source": [
    "df=pd.read_csv('Tweets.csv') # data loading"
   ]
  },
  {
   "cell_type": "code",
   "execution_count": 6,
   "metadata": {
    "colab": {
     "base_uri": "https://localhost:8080/"
    },
    "execution": {
     "iopub.execute_input": "2021-04-24T13:58:20.144811Z",
     "iopub.status.busy": "2021-04-24T13:58:20.144283Z",
     "iopub.status.idle": "2021-04-24T13:58:20.166242Z",
     "shell.execute_reply": "2021-04-24T13:58:20.164244Z",
     "shell.execute_reply.started": "2021-04-24T13:58:20.144762Z"
    },
    "id": "QAxBWyO29Qb6",
    "outputId": "eec52dad-c66f-4082-a138-887cd6ae1345"
   },
   "outputs": [
    {
     "data": {
      "text/plain": [
       "(14640, 15)"
      ]
     },
     "execution_count": 6,
     "metadata": {},
     "output_type": "execute_result"
    }
   ],
   "source": [
    "df.shape                     # shape of data."
   ]
  },
  {
   "cell_type": "markdown",
   "metadata": {},
   "source": [
    "\n",
    " - Realtively small data set with almost 15,000 rows"
   ]
  },
  {
   "cell_type": "code",
   "execution_count": 7,
   "metadata": {
    "colab": {
     "base_uri": "https://localhost:8080/",
     "height": 306
    },
    "execution": {
     "iopub.execute_input": "2021-04-24T13:58:20.175550Z",
     "iopub.status.busy": "2021-04-24T13:58:20.172484Z",
     "iopub.status.idle": "2021-04-24T13:58:20.241809Z",
     "shell.execute_reply": "2021-04-24T13:58:20.232647Z",
     "shell.execute_reply.started": "2021-04-24T13:58:20.175482Z"
    },
    "id": "LAJWb__77ZNu",
    "outputId": "c994f499-64b7-45b0-9577-8c292e48659b"
   },
   "outputs": [
    {
     "data": {
      "text/html": [
       "<div>\n",
       "<style scoped>\n",
       "    .dataframe tbody tr th:only-of-type {\n",
       "        vertical-align: middle;\n",
       "    }\n",
       "\n",
       "    .dataframe tbody tr th {\n",
       "        vertical-align: top;\n",
       "    }\n",
       "\n",
       "    .dataframe thead th {\n",
       "        text-align: right;\n",
       "    }\n",
       "</style>\n",
       "<table border=\"1\" class=\"dataframe\">\n",
       "  <thead>\n",
       "    <tr style=\"text-align: right;\">\n",
       "      <th></th>\n",
       "      <th>tweet_id</th>\n",
       "      <th>airline_sentiment</th>\n",
       "      <th>airline_sentiment_confidence</th>\n",
       "      <th>negativereason</th>\n",
       "      <th>negativereason_confidence</th>\n",
       "      <th>airline</th>\n",
       "      <th>airline_sentiment_gold</th>\n",
       "      <th>name</th>\n",
       "      <th>negativereason_gold</th>\n",
       "      <th>retweet_count</th>\n",
       "      <th>text</th>\n",
       "      <th>tweet_coord</th>\n",
       "      <th>tweet_created</th>\n",
       "      <th>tweet_location</th>\n",
       "      <th>user_timezone</th>\n",
       "    </tr>\n",
       "  </thead>\n",
       "  <tbody>\n",
       "    <tr>\n",
       "      <th>0</th>\n",
       "      <td>570306133677760513</td>\n",
       "      <td>neutral</td>\n",
       "      <td>1.0000</td>\n",
       "      <td>NaN</td>\n",
       "      <td>NaN</td>\n",
       "      <td>Virgin America</td>\n",
       "      <td>NaN</td>\n",
       "      <td>cairdin</td>\n",
       "      <td>NaN</td>\n",
       "      <td>0</td>\n",
       "      <td>@VirginAmerica What @dhepburn said.</td>\n",
       "      <td>NaN</td>\n",
       "      <td>2015-02-24 11:35:52 -0800</td>\n",
       "      <td>NaN</td>\n",
       "      <td>Eastern Time (US &amp; Canada)</td>\n",
       "    </tr>\n",
       "    <tr>\n",
       "      <th>1</th>\n",
       "      <td>570301130888122368</td>\n",
       "      <td>positive</td>\n",
       "      <td>0.3486</td>\n",
       "      <td>NaN</td>\n",
       "      <td>0.0000</td>\n",
       "      <td>Virgin America</td>\n",
       "      <td>NaN</td>\n",
       "      <td>jnardino</td>\n",
       "      <td>NaN</td>\n",
       "      <td>0</td>\n",
       "      <td>@VirginAmerica plus you've added commercials t...</td>\n",
       "      <td>NaN</td>\n",
       "      <td>2015-02-24 11:15:59 -0800</td>\n",
       "      <td>NaN</td>\n",
       "      <td>Pacific Time (US &amp; Canada)</td>\n",
       "    </tr>\n",
       "    <tr>\n",
       "      <th>2</th>\n",
       "      <td>570301083672813571</td>\n",
       "      <td>neutral</td>\n",
       "      <td>0.6837</td>\n",
       "      <td>NaN</td>\n",
       "      <td>NaN</td>\n",
       "      <td>Virgin America</td>\n",
       "      <td>NaN</td>\n",
       "      <td>yvonnalynn</td>\n",
       "      <td>NaN</td>\n",
       "      <td>0</td>\n",
       "      <td>@VirginAmerica I didn't today... Must mean I n...</td>\n",
       "      <td>NaN</td>\n",
       "      <td>2015-02-24 11:15:48 -0800</td>\n",
       "      <td>Lets Play</td>\n",
       "      <td>Central Time (US &amp; Canada)</td>\n",
       "    </tr>\n",
       "    <tr>\n",
       "      <th>3</th>\n",
       "      <td>570301031407624196</td>\n",
       "      <td>negative</td>\n",
       "      <td>1.0000</td>\n",
       "      <td>Bad Flight</td>\n",
       "      <td>0.7033</td>\n",
       "      <td>Virgin America</td>\n",
       "      <td>NaN</td>\n",
       "      <td>jnardino</td>\n",
       "      <td>NaN</td>\n",
       "      <td>0</td>\n",
       "      <td>@VirginAmerica it's really aggressive to blast...</td>\n",
       "      <td>NaN</td>\n",
       "      <td>2015-02-24 11:15:36 -0800</td>\n",
       "      <td>NaN</td>\n",
       "      <td>Pacific Time (US &amp; Canada)</td>\n",
       "    </tr>\n",
       "    <tr>\n",
       "      <th>4</th>\n",
       "      <td>570300817074462722</td>\n",
       "      <td>negative</td>\n",
       "      <td>1.0000</td>\n",
       "      <td>Can't Tell</td>\n",
       "      <td>1.0000</td>\n",
       "      <td>Virgin America</td>\n",
       "      <td>NaN</td>\n",
       "      <td>jnardino</td>\n",
       "      <td>NaN</td>\n",
       "      <td>0</td>\n",
       "      <td>@VirginAmerica and it's a really big bad thing...</td>\n",
       "      <td>NaN</td>\n",
       "      <td>2015-02-24 11:14:45 -0800</td>\n",
       "      <td>NaN</td>\n",
       "      <td>Pacific Time (US &amp; Canada)</td>\n",
       "    </tr>\n",
       "  </tbody>\n",
       "</table>\n",
       "</div>"
      ],
      "text/plain": [
       "             tweet_id airline_sentiment  airline_sentiment_confidence  \\\n",
       "0  570306133677760513           neutral                        1.0000   \n",
       "1  570301130888122368          positive                        0.3486   \n",
       "2  570301083672813571           neutral                        0.6837   \n",
       "3  570301031407624196          negative                        1.0000   \n",
       "4  570300817074462722          negative                        1.0000   \n",
       "\n",
       "  negativereason  negativereason_confidence         airline  \\\n",
       "0            NaN                        NaN  Virgin America   \n",
       "1            NaN                     0.0000  Virgin America   \n",
       "2            NaN                        NaN  Virgin America   \n",
       "3     Bad Flight                     0.7033  Virgin America   \n",
       "4     Can't Tell                     1.0000  Virgin America   \n",
       "\n",
       "  airline_sentiment_gold        name negativereason_gold  retweet_count  \\\n",
       "0                    NaN     cairdin                 NaN              0   \n",
       "1                    NaN    jnardino                 NaN              0   \n",
       "2                    NaN  yvonnalynn                 NaN              0   \n",
       "3                    NaN    jnardino                 NaN              0   \n",
       "4                    NaN    jnardino                 NaN              0   \n",
       "\n",
       "                                                text tweet_coord  \\\n",
       "0                @VirginAmerica What @dhepburn said.         NaN   \n",
       "1  @VirginAmerica plus you've added commercials t...         NaN   \n",
       "2  @VirginAmerica I didn't today... Must mean I n...         NaN   \n",
       "3  @VirginAmerica it's really aggressive to blast...         NaN   \n",
       "4  @VirginAmerica and it's a really big bad thing...         NaN   \n",
       "\n",
       "               tweet_created tweet_location               user_timezone  \n",
       "0  2015-02-24 11:35:52 -0800            NaN  Eastern Time (US & Canada)  \n",
       "1  2015-02-24 11:15:59 -0800            NaN  Pacific Time (US & Canada)  \n",
       "2  2015-02-24 11:15:48 -0800      Lets Play  Central Time (US & Canada)  \n",
       "3  2015-02-24 11:15:36 -0800            NaN  Pacific Time (US & Canada)  \n",
       "4  2015-02-24 11:14:45 -0800            NaN  Pacific Time (US & Canada)  "
      ]
     },
     "execution_count": 7,
     "metadata": {},
     "output_type": "execute_result"
    }
   ],
   "source": [
    "df.head()                                              # Printing first 5 rows of data."
   ]
  },
  {
   "cell_type": "markdown",
   "metadata": {},
   "source": [
    "- Many NaN missing values"
   ]
  },
  {
   "cell_type": "code",
   "execution_count": 8,
   "metadata": {
    "colab": {
     "base_uri": "https://localhost:8080/"
    },
    "execution": {
     "iopub.execute_input": "2021-04-24T13:57:03.081598Z",
     "iopub.status.busy": "2021-04-24T13:57:03.080334Z",
     "iopub.status.idle": "2021-04-24T13:57:03.161557Z",
     "shell.execute_reply": "2021-04-24T13:57:03.160330Z",
     "shell.execute_reply.started": "2021-04-24T13:57:03.081530Z"
    },
    "id": "-Fi1xVk_0g1v",
    "outputId": "ee687015-c28b-4c02-f2dc-f0ab09c5afac"
   },
   "outputs": [
    {
     "data": {
      "text/plain": [
       "tweet_id                            0\n",
       "airline_sentiment                   0\n",
       "airline_sentiment_confidence        0\n",
       "negativereason                   5462\n",
       "negativereason_confidence        4118\n",
       "airline                             0\n",
       "airline_sentiment_gold          14600\n",
       "name                                0\n",
       "negativereason_gold             14608\n",
       "retweet_count                       0\n",
       "text                                0\n",
       "tweet_coord                     13621\n",
       "tweet_created                       0\n",
       "tweet_location                   4733\n",
       "user_timezone                    4820\n",
       "dtype: int64"
      ]
     },
     "execution_count": 8,
     "metadata": {},
     "output_type": "execute_result"
    }
   ],
   "source": [
    "df.isna().sum(axis=0)                                # Check for NaN and NULL values."
   ]
  },
  {
   "cell_type": "code",
   "execution_count": 9,
   "metadata": {},
   "outputs": [
    {
     "data": {
      "text/plain": [
       "tweet_id                            0\n",
       "airline_sentiment                   0\n",
       "airline_sentiment_confidence        0\n",
       "negativereason                   5462\n",
       "negativereason_confidence        4118\n",
       "airline                             0\n",
       "airline_sentiment_gold          14600\n",
       "name                                0\n",
       "negativereason_gold             14608\n",
       "retweet_count                       0\n",
       "text                                0\n",
       "tweet_coord                     13621\n",
       "tweet_created                       0\n",
       "tweet_location                   4733\n",
       "user_timezone                    4820\n",
       "dtype: int64"
      ]
     },
     "execution_count": 9,
     "metadata": {},
     "output_type": "execute_result"
    }
   ],
   "source": [
    "df.isnull().sum(axis=0) "
   ]
  },
  {
   "cell_type": "markdown",
   "metadata": {},
   "source": [
    "#### Insights:\n",
    " - Luckely, there are no missing values in target columns: airline_sentiment and text\n",
    " - Also, airline column is not having missing values and will be used in EDA part only, in addition to the target columns"
   ]
  },
  {
   "cell_type": "markdown",
   "metadata": {},
   "source": [
    "### Understanding data-columns: \n",
    "   1. Drop all other columns except “text” and “airline_sentiment”.\n",
    "   2. Check the shape of data.\n",
    "   3. Print first 5 rows of data."
   ]
  },
  {
   "cell_type": "code",
   "execution_count": 126,
   "metadata": {},
   "outputs": [],
   "source": [
    "# with airline column - see justification above \n",
    "\n",
    "df1=df[['airline_sentiment', 'airline', 'text']]"
   ]
  },
  {
   "cell_type": "code",
   "execution_count": 11,
   "metadata": {
    "colab": {
     "base_uri": "https://localhost:8080/",
     "height": 289
    },
    "execution": {
     "iopub.execute_input": "2021-04-24T13:57:03.182714Z",
     "iopub.status.busy": "2021-04-24T13:57:03.182085Z",
     "iopub.status.idle": "2021-04-24T13:57:03.214092Z",
     "shell.execute_reply": "2021-04-24T13:57:03.212734Z",
     "shell.execute_reply.started": "2021-04-24T13:57:03.182526Z"
    },
    "id": "YeIScfrX7sCd",
    "outputId": "9d554204-33c5-4d7e-9299-38a962b3b494"
   },
   "outputs": [
    {
     "data": {
      "text/html": [
       "<div>\n",
       "<style scoped>\n",
       "    .dataframe tbody tr th:only-of-type {\n",
       "        vertical-align: middle;\n",
       "    }\n",
       "\n",
       "    .dataframe tbody tr th {\n",
       "        vertical-align: top;\n",
       "    }\n",
       "\n",
       "    .dataframe thead th {\n",
       "        text-align: right;\n",
       "    }\n",
       "</style>\n",
       "<table border=\"1\" class=\"dataframe\">\n",
       "  <thead>\n",
       "    <tr style=\"text-align: right;\">\n",
       "      <th></th>\n",
       "      <th>airline_sentiment</th>\n",
       "      <th>airline</th>\n",
       "      <th>text</th>\n",
       "    </tr>\n",
       "  </thead>\n",
       "  <tbody>\n",
       "    <tr>\n",
       "      <th>0</th>\n",
       "      <td>neutral</td>\n",
       "      <td>Virgin America</td>\n",
       "      <td>@VirginAmerica What @dhepburn said.</td>\n",
       "    </tr>\n",
       "    <tr>\n",
       "      <th>1</th>\n",
       "      <td>positive</td>\n",
       "      <td>Virgin America</td>\n",
       "      <td>@VirginAmerica plus you've added commercials to the experience... tacky.</td>\n",
       "    </tr>\n",
       "    <tr>\n",
       "      <th>2</th>\n",
       "      <td>neutral</td>\n",
       "      <td>Virgin America</td>\n",
       "      <td>@VirginAmerica I didn't today... Must mean I need to take another trip!</td>\n",
       "    </tr>\n",
       "    <tr>\n",
       "      <th>3</th>\n",
       "      <td>negative</td>\n",
       "      <td>Virgin America</td>\n",
       "      <td>@VirginAmerica it's really aggressive to blast obnoxious \"entertainment\" in your guests' faces &amp;amp; they have little recourse</td>\n",
       "    </tr>\n",
       "    <tr>\n",
       "      <th>4</th>\n",
       "      <td>negative</td>\n",
       "      <td>Virgin America</td>\n",
       "      <td>@VirginAmerica and it's a really big bad thing about it</td>\n",
       "    </tr>\n",
       "  </tbody>\n",
       "</table>\n",
       "</div>"
      ],
      "text/plain": [
       "  airline_sentiment         airline  \\\n",
       "0           neutral  Virgin America   \n",
       "1          positive  Virgin America   \n",
       "2           neutral  Virgin America   \n",
       "3          negative  Virgin America   \n",
       "4          negative  Virgin America   \n",
       "\n",
       "                                                                                                                             text  \n",
       "0                                                                                             @VirginAmerica What @dhepburn said.  \n",
       "1                                                        @VirginAmerica plus you've added commercials to the experience... tacky.  \n",
       "2                                                         @VirginAmerica I didn't today... Must mean I need to take another trip!  \n",
       "3  @VirginAmerica it's really aggressive to blast obnoxious \"entertainment\" in your guests' faces &amp; they have little recourse  \n",
       "4                                                                         @VirginAmerica and it's a really big bad thing about it  "
      ]
     },
     "execution_count": 11,
     "metadata": {},
     "output_type": "execute_result"
    }
   ],
   "source": [
    "pd.set_option('display.max_colwidth', None) # Display full dataframe information (Non-turncated Text column.)\n",
    "\n",
    "df1.head()                                 # Check first 5 rows of data"
   ]
  },
  {
   "cell_type": "code",
   "execution_count": 125,
   "metadata": {},
   "outputs": [
    {
     "data": {
      "text/plain": [
       "(14640, 3)"
      ]
     },
     "execution_count": 125,
     "metadata": {},
     "output_type": "execute_result"
    }
   ],
   "source": [
    "df1.shape"
   ]
  },
  {
   "cell_type": "code",
   "execution_count": 12,
   "metadata": {
    "execution": {
     "iopub.execute_input": "2021-04-24T13:57:03.225415Z",
     "iopub.status.busy": "2021-04-24T13:57:03.220632Z",
     "iopub.status.idle": "2021-04-24T13:57:03.274423Z",
     "shell.execute_reply": "2021-04-24T13:57:03.260671Z",
     "shell.execute_reply.started": "2021-04-24T13:57:03.225338Z"
    }
   },
   "outputs": [
    {
     "data": {
      "text/plain": [
       "airline_sentiment    object\n",
       "airline              object\n",
       "text                 object\n",
       "dtype: object"
      ]
     },
     "execution_count": 12,
     "metadata": {},
     "output_type": "execute_result"
    }
   ],
   "source": [
    "df1.dtypes"
   ]
  },
  {
   "cell_type": "code",
   "execution_count": 13,
   "metadata": {
    "execution": {
     "iopub.execute_input": "2021-04-24T13:57:03.317330Z",
     "iopub.status.busy": "2021-04-24T13:57:03.316690Z",
     "iopub.status.idle": "2021-04-24T13:57:03.613591Z",
     "shell.execute_reply": "2021-04-24T13:57:03.612564Z",
     "shell.execute_reply.started": "2021-04-24T13:57:03.317277Z"
    }
   },
   "outputs": [
    {
     "data": {
      "text/plain": [
       "<AxesSubplot:xlabel='airline_sentiment', ylabel='Probability'>"
      ]
     },
     "execution_count": 13,
     "metadata": {},
     "output_type": "execute_result"
    },
    {
     "data": {
      "image/png": "[encoded data removed]",
      "text/plain": [
       "<Figure size 432x288 with 1 Axes>"
      ]
     },
     "metadata": {
      "needs_background": "light"
     },
     "output_type": "display_data"
    }
   ],
   "source": [
    "sns.histplot(df1['airline_sentiment'], binwidth=0.3, stat='probability')"
   ]
  },
  {
   "cell_type": "code",
   "execution_count": 14,
   "metadata": {},
   "outputs": [
    {
     "data": {
      "image/png": "[encoded data removed]",
      "text/plain": [
       "<Figure size 864x360 with 1 Axes>"
      ]
     },
     "metadata": {
      "needs_background": "light"
     },
     "output_type": "display_data"
    }
   ],
   "source": [
    "plt.rcParams['figure.figsize'] = (12, 5)\n",
    "pd.crosstab(df1.airline, df1.airline_sentiment, normalize='columns').plot(kind='bar');"
   ]
  },
  {
   "cell_type": "code",
   "execution_count": 15,
   "metadata": {
    "execution": {
     "iopub.execute_input": "2021-04-24T13:57:03.623170Z",
     "iopub.status.busy": "2021-04-24T13:57:03.621986Z",
     "iopub.status.idle": "2021-04-24T13:57:03.910430Z",
     "shell.execute_reply": "2021-04-24T13:57:03.909443Z",
     "shell.execute_reply.started": "2021-04-24T13:57:03.623097Z"
    }
   },
   "outputs": [
    {
     "data": {
      "text/plain": [
       "negative    62.691257\n",
       "neutral     21.168033\n",
       "positive    16.140710\n",
       "Name: airline_sentiment, dtype: float64"
      ]
     },
     "execution_count": 15,
     "metadata": {},
     "output_type": "execute_result"
    }
   ],
   "source": [
    "df1['airline_sentiment'].value_counts(normalize=True)*100"
   ]
  },
  {
   "cell_type": "code",
   "execution_count": 16,
   "metadata": {
    "execution": {
     "iopub.execute_input": "2021-04-24T13:57:03.919230Z",
     "iopub.status.busy": "2021-04-24T13:57:03.918275Z",
     "iopub.status.idle": "2021-04-24T13:57:03.949540Z",
     "shell.execute_reply": "2021-04-24T13:57:03.943623Z",
     "shell.execute_reply.started": "2021-04-24T13:57:03.919186Z"
    }
   },
   "outputs": [
    {
     "data": {
      "text/plain": [
       "United            26.106557\n",
       "US Airways        19.897541\n",
       "American          18.845628\n",
       "Southwest         16.530055\n",
       "Delta             15.177596\n",
       "Virgin America     3.442623\n",
       "Name: airline, dtype: float64"
      ]
     },
     "execution_count": 16,
     "metadata": {},
     "output_type": "execute_result"
    }
   ],
   "source": [
    "df1['airline'].value_counts(normalize=True)*100"
   ]
  },
  {
   "cell_type": "code",
   "execution_count": 17,
   "metadata": {
    "execution": {
     "iopub.execute_input": "2021-04-24T13:57:03.978203Z",
     "iopub.status.busy": "2021-04-24T13:57:03.977264Z",
     "iopub.status.idle": "2021-04-24T13:57:04.056711Z",
     "shell.execute_reply": "2021-04-24T13:57:04.045782Z",
     "shell.execute_reply.started": "2021-04-24T13:57:03.978142Z"
    }
   },
   "outputs": [
    {
     "data": {
      "text/html": [
       "<div>\n",
       "<style scoped>\n",
       "    .dataframe tbody tr th:only-of-type {\n",
       "        vertical-align: middle;\n",
       "    }\n",
       "\n",
       "    .dataframe tbody tr th {\n",
       "        vertical-align: top;\n",
       "    }\n",
       "\n",
       "    .dataframe thead th {\n",
       "        text-align: right;\n",
       "    }\n",
       "</style>\n",
       "<table border=\"1\" class=\"dataframe\">\n",
       "  <thead>\n",
       "    <tr style=\"text-align: right;\">\n",
       "      <th></th>\n",
       "      <th>text</th>\n",
       "    </tr>\n",
       "  </thead>\n",
       "  <tbody>\n",
       "    <tr>\n",
       "      <th>1151</th>\n",
       "      <td>@united gate C 24 IAD. U released passengers to board w/others deplaning .50 peopleOn bridge while next flight  board http://t.co/HfoF33iyhi</td>\n",
       "    </tr>\n",
       "    <tr>\n",
       "      <th>9111</th>\n",
       "      <td>@USAirways 1729 connecting in charlotte to houston. Mechanical issue determined while q'd to take off. And we checked our bags.</td>\n",
       "    </tr>\n",
       "    <tr>\n",
       "      <th>3326</th>\n",
       "      <td>@united installed and working are not the same. Kicked me out after an hour and wouldn't let me back in. Four wasted hours.</td>\n",
       "    </tr>\n",
       "    <tr>\n",
       "      <th>10891</th>\n",
       "      <td>@USAirways now I am on flight to FLL, and told to take a train back to PBI to get my car. There are no trains to PBI!</td>\n",
       "    </tr>\n",
       "    <tr>\n",
       "      <th>11322</th>\n",
       "      <td>@USAirways ...Loosing a lot of business by using Barclays. I cant believe that you cant apply for a card if you live in Iowa.</td>\n",
       "    </tr>\n",
       "  </tbody>\n",
       "</table>\n",
       "</div>"
      ],
      "text/plain": [
       "                                                                                                                                               text\n",
       "1151   @united gate C 24 IAD. U released passengers to board w/others deplaning .50 peopleOn bridge while next flight  board http://t.co/HfoF33iyhi\n",
       "9111                @USAirways 1729 connecting in charlotte to houston. Mechanical issue determined while q'd to take off. And we checked our bags.\n",
       "3326                    @united installed and working are not the same. Kicked me out after an hour and wouldn't let me back in. Four wasted hours.\n",
       "10891                         @USAirways now I am on flight to FLL, and told to take a train back to PBI to get my car. There are no trains to PBI!\n",
       "11322                 @USAirways ...Loosing a lot of business by using Barclays. I cant believe that you cant apply for a card if you live in Iowa."
      ]
     },
     "execution_count": 17,
     "metadata": {},
     "output_type": "execute_result"
    }
   ],
   "source": [
    "#sampling only negative sentiments\n",
    "\n",
    "df1.query(\"airline_sentiment == 'negative'\").sample(5, random_state=42)[['text']]"
   ]
  },
  {
   "cell_type": "markdown",
   "metadata": {},
   "source": [
    " - Looks indeed negative"
   ]
  },
  {
   "cell_type": "code",
   "execution_count": 18,
   "metadata": {
    "execution": {
     "iopub.execute_input": "2021-04-24T13:57:04.080117Z",
     "iopub.status.busy": "2021-04-24T13:57:04.077103Z",
     "iopub.status.idle": "2021-04-24T13:57:04.129003Z",
     "shell.execute_reply": "2021-04-24T13:57:04.127513Z",
     "shell.execute_reply.started": "2021-04-24T13:57:04.080038Z"
    }
   },
   "outputs": [
    {
     "data": {
      "text/html": [
       "<div>\n",
       "<style scoped>\n",
       "    .dataframe tbody tr th:only-of-type {\n",
       "        vertical-align: middle;\n",
       "    }\n",
       "\n",
       "    .dataframe tbody tr th {\n",
       "        vertical-align: top;\n",
       "    }\n",
       "\n",
       "    .dataframe thead th {\n",
       "        text-align: right;\n",
       "    }\n",
       "</style>\n",
       "<table border=\"1\" class=\"dataframe\">\n",
       "  <thead>\n",
       "    <tr style=\"text-align: right;\">\n",
       "      <th></th>\n",
       "      <th>text</th>\n",
       "    </tr>\n",
       "  </thead>\n",
       "  <tbody>\n",
       "    <tr>\n",
       "      <th>6396</th>\n",
       "      <td>@SouthwestAir thanks for your excellent response time and assistance! All set :)</td>\n",
       "    </tr>\n",
       "    <tr>\n",
       "      <th>8484</th>\n",
       "      <td>@JetBlue thanks. I appreciate your prompt response.</td>\n",
       "    </tr>\n",
       "    <tr>\n",
       "      <th>8417</th>\n",
       "      <td>@JetBlue yes, with about 20 minutes to spare.  FYI - your employees are amazing.  Keep up the good work!</td>\n",
       "    </tr>\n",
       "    <tr>\n",
       "      <th>11553</th>\n",
       "      <td>@USAirways YOU ARE THE BEST!!! FOLLOW ME PLEASE;)🙏🙏🙏✌️✌️✌️🙏🙏🙏</td>\n",
       "    </tr>\n",
       "    <tr>\n",
       "      <th>8106</th>\n",
       "      <td>@JetBlue beautiful ride. Thanks again:)</td>\n",
       "    </tr>\n",
       "  </tbody>\n",
       "</table>\n",
       "</div>"
      ],
      "text/plain": [
       "                                                                                                           text\n",
       "6396                           @SouthwestAir thanks for your excellent response time and assistance! All set :)\n",
       "8484                                                        @JetBlue thanks. I appreciate your prompt response.\n",
       "8417   @JetBlue yes, with about 20 minutes to spare.  FYI - your employees are amazing.  Keep up the good work!\n",
       "11553                                             @USAirways YOU ARE THE BEST!!! FOLLOW ME PLEASE;)🙏🙏🙏✌️✌️✌️🙏🙏🙏\n",
       "8106                                                                    @JetBlue beautiful ride. Thanks again:)"
      ]
     },
     "execution_count": 18,
     "metadata": {},
     "output_type": "execute_result"
    }
   ],
   "source": [
    "#sampling only positive sentiments\n",
    "\n",
    "df1.query(\"airline_sentiment == 'positive'\").sample(5, random_state=42)[['text']]"
   ]
  },
  {
   "cell_type": "markdown",
   "metadata": {},
   "source": [
    "- Looks indeed positive, lots of emojies that need to be converted into text"
   ]
  },
  {
   "cell_type": "code",
   "execution_count": 19,
   "metadata": {},
   "outputs": [
    {
     "data": {
      "text/html": [
       "<div>\n",
       "<style scoped>\n",
       "    .dataframe tbody tr th:only-of-type {\n",
       "        vertical-align: middle;\n",
       "    }\n",
       "\n",
       "    .dataframe tbody tr th {\n",
       "        vertical-align: top;\n",
       "    }\n",
       "\n",
       "    .dataframe thead th {\n",
       "        text-align: right;\n",
       "    }\n",
       "</style>\n",
       "<table border=\"1\" class=\"dataframe\">\n",
       "  <thead>\n",
       "    <tr style=\"text-align: right;\">\n",
       "      <th></th>\n",
       "      <th>text</th>\n",
       "    </tr>\n",
       "  </thead>\n",
       "  <tbody>\n",
       "    <tr>\n",
       "      <th>3569</th>\n",
       "      <td>@united we finally just arrive to Bogota, good but long flight!!</td>\n",
       "    </tr>\n",
       "    <tr>\n",
       "      <th>13566</th>\n",
       "      <td>@AmericanAir got a callback at 1 am, took care of it. thanks.</td>\n",
       "    </tr>\n",
       "    <tr>\n",
       "      <th>7452</th>\n",
       "      <td>@JetBlue is there wifi on he plain</td>\n",
       "    </tr>\n",
       "    <tr>\n",
       "      <th>6947</th>\n",
       "      <td>@JetBlue @BucketObolts Same</td>\n",
       "    </tr>\n",
       "    <tr>\n",
       "      <th>5585</th>\n",
       "      <td>@SouthwestAir how many are left?!</td>\n",
       "    </tr>\n",
       "  </tbody>\n",
       "</table>\n",
       "</div>"
      ],
      "text/plain": [
       "                                                                   text\n",
       "3569   @united we finally just arrive to Bogota, good but long flight!!\n",
       "13566     @AmericanAir got a callback at 1 am, took care of it. thanks.\n",
       "7452                                 @JetBlue is there wifi on he plain\n",
       "6947                                        @JetBlue @BucketObolts Same\n",
       "5585                                  @SouthwestAir how many are left?!"
      ]
     },
     "execution_count": 19,
     "metadata": {},
     "output_type": "execute_result"
    }
   ],
   "source": [
    "df1.query(\"airline_sentiment == 'neutral'\").sample(5, random_state=42)[['text']]"
   ]
  },
  {
   "cell_type": "markdown",
   "metadata": {},
   "source": [
    " - Looks 'neutrally' unclear, must be hard to separate from positive and negative (models scores will be decreased). Ideally, the 'neutral' class could be combined with 'positive' one, since they are not 'negative'."
   ]
  },
  {
   "cell_type": "markdown",
   "metadata": {
    "id": "377IfFic-Ihk"
   },
   "source": [
    "### Insights:\n",
    "\n",
    "- Significantly more 'negatives' vs. 'positive' and 'neutral', classes are unbalanced.\n",
    "- More negatives for larger (older?) airlines, such as United\n",
    "- More positives for smaller (younger?) airlines, such as Virgin America\n",
    "- Emoji need to be converted to text, since it is all about sentiments"
   ]
  },
  {
   "cell_type": "markdown",
   "metadata": {},
   "source": [
    "### Text pre-processing: Data preparation\n",
    "\n",
    "#### Part A: before Tokenization\n",
    " - a. Html tag removal\n",
    " - b. Translate emoji\n",
    " - c. Replace contructions\n",
    " - d. Remove the numbers.\n",
    "\n",
    " - e. <b>Tokenization</b>\n",
    "\n",
    "#### Part B: after Tokenization\n",
    " - f. Removal of Non-ASCII, Special Characters and Punctuations\n",
    " - g. Conversion to lowercase\n",
    " - h. Removal of stopwords\n",
    " - i. Lemmitization\n",
    " - j. Join the words in the list to convert back to text string in the dataframe\n",
    " - k. Print first and last 5 rows of data after pre-processing"
   ]
  },
  {
   "cell_type": "markdown",
   "metadata": {},
   "source": [
    "### Part A"
   ]
  },
  {
   "cell_type": "code",
   "execution_count": 20,
   "metadata": {
    "colab": {
     "base_uri": "https://localhost:8080/",
     "height": 289
    },
    "execution": {
     "iopub.execute_input": "2021-04-24T13:57:04.137919Z",
     "iopub.status.busy": "2021-04-24T13:57:04.137351Z",
     "iopub.status.idle": "2021-04-24T13:57:11.976488Z",
     "shell.execute_reply": "2021-04-24T13:57:11.975516Z",
     "shell.execute_reply.started": "2021-04-24T13:57:04.137874Z"
    },
    "id": "vf3kMpGN7Lp9",
    "outputId": "27127e69-1c19-45e9-ddad-fdf93bc54d47"
   },
   "outputs": [],
   "source": [
    "def strip_html(text):\n",
    "    soup = BeautifulSoup(text, \"html.parser\")\n",
    "    return soup.get_text()\n",
    "\n",
    "def translate_emoji(text):\n",
    "    \"\"\"Translate emoji into english words\"\"\"\n",
    "    text_1 = emoji.demojize(text)\n",
    "    text_2 = str(text_1.split('_')) #after emoji conversion, words are joined by \"_\", which is removed here\n",
    "    return text_2\n",
    "\n",
    "def replace_contractions(text):\n",
    "    \"\"\"Replace contractions in string of text\"\"\"\n",
    "    return contractions.fix(text)\n",
    "\n",
    "def remove_numbers(text):\n",
    "    text = re.sub(r'\\d+', '', text)\n",
    "    return text\n"
   ]
  },
  {
   "cell_type": "code",
   "execution_count": 21,
   "metadata": {},
   "outputs": [],
   "source": [
    "df2=df1.copy()"
   ]
  },
  {
   "cell_type": "code",
   "execution_count": 22,
   "metadata": {},
   "outputs": [
    {
     "data": {
      "text/html": [
       "<div>\n",
       "<style scoped>\n",
       "    .dataframe tbody tr th:only-of-type {\n",
       "        vertical-align: middle;\n",
       "    }\n",
       "\n",
       "    .dataframe tbody tr th {\n",
       "        vertical-align: top;\n",
       "    }\n",
       "\n",
       "    .dataframe thead th {\n",
       "        text-align: right;\n",
       "    }\n",
       "</style>\n",
       "<table border=\"1\" class=\"dataframe\">\n",
       "  <thead>\n",
       "    <tr style=\"text-align: right;\">\n",
       "      <th></th>\n",
       "      <th>airline_sentiment</th>\n",
       "      <th>airline</th>\n",
       "      <th>text</th>\n",
       "    </tr>\n",
       "  </thead>\n",
       "  <tbody>\n",
       "    <tr>\n",
       "      <th>4794</th>\n",
       "      <td>positive</td>\n",
       "      <td>Southwest</td>\n",
       "      <td>@SouthwestAir you're my early frontrunner for best airline! #oscars2016</td>\n",
       "    </tr>\n",
       "    <tr>\n",
       "      <th>10480</th>\n",
       "      <td>negative</td>\n",
       "      <td>US Airways</td>\n",
       "      <td>@USAirways how is it that my flt to EWR was Cancelled Flightled yet flts to NYC from USAirways are still flying?</td>\n",
       "    </tr>\n",
       "    <tr>\n",
       "      <th>8067</th>\n",
       "      <td>negative</td>\n",
       "      <td>Delta</td>\n",
       "      <td>@JetBlue what is going on with your BDL to DCA flights yesterday and today?! Why is every single one getting delayed?</td>\n",
       "    </tr>\n",
       "    <tr>\n",
       "      <th>8880</th>\n",
       "      <td>neutral</td>\n",
       "      <td>Delta</td>\n",
       "      <td>@JetBlue do they have to depart from Washington, D.C.??</td>\n",
       "    </tr>\n",
       "    <tr>\n",
       "      <th>8292</th>\n",
       "      <td>negative</td>\n",
       "      <td>Delta</td>\n",
       "      <td>@JetBlue I can probably find some of them. Are the ticket #s on there?</td>\n",
       "    </tr>\n",
       "  </tbody>\n",
       "</table>\n",
       "</div>"
      ],
      "text/plain": [
       "      airline_sentiment     airline  \\\n",
       "4794           positive   Southwest   \n",
       "10480          negative  US Airways   \n",
       "8067           negative       Delta   \n",
       "8880            neutral       Delta   \n",
       "8292           negative       Delta   \n",
       "\n",
       "                                                                                                                        text  \n",
       "4794                                                 @SouthwestAir you're my early frontrunner for best airline! #oscars2016  \n",
       "10480       @USAirways how is it that my flt to EWR was Cancelled Flightled yet flts to NYC from USAirways are still flying?  \n",
       "8067   @JetBlue what is going on with your BDL to DCA flights yesterday and today?! Why is every single one getting delayed?  \n",
       "8880                                                                 @JetBlue do they have to depart from Washington, D.C.??  \n",
       "8292                                                  @JetBlue I can probably find some of them. Are the ticket #s on there?  "
      ]
     },
     "execution_count": 22,
     "metadata": {},
     "output_type": "execute_result"
    }
   ],
   "source": [
    "df2['text'] = df2['text'].apply(lambda x: strip_html(x))\n",
    "df2.sample(5, random_state=42)"
   ]
  },
  {
   "cell_type": "markdown",
   "metadata": {},
   "source": [
    "> Recommend not to replace fields as hard to analyze processing steps, also danger of overwriting variables and errors\n"
   ]
  },
  {
   "cell_type": "code",
   "execution_count": 23,
   "metadata": {},
   "outputs": [],
   "source": [
    "df2['text'] = df2['text'].apply(lambda x: translate_emoji(x))"
   ]
  },
  {
   "cell_type": "code",
   "execution_count": 24,
   "metadata": {},
   "outputs": [
    {
     "name": "stdout",
     "output_type": "stream",
     "text": [
      "airline_sentiment                                               positive\n",
      "text                 @SouthwestAir Ahah😃💕🎵 That is why\\nI love SW✈❗(^^)❤\n",
      "Name: 5504, dtype: object\n",
      "airline_sentiment                                                                                                            negative\n",
      "text                 @AmericanAir this is the biggest joke of #customerservice I've ever seen from a  ✈️ brand http://t.co/XHSUUpHeZe\n",
      "Name: 13431, dtype: object\n"
     ]
    }
   ],
   "source": [
    "print(df1.loc[5504, ['airline_sentiment', 'text']])\n",
    "print(df1.loc[13431, ['airline_sentiment', 'text']])"
   ]
  },
  {
   "cell_type": "code",
   "execution_count": 25,
   "metadata": {},
   "outputs": [
    {
     "name": "stdout",
     "output_type": "stream",
     "text": [
      "airline_sentiment                                                                                                                                                                          positive\n",
      "text                 ['@SouthwestAir Ahah:grinning', 'face', 'with', 'big', 'eyes::two', 'hearts::musical', 'note: That is why\\nI love SW:airplane::red', 'exclamation', 'mark:(^^):red', 'heart:']\n",
      "Name: 5504, dtype: object\n",
      "airline_sentiment                                                                                                                        negative\n",
      "text                 [\"@AmericanAir this is the biggest joke of #customerservice I've ever seen from a  :airplane: brand http://t.co/XHSUUpHeZe\"]\n",
      "Name: 13431, dtype: object\n"
     ]
    }
   ],
   "source": [
    "print(df2.loc[5504, ['airline_sentiment', 'text']])\n",
    "print(df2.loc[13431, ['airline_sentiment', 'text']])"
   ]
  },
  {
   "cell_type": "markdown",
   "metadata": {},
   "source": [
    " - Emoji were successefully translated"
   ]
  },
  {
   "cell_type": "code",
   "execution_count": 26,
   "metadata": {},
   "outputs": [
    {
     "data": {
      "text/html": [
       "<div>\n",
       "<style scoped>\n",
       "    .dataframe tbody tr th:only-of-type {\n",
       "        vertical-align: middle;\n",
       "    }\n",
       "\n",
       "    .dataframe tbody tr th {\n",
       "        vertical-align: top;\n",
       "    }\n",
       "\n",
       "    .dataframe thead th {\n",
       "        text-align: right;\n",
       "    }\n",
       "</style>\n",
       "<table border=\"1\" class=\"dataframe\">\n",
       "  <thead>\n",
       "    <tr style=\"text-align: right;\">\n",
       "      <th></th>\n",
       "      <th>airline_sentiment</th>\n",
       "      <th>airline</th>\n",
       "      <th>text</th>\n",
       "    </tr>\n",
       "  </thead>\n",
       "  <tbody>\n",
       "    <tr>\n",
       "      <th>14635</th>\n",
       "      <td>positive</td>\n",
       "      <td>American</td>\n",
       "      <td>['@AmericanAir thank you we got on a different flight to Chicago.']</td>\n",
       "    </tr>\n",
       "    <tr>\n",
       "      <th>14636</th>\n",
       "      <td>negative</td>\n",
       "      <td>American</td>\n",
       "      <td>[\"@AmericanAir leaving over 20 minutes Late Flight. No warnings or communication until we were 15 minutes Late Flight. That's called shitty customer svc\"]</td>\n",
       "    </tr>\n",
       "    <tr>\n",
       "      <th>14637</th>\n",
       "      <td>neutral</td>\n",
       "      <td>American</td>\n",
       "      <td>['@AmericanAir Please bring American Airlines to #BlackBerry10']</td>\n",
       "    </tr>\n",
       "    <tr>\n",
       "      <th>14638</th>\n",
       "      <td>negative</td>\n",
       "      <td>American</td>\n",
       "      <td>[\"@AmericanAir you have my money, you change my flight, and don't answer your phones! Any other suggestions so I can make my commitment??\"]</td>\n",
       "    </tr>\n",
       "    <tr>\n",
       "      <th>14639</th>\n",
       "      <td>neutral</td>\n",
       "      <td>American</td>\n",
       "      <td>['@AmericanAir we have 8 ppl so we need 2 know how many seats are on the next flight. Plz put us on standby for 4 people on the next flight?']</td>\n",
       "    </tr>\n",
       "  </tbody>\n",
       "</table>\n",
       "</div>"
      ],
      "text/plain": [
       "      airline_sentiment   airline  \\\n",
       "14635          positive  American   \n",
       "14636          negative  American   \n",
       "14637           neutral  American   \n",
       "14638          negative  American   \n",
       "14639           neutral  American   \n",
       "\n",
       "                                                                                                                                                             text  \n",
       "14635                                                                                         ['@AmericanAir thank you we got on a different flight to Chicago.']  \n",
       "14636  [\"@AmericanAir leaving over 20 minutes Late Flight. No warnings or communication until we were 15 minutes Late Flight. That's called shitty customer svc\"]  \n",
       "14637                                                                                            ['@AmericanAir Please bring American Airlines to #BlackBerry10']  \n",
       "14638                 [\"@AmericanAir you have my money, you change my flight, and don't answer your phones! Any other suggestions so I can make my commitment??\"]  \n",
       "14639              ['@AmericanAir we have 8 ppl so we need 2 know how many seats are on the next flight. Plz put us on standby for 4 people on the next flight?']  "
      ]
     },
     "execution_count": 26,
     "metadata": {},
     "output_type": "execute_result"
    }
   ],
   "source": [
    "df2.tail()"
   ]
  },
  {
   "cell_type": "code",
   "execution_count": 27,
   "metadata": {
    "execution": {
     "iopub.execute_input": "2021-04-24T13:57:11.978306Z",
     "iopub.status.busy": "2021-04-24T13:57:11.978026Z",
     "iopub.status.idle": "2021-04-24T13:57:15.386811Z",
     "shell.execute_reply": "2021-04-24T13:57:15.385682Z",
     "shell.execute_reply.started": "2021-04-24T13:57:11.978267Z"
    }
   },
   "outputs": [
    {
     "data": {
      "text/html": [
       "<div>\n",
       "<style scoped>\n",
       "    .dataframe tbody tr th:only-of-type {\n",
       "        vertical-align: middle;\n",
       "    }\n",
       "\n",
       "    .dataframe tbody tr th {\n",
       "        vertical-align: top;\n",
       "    }\n",
       "\n",
       "    .dataframe thead th {\n",
       "        text-align: right;\n",
       "    }\n",
       "</style>\n",
       "<table border=\"1\" class=\"dataframe\">\n",
       "  <thead>\n",
       "    <tr style=\"text-align: right;\">\n",
       "      <th></th>\n",
       "      <th>airline_sentiment</th>\n",
       "      <th>airline</th>\n",
       "      <th>text</th>\n",
       "    </tr>\n",
       "  </thead>\n",
       "  <tbody>\n",
       "    <tr>\n",
       "      <th>14635</th>\n",
       "      <td>positive</td>\n",
       "      <td>American</td>\n",
       "      <td>['@AmericanAir thank you we got on a different flight to Chicago.']</td>\n",
       "    </tr>\n",
       "    <tr>\n",
       "      <th>14636</th>\n",
       "      <td>negative</td>\n",
       "      <td>American</td>\n",
       "      <td>[\"@AmericanAir leaving over 20 minutes Late Flight. No warnings or communication until we were 15 minutes Late Flight. that is called shitty customer svc\"]</td>\n",
       "    </tr>\n",
       "    <tr>\n",
       "      <th>14637</th>\n",
       "      <td>neutral</td>\n",
       "      <td>American</td>\n",
       "      <td>['@AmericanAir Please bring American Airlines to #BlackBerry10']</td>\n",
       "    </tr>\n",
       "    <tr>\n",
       "      <th>14638</th>\n",
       "      <td>negative</td>\n",
       "      <td>American</td>\n",
       "      <td>[\"@AmericanAir you have my money, you change my flight, and do not answer your phones! Any other suggestions so I can make my commitment??\"]</td>\n",
       "    </tr>\n",
       "    <tr>\n",
       "      <th>14639</th>\n",
       "      <td>neutral</td>\n",
       "      <td>American</td>\n",
       "      <td>['@AmericanAir we have 8 ppl so we need 2 know how many seats are on the next flight. Plz put us on standby for 4 people on the next flight?']</td>\n",
       "    </tr>\n",
       "  </tbody>\n",
       "</table>\n",
       "</div>"
      ],
      "text/plain": [
       "      airline_sentiment   airline  \\\n",
       "14635          positive  American   \n",
       "14636          negative  American   \n",
       "14637           neutral  American   \n",
       "14638          negative  American   \n",
       "14639           neutral  American   \n",
       "\n",
       "                                                                                                                                                              text  \n",
       "14635                                                                                          ['@AmericanAir thank you we got on a different flight to Chicago.']  \n",
       "14636  [\"@AmericanAir leaving over 20 minutes Late Flight. No warnings or communication until we were 15 minutes Late Flight. that is called shitty customer svc\"]  \n",
       "14637                                                                                             ['@AmericanAir Please bring American Airlines to #BlackBerry10']  \n",
       "14638                 [\"@AmericanAir you have my money, you change my flight, and do not answer your phones! Any other suggestions so I can make my commitment??\"]  \n",
       "14639               ['@AmericanAir we have 8 ppl so we need 2 know how many seats are on the next flight. Plz put us on standby for 4 people on the next flight?']  "
      ]
     },
     "execution_count": 27,
     "metadata": {},
     "output_type": "execute_result"
    }
   ],
   "source": [
    "df2['text'] = df2['text'].apply(lambda x: replace_contractions(x))\n",
    "\n",
    "df2.tail()"
   ]
  },
  {
   "cell_type": "code",
   "execution_count": 28,
   "metadata": {},
   "outputs": [
    {
     "data": {
      "text/html": [
       "<div>\n",
       "<style scoped>\n",
       "    .dataframe tbody tr th:only-of-type {\n",
       "        vertical-align: middle;\n",
       "    }\n",
       "\n",
       "    .dataframe tbody tr th {\n",
       "        vertical-align: top;\n",
       "    }\n",
       "\n",
       "    .dataframe thead th {\n",
       "        text-align: right;\n",
       "    }\n",
       "</style>\n",
       "<table border=\"1\" class=\"dataframe\">\n",
       "  <thead>\n",
       "    <tr style=\"text-align: right;\">\n",
       "      <th></th>\n",
       "      <th>airline_sentiment</th>\n",
       "      <th>airline</th>\n",
       "      <th>text</th>\n",
       "    </tr>\n",
       "  </thead>\n",
       "  <tbody>\n",
       "    <tr>\n",
       "      <th>14635</th>\n",
       "      <td>positive</td>\n",
       "      <td>American</td>\n",
       "      <td>['@AmericanAir thank you we got on a different flight to Chicago.']</td>\n",
       "    </tr>\n",
       "    <tr>\n",
       "      <th>14636</th>\n",
       "      <td>negative</td>\n",
       "      <td>American</td>\n",
       "      <td>[\"@AmericanAir leaving over  minutes Late Flight. No warnings or communication until we were  minutes Late Flight. that is called shitty customer svc\"]</td>\n",
       "    </tr>\n",
       "    <tr>\n",
       "      <th>14637</th>\n",
       "      <td>neutral</td>\n",
       "      <td>American</td>\n",
       "      <td>['@AmericanAir Please bring American Airlines to #BlackBerry']</td>\n",
       "    </tr>\n",
       "    <tr>\n",
       "      <th>14638</th>\n",
       "      <td>negative</td>\n",
       "      <td>American</td>\n",
       "      <td>[\"@AmericanAir you have my money, you change my flight, and do not answer your phones! Any other suggestions so I can make my commitment??\"]</td>\n",
       "    </tr>\n",
       "    <tr>\n",
       "      <th>14639</th>\n",
       "      <td>neutral</td>\n",
       "      <td>American</td>\n",
       "      <td>['@AmericanAir we have  ppl so we need  know how many seats are on the next flight. Plz put us on standby for  people on the next flight?']</td>\n",
       "    </tr>\n",
       "  </tbody>\n",
       "</table>\n",
       "</div>"
      ],
      "text/plain": [
       "      airline_sentiment   airline  \\\n",
       "14635          positive  American   \n",
       "14636          negative  American   \n",
       "14637           neutral  American   \n",
       "14638          negative  American   \n",
       "14639           neutral  American   \n",
       "\n",
       "                                                                                                                                                          text  \n",
       "14635                                                                                      ['@AmericanAir thank you we got on a different flight to Chicago.']  \n",
       "14636  [\"@AmericanAir leaving over  minutes Late Flight. No warnings or communication until we were  minutes Late Flight. that is called shitty customer svc\"]  \n",
       "14637                                                                                           ['@AmericanAir Please bring American Airlines to #BlackBerry']  \n",
       "14638             [\"@AmericanAir you have my money, you change my flight, and do not answer your phones! Any other suggestions so I can make my commitment??\"]  \n",
       "14639              ['@AmericanAir we have  ppl so we need  know how many seats are on the next flight. Plz put us on standby for  people on the next flight?']  "
      ]
     },
     "execution_count": 28,
     "metadata": {},
     "output_type": "execute_result"
    }
   ],
   "source": [
    "df2['text'] = df2['text'].apply(lambda x: remove_numbers(x))\n",
    "df2.tail()"
   ]
  },
  {
   "cell_type": "markdown",
   "metadata": {},
   "source": [
    "### Tokenization"
   ]
  },
  {
   "cell_type": "code",
   "execution_count": 29,
   "metadata": {
    "execution": {
     "iopub.execute_input": "2021-04-24T13:57:17.209288Z",
     "iopub.status.busy": "2021-04-24T13:57:17.207796Z",
     "iopub.status.idle": "2021-04-24T13:57:59.910369Z",
     "shell.execute_reply": "2021-04-24T13:57:59.900832Z",
     "shell.execute_reply.started": "2021-04-24T13:57:17.209231Z"
    },
    "id": "q0-yYsx68DxT"
   },
   "outputs": [
    {
     "data": {
      "text/html": [
       "<div>\n",
       "<style scoped>\n",
       "    .dataframe tbody tr th:only-of-type {\n",
       "        vertical-align: middle;\n",
       "    }\n",
       "\n",
       "    .dataframe tbody tr th {\n",
       "        vertical-align: top;\n",
       "    }\n",
       "\n",
       "    .dataframe thead th {\n",
       "        text-align: right;\n",
       "    }\n",
       "</style>\n",
       "<table border=\"1\" class=\"dataframe\">\n",
       "  <thead>\n",
       "    <tr style=\"text-align: right;\">\n",
       "      <th></th>\n",
       "      <th>airline_sentiment</th>\n",
       "      <th>airline</th>\n",
       "      <th>text</th>\n",
       "    </tr>\n",
       "  </thead>\n",
       "  <tbody>\n",
       "    <tr>\n",
       "      <th>14635</th>\n",
       "      <td>positive</td>\n",
       "      <td>American</td>\n",
       "      <td>[[, ', @, AmericanAir, thank, you, we, got, on, a, different, flight, to, Chicago, ., ', ]]</td>\n",
       "    </tr>\n",
       "    <tr>\n",
       "      <th>14636</th>\n",
       "      <td>negative</td>\n",
       "      <td>American</td>\n",
       "      <td>[[, ``, @, AmericanAir, leaving, over, minutes, Late, Flight, ., No, warnings, or, communication, until, we, were, minutes, Late, Flight, ., that, is, called, shitty, customer, svc, '', ]]</td>\n",
       "    </tr>\n",
       "    <tr>\n",
       "      <th>14637</th>\n",
       "      <td>neutral</td>\n",
       "      <td>American</td>\n",
       "      <td>[[, ', @, AmericanAir, Please, bring, American, Airlines, to, #, BlackBerry, ', ]]</td>\n",
       "    </tr>\n",
       "    <tr>\n",
       "      <th>14638</th>\n",
       "      <td>negative</td>\n",
       "      <td>American</td>\n",
       "      <td>[[, ``, @, AmericanAir, you, have, my, money, ,, you, change, my, flight, ,, and, do, not, answer, your, phones, !, Any, other, suggestions, so, I, can, make, my, commitment, ?, ?, '', ]]</td>\n",
       "    </tr>\n",
       "    <tr>\n",
       "      <th>14639</th>\n",
       "      <td>neutral</td>\n",
       "      <td>American</td>\n",
       "      <td>[[, ', @, AmericanAir, we, have, ppl, so, we, need, know, how, many, seats, are, on, the, next, flight, ., Plz, put, us, on, standby, for, people, on, the, next, flight, ?, ', ]]</td>\n",
       "    </tr>\n",
       "  </tbody>\n",
       "</table>\n",
       "</div>"
      ],
      "text/plain": [
       "      airline_sentiment   airline  \\\n",
       "14635          positive  American   \n",
       "14636          negative  American   \n",
       "14637           neutral  American   \n",
       "14638          negative  American   \n",
       "14639           neutral  American   \n",
       "\n",
       "                                                                                                                                                                                               text  \n",
       "14635                                                                                                   [[, ', @, AmericanAir, thank, you, we, got, on, a, different, flight, to, Chicago, ., ', ]]  \n",
       "14636  [[, ``, @, AmericanAir, leaving, over, minutes, Late, Flight, ., No, warnings, or, communication, until, we, were, minutes, Late, Flight, ., that, is, called, shitty, customer, svc, '', ]]  \n",
       "14637                                                                                                            [[, ', @, AmericanAir, Please, bring, American, Airlines, to, #, BlackBerry, ', ]]  \n",
       "14638   [[, ``, @, AmericanAir, you, have, my, money, ,, you, change, my, flight, ,, and, do, not, answer, your, phones, !, Any, other, suggestions, so, I, can, make, my, commitment, ?, ?, '', ]]  \n",
       "14639            [[, ', @, AmericanAir, we, have, ppl, so, we, need, know, how, many, seats, are, on, the, next, flight, ., Plz, put, us, on, standby, for, people, on, the, next, flight, ?, ', ]]  "
      ]
     },
     "execution_count": 29,
     "metadata": {},
     "output_type": "execute_result"
    }
   ],
   "source": [
    "df2['text'] = df2.apply(lambda row: nltk.word_tokenize(row['text']), axis=1) # Tokenization of data\n",
    "\n",
    "df2.tail()"
   ]
  },
  {
   "cell_type": "markdown",
   "metadata": {},
   "source": [
    " - Customizing stopwords list"
   ]
  },
  {
   "cell_type": "code",
   "execution_count": 30,
   "metadata": {
    "id": "zWZwuXaC-4qy"
   },
   "outputs": [],
   "source": [
    "stopwords = stopwords.words('english')\n",
    "\n",
    "customlist_to_remove = ['not', \"couldn't\", 'didn', \"didn't\", 'doesn', \"doesn't\", 'hadn', \"hadn't\", 'hasn',\n",
    "        \"hasn't\", 'haven', \"haven't\", 'isn', \"isn't\", 'ma', 'mightn', \"mightn't\", 'mustn',\n",
    "        \"mustn't\", 'needn', \"needn't\", 'shan', \"shan't\", 'shouldn', \"shouldn't\", 'wasn',\n",
    "        \"wasn't\", 'weren', \"weren't\", 'won', \"won't\", 'wouldn', \"wouldn't\"]\n",
    "\n",
    "customlist_to_add = ['http://t.co/XHSUUpHeZe', 'http', 'tcoxhsuupheze'] #found in text, must be remains from scraping..\n",
    "# Set custom stop-word's list as not, couldn't etc. words matter in Sentiment, so not removing them from original data.\n",
    "\n",
    "stopwords = list(set(stopwords) - set(customlist_to_remove))      \n",
    "stopwords += set(customlist_to_add)"
   ]
  },
  {
   "cell_type": "code",
   "execution_count": 31,
   "metadata": {},
   "outputs": [
    {
     "data": {
      "text/plain": [
       "['into',\n",
       " 'more',\n",
       " \"she's\",\n",
       " 've',\n",
       " 'on',\n",
       " 'because',\n",
       " 'same',\n",
       " 'their',\n",
       " 'through',\n",
       " 'i',\n",
       " 'below',\n",
       " 'is',\n",
       " 'she',\n",
       " 'themselves',\n",
       " 'that',\n",
       " 'been',\n",
       " \"don't\",\n",
       " 'from',\n",
       " 'itself',\n",
       " 'm',\n",
       " 'between',\n",
       " 'had',\n",
       " 'off',\n",
       " \"that'll\",\n",
       " 'own',\n",
       " 'its',\n",
       " 'doing',\n",
       " 'over',\n",
       " 'other',\n",
       " 'if',\n",
       " 'only',\n",
       " 'our',\n",
       " 'aren',\n",
       " 'they',\n",
       " 'which',\n",
       " 'the',\n",
       " 'why',\n",
       " 'both',\n",
       " 're',\n",
       " 'for',\n",
       " 'under',\n",
       " 'has',\n",
       " 'ours',\n",
       " 'couldn',\n",
       " 'my',\n",
       " 'in',\n",
       " 'her',\n",
       " 'ain',\n",
       " 'during',\n",
       " 'nor',\n",
       " 'than',\n",
       " 'll',\n",
       " 'then',\n",
       " 'your',\n",
       " 'being',\n",
       " 'me',\n",
       " 'by',\n",
       " 'were',\n",
       " 'down',\n",
       " 'here',\n",
       " 'this',\n",
       " \"you'll\",\n",
       " 'o',\n",
       " 'him',\n",
       " 'with',\n",
       " 'having',\n",
       " 'all',\n",
       " 'just',\n",
       " 'am',\n",
       " 's',\n",
       " \"it's\",\n",
       " 'any',\n",
       " 'we',\n",
       " 'yourself',\n",
       " 'as',\n",
       " 'can',\n",
       " \"you're\",\n",
       " 'an',\n",
       " 'such',\n",
       " 'very',\n",
       " 'but',\n",
       " 'theirs',\n",
       " \"aren't\",\n",
       " 'those',\n",
       " 'his',\n",
       " 'what',\n",
       " 'each',\n",
       " 'don',\n",
       " 'against',\n",
       " 'further',\n",
       " 'too',\n",
       " 'to',\n",
       " 'up',\n",
       " 'be',\n",
       " 'hers',\n",
       " 'should',\n",
       " 'who',\n",
       " 'myself',\n",
       " 'no',\n",
       " \"you've\",\n",
       " 'until',\n",
       " 'was',\n",
       " 'do',\n",
       " 'once',\n",
       " 'some',\n",
       " 'at',\n",
       " 'about',\n",
       " \"should've\",\n",
       " 'a',\n",
       " 'or',\n",
       " 'will',\n",
       " 'before',\n",
       " 'you',\n",
       " 'it',\n",
       " 'above',\n",
       " 'are',\n",
       " 'out',\n",
       " 'of',\n",
       " 'there',\n",
       " 'few',\n",
       " \"you'd\",\n",
       " 'again',\n",
       " 'them',\n",
       " 'whom',\n",
       " 'himself',\n",
       " 'does',\n",
       " 't',\n",
       " 'where',\n",
       " 'he',\n",
       " 'how',\n",
       " 'yourselves',\n",
       " 'y',\n",
       " 'after',\n",
       " 'herself',\n",
       " 'did',\n",
       " 'have',\n",
       " 'so',\n",
       " 'while',\n",
       " 'these',\n",
       " 'd',\n",
       " 'when',\n",
       " 'yours',\n",
       " 'and',\n",
       " 'ourselves',\n",
       " 'most',\n",
       " 'now',\n",
       " 'http',\n",
       " 'tcoxhsuupheze',\n",
       " 'http://t.co/XHSUUpHeZe']"
      ]
     },
     "execution_count": 31,
     "metadata": {},
     "output_type": "execute_result"
    }
   ],
   "source": [
    "stopwords"
   ]
  },
  {
   "cell_type": "markdown",
   "metadata": {},
   "source": [
    "### Part B"
   ]
  },
  {
   "cell_type": "code",
   "execution_count": 32,
   "metadata": {
    "colab": {
     "base_uri": "https://localhost:8080/",
     "height": 221
    },
    "id": "JZjCxefg7Et3",
    "outputId": "33f73fee-4c79-40bf-fd33-2431ffa32570"
   },
   "outputs": [],
   "source": [
    "lemmatizer = WordNetLemmatizer()\n",
    "\n",
    "def remove_non_ascii(words):\n",
    "    \"\"\"Remove non-ASCII characters from list of tokenized words\"\"\"\n",
    "    new_words = []\n",
    "    for word in words:\n",
    "        new_word = unicodedata.normalize('NFKD', word).encode('ascii', 'ignore').decode('utf-8', 'ignore')\n",
    "        new_words.append(new_word)\n",
    "    return new_words\n",
    "\n",
    "def to_lowercase(words):\n",
    "    \"\"\"Convert all characters to lowercase from list of tokenized words\"\"\"\n",
    "    new_words = []\n",
    "    for word in words:\n",
    "        new_word = word.lower()\n",
    "        new_words.append(new_word)\n",
    "    return new_words\n",
    "\n",
    "def remove_punctuation(words):\n",
    "    \"\"\"Remove punctuation from list of tokenized words\"\"\"\n",
    "    new_words = []\n",
    "    for word in words:\n",
    "        new_word = re.sub(r'[^\\w\\s]', '', word)\n",
    "        if new_word != '':\n",
    "            new_words.append(new_word)\n",
    "    return new_words\n",
    "\n",
    "def remove_stopwords(words):\n",
    "    \"\"\"Remove stop words from list of tokenized words\"\"\"\n",
    "    new_words = []\n",
    "    for word in words:\n",
    "        if word not in stopwords:\n",
    "            new_words.append(word)\n",
    "    return new_words\n",
    "\n",
    "def lemmatize_list(words):\n",
    "    new_words = []\n",
    "    for word in words:\n",
    "        new_words.append(lemmatizer.lemmatize(word, pos='v'))\n",
    "    return new_words\n",
    "\n",
    "def normalize(words):\n",
    "    words = remove_non_ascii(words)\n",
    "    words = to_lowercase(words)\n",
    "    words = remove_punctuation(words)\n",
    "    words = remove_stopwords(words)\n",
    "    words = lemmatize_list(words)\n",
    "    return ' '.join(words)\n"
   ]
  },
  {
   "cell_type": "markdown",
   "metadata": {},
   "source": [
    " - Part B pre-processing is summarized by function 'normalize'\n",
    " - Printing last and first rows after entire pre-processing"
   ]
  },
  {
   "cell_type": "code",
   "execution_count": 33,
   "metadata": {},
   "outputs": [
    {
     "data": {
      "text/html": [
       "<div>\n",
       "<style scoped>\n",
       "    .dataframe tbody tr th:only-of-type {\n",
       "        vertical-align: middle;\n",
       "    }\n",
       "\n",
       "    .dataframe tbody tr th {\n",
       "        vertical-align: top;\n",
       "    }\n",
       "\n",
       "    .dataframe thead th {\n",
       "        text-align: right;\n",
       "    }\n",
       "</style>\n",
       "<table border=\"1\" class=\"dataframe\">\n",
       "  <thead>\n",
       "    <tr style=\"text-align: right;\">\n",
       "      <th></th>\n",
       "      <th>airline_sentiment</th>\n",
       "      <th>airline</th>\n",
       "      <th>text</th>\n",
       "    </tr>\n",
       "  </thead>\n",
       "  <tbody>\n",
       "    <tr>\n",
       "      <th>14635</th>\n",
       "      <td>positive</td>\n",
       "      <td>American</td>\n",
       "      <td>americanair thank get different flight chicago</td>\n",
       "    </tr>\n",
       "    <tr>\n",
       "      <th>14636</th>\n",
       "      <td>negative</td>\n",
       "      <td>American</td>\n",
       "      <td>americanair leave minutes late flight warn communication minutes late flight call shitty customer svc</td>\n",
       "    </tr>\n",
       "    <tr>\n",
       "      <th>14637</th>\n",
       "      <td>neutral</td>\n",
       "      <td>American</td>\n",
       "      <td>americanair please bring american airlines blackberry</td>\n",
       "    </tr>\n",
       "    <tr>\n",
       "      <th>14638</th>\n",
       "      <td>negative</td>\n",
       "      <td>American</td>\n",
       "      <td>americanair money change flight not answer phone suggestions make commitment</td>\n",
       "    </tr>\n",
       "    <tr>\n",
       "      <th>14639</th>\n",
       "      <td>neutral</td>\n",
       "      <td>American</td>\n",
       "      <td>americanair ppl need know many seat next flight plz put us standby people next flight</td>\n",
       "    </tr>\n",
       "  </tbody>\n",
       "</table>\n",
       "</div>"
      ],
      "text/plain": [
       "      airline_sentiment   airline  \\\n",
       "14635          positive  American   \n",
       "14636          negative  American   \n",
       "14637           neutral  American   \n",
       "14638          negative  American   \n",
       "14639           neutral  American   \n",
       "\n",
       "                                                                                                        text  \n",
       "14635                                                         americanair thank get different flight chicago  \n",
       "14636  americanair leave minutes late flight warn communication minutes late flight call shitty customer svc  \n",
       "14637                                                  americanair please bring american airlines blackberry  \n",
       "14638                           americanair money change flight not answer phone suggestions make commitment  \n",
       "14639                  americanair ppl need know many seat next flight plz put us standby people next flight  "
      ]
     },
     "execution_count": 33,
     "metadata": {},
     "output_type": "execute_result"
    }
   ],
   "source": [
    "df2['text'] = df2.apply(lambda row: normalize(row['text']), axis=1)\n",
    "df2.tail()"
   ]
  },
  {
   "cell_type": "code",
   "execution_count": 34,
   "metadata": {},
   "outputs": [
    {
     "data": {
      "text/html": [
       "<div>\n",
       "<style scoped>\n",
       "    .dataframe tbody tr th:only-of-type {\n",
       "        vertical-align: middle;\n",
       "    }\n",
       "\n",
       "    .dataframe tbody tr th {\n",
       "        vertical-align: top;\n",
       "    }\n",
       "\n",
       "    .dataframe thead th {\n",
       "        text-align: right;\n",
       "    }\n",
       "</style>\n",
       "<table border=\"1\" class=\"dataframe\">\n",
       "  <thead>\n",
       "    <tr style=\"text-align: right;\">\n",
       "      <th></th>\n",
       "      <th>airline_sentiment</th>\n",
       "      <th>airline</th>\n",
       "      <th>text</th>\n",
       "    </tr>\n",
       "  </thead>\n",
       "  <tbody>\n",
       "    <tr>\n",
       "      <th>0</th>\n",
       "      <td>neutral</td>\n",
       "      <td>Virgin America</td>\n",
       "      <td>virginamerica dhepburn say</td>\n",
       "    </tr>\n",
       "    <tr>\n",
       "      <th>1</th>\n",
       "      <td>positive</td>\n",
       "      <td>Virgin America</td>\n",
       "      <td>virginamerica plus add commercials experience tacky</td>\n",
       "    </tr>\n",
       "    <tr>\n",
       "      <th>2</th>\n",
       "      <td>neutral</td>\n",
       "      <td>Virgin America</td>\n",
       "      <td>virginamerica not today must mean need take another trip</td>\n",
       "    </tr>\n",
       "    <tr>\n",
       "      <th>3</th>\n",
       "      <td>negative</td>\n",
       "      <td>Virgin America</td>\n",
       "      <td>virginamerica really aggressive blast obnoxious entertainment guests face little recourse</td>\n",
       "    </tr>\n",
       "    <tr>\n",
       "      <th>4</th>\n",
       "      <td>negative</td>\n",
       "      <td>Virgin America</td>\n",
       "      <td>virginamerica really big bad thing</td>\n",
       "    </tr>\n",
       "  </tbody>\n",
       "</table>\n",
       "</div>"
      ],
      "text/plain": [
       "  airline_sentiment         airline  \\\n",
       "0           neutral  Virgin America   \n",
       "1          positive  Virgin America   \n",
       "2           neutral  Virgin America   \n",
       "3          negative  Virgin America   \n",
       "4          negative  Virgin America   \n",
       "\n",
       "                                                                                        text  \n",
       "0                                                                 virginamerica dhepburn say  \n",
       "1                                        virginamerica plus add commercials experience tacky  \n",
       "2                                   virginamerica not today must mean need take another trip  \n",
       "3  virginamerica really aggressive blast obnoxious entertainment guests face little recourse  \n",
       "4                                                         virginamerica really big bad thing  "
      ]
     },
     "execution_count": 34,
     "metadata": {},
     "output_type": "execute_result"
    }
   ],
   "source": [
    "df2.head()"
   ]
  },
  {
   "cell_type": "code",
   "execution_count": 35,
   "metadata": {},
   "outputs": [
    {
     "name": "stdout",
     "output_type": "stream",
     "text": [
      "airline_sentiment                                                                                                             positive\n",
      "text                 southwestair ahah grin face big eye two hearts musical note whyni love sw airplane red exclamation mark red heart\n",
      "Name: 5504, dtype: object\n",
      "airline_sentiment                                                            negative\n",
      "text                 americanair biggest joke customerservice ever see airplane brand\n",
      "Name: 13431, dtype: object\n"
     ]
    }
   ],
   "source": [
    "print(df2.loc[5504, ['airline_sentiment', 'text']])\n",
    "print(df2.loc[13431, ['airline_sentiment', 'text']])"
   ]
  },
  {
   "cell_type": "markdown",
   "metadata": {},
   "source": [
    " - Former emojis look as a normal text now"
   ]
  },
  {
   "cell_type": "markdown",
   "metadata": {},
   "source": [
    "### Vectorization: \n",
    " - CountVectorizer and predictive modeling (Logistic Regression)\n",
    " - TfidfVectorizer and predictive modeling (Logistic Regression)"
   ]
  },
  {
   "cell_type": "markdown",
   "metadata": {},
   "source": [
    "### Count Vectorizer"
   ]
  },
  {
   "cell_type": "code",
   "execution_count": 36,
   "metadata": {
    "id": "9JqH_4JWOurH"
   },
   "outputs": [],
   "source": [
    "# Vectorization (Convert text data to numbers).\n",
    "\n",
    "vectorizer = CountVectorizer(max_features=1500)   # Keep only 1500 features as number of features is ~ only 15,000 \n",
    "                                                  #(# of rows better at least x10 larger than # of columns)\n"
   ]
  },
  {
   "cell_type": "code",
   "execution_count": 37,
   "metadata": {},
   "outputs": [
    {
     "data": {
      "text/plain": [
       "CountVectorizer(max_features=1500)"
      ]
     },
     "execution_count": 37,
     "metadata": {},
     "output_type": "execute_result"
    }
   ],
   "source": [
    "vectorizer.fit(df2['text'])\n"
   ]
  },
  {
   "cell_type": "code",
   "execution_count": 38,
   "metadata": {},
   "outputs": [
    {
     "data": {
      "text/plain": [
       "['aa',\n",
       " 'aadvantage',\n",
       " 'able',\n",
       " 'absolute',\n",
       " 'absolutely',\n",
       " 'absurd',\n",
       " 'accept',\n",
       " 'acceptable',\n",
       " 'access',\n",
       " 'accommodate',\n",
       " 'accord',\n",
       " 'account',\n",
       " 'acct',\n",
       " 'accurate',\n",
       " 'across',\n",
       " 'act',\n",
       " 'action',\n",
       " 'actual',\n",
       " 'actually',\n",
       " 'add',\n",
       " 'additional',\n",
       " 'address',\n",
       " 'admirals',\n",
       " 'advance',\n",
       " 'advantage',\n",
       " 'advertise',\n",
       " 'advise',\n",
       " 'advisory',\n",
       " 'affect',\n",
       " 'afford',\n",
       " 'afternoon',\n",
       " 'age',\n",
       " 'agent',\n",
       " 'agents',\n",
       " 'ago',\n",
       " 'ah',\n",
       " 'ahead',\n",
       " 'air',\n",
       " 'aircraft',\n",
       " 'airfare',\n",
       " 'airline',\n",
       " 'airlines',\n",
       " 'airplane',\n",
       " 'airport',\n",
       " 'airports',\n",
       " 'airways',\n",
       " 'alert',\n",
       " 'alist',\n",
       " 'allow',\n",
       " 'almost',\n",
       " 'alone',\n",
       " 'along',\n",
       " 'already',\n",
       " 'also',\n",
       " 'alternate',\n",
       " 'although',\n",
       " 'always',\n",
       " 'amaze',\n",
       " 'america',\n",
       " 'american',\n",
       " 'americanair',\n",
       " 'americanairlines',\n",
       " 'among',\n",
       " 'amount',\n",
       " 'angry',\n",
       " 'announce',\n",
       " 'announcement',\n",
       " 'annoy',\n",
       " 'another',\n",
       " 'answer',\n",
       " 'anymore',\n",
       " 'anyone',\n",
       " 'anything',\n",
       " 'anyway',\n",
       " 'anywhere',\n",
       " 'apologies',\n",
       " 'apologize',\n",
       " 'apology',\n",
       " 'app',\n",
       " 'apparently',\n",
       " 'appear',\n",
       " 'appease',\n",
       " 'apply',\n",
       " 'appreciate',\n",
       " 'approach',\n",
       " 'april',\n",
       " 'area',\n",
       " 'around',\n",
       " 'arrival',\n",
       " 'arrive',\n",
       " 'ashamed',\n",
       " 'ask',\n",
       " 'ass',\n",
       " 'assign',\n",
       " 'assist',\n",
       " 'assistance',\n",
       " 'assume',\n",
       " 'atl',\n",
       " 'atlanta',\n",
       " 'attempt',\n",
       " 'attend',\n",
       " 'attendant',\n",
       " 'attendants',\n",
       " 'attention',\n",
       " 'attitude',\n",
       " 'august',\n",
       " 'aus',\n",
       " 'austin',\n",
       " 'australia',\n",
       " 'auto',\n",
       " 'automate',\n",
       " 'automatically',\n",
       " 'avail',\n",
       " 'available',\n",
       " 'avgeek',\n",
       " 'aviation',\n",
       " 'avoid',\n",
       " 'award',\n",
       " 'aware',\n",
       " 'away',\n",
       " 'awesome',\n",
       " 'awful',\n",
       " 'ba',\n",
       " 'baby',\n",
       " 'back',\n",
       " 'bad',\n",
       " 'badcustomerservice',\n",
       " 'badservice',\n",
       " 'bag',\n",
       " 'baggage',\n",
       " 'balance',\n",
       " 'ball',\n",
       " 'bank',\n",
       " 'base',\n",
       " 'basically',\n",
       " 'battle',\n",
       " 'bc',\n",
       " 'bday',\n",
       " 'bdl',\n",
       " 'beach',\n",
       " 'beam',\n",
       " 'beat',\n",
       " 'beautiful',\n",
       " 'become',\n",
       " 'begin',\n",
       " 'behind',\n",
       " 'believe',\n",
       " 'benefit',\n",
       " 'best',\n",
       " 'bet',\n",
       " 'better',\n",
       " 'beyond',\n",
       " 'bf',\n",
       " 'big',\n",
       " 'bill',\n",
       " 'bin',\n",
       " 'bird',\n",
       " 'birthday',\n",
       " 'bite',\n",
       " 'biz',\n",
       " 'black',\n",
       " 'blame',\n",
       " 'blow',\n",
       " 'blue',\n",
       " 'bna',\n",
       " 'board',\n",
       " 'book',\n",
       " 'bos',\n",
       " 'boston',\n",
       " 'bother',\n",
       " 'brand',\n",
       " 'break',\n",
       " 'bring',\n",
       " 'brother',\n",
       " 'bs',\n",
       " 'btw',\n",
       " 'buf',\n",
       " 'buffalo',\n",
       " 'bump',\n",
       " 'bus',\n",
       " 'business',\n",
       " 'busy',\n",
       " 'button',\n",
       " 'buy',\n",
       " 'bwi',\n",
       " 'cab',\n",
       " 'cabin',\n",
       " 'california',\n",
       " 'call',\n",
       " 'callback',\n",
       " 'can',\n",
       " 'cancel',\n",
       " 'cancun',\n",
       " 'cant',\n",
       " 'captain',\n",
       " 'car',\n",
       " 'card',\n",
       " 'care',\n",
       " 'carousel',\n",
       " 'carrier',\n",
       " 'carriers',\n",
       " 'carrieunderwood',\n",
       " 'carry',\n",
       " 'carryon',\n",
       " 'case',\n",
       " 'catch',\n",
       " 'cater',\n",
       " 'cause',\n",
       " 'cc',\n",
       " 'cell',\n",
       " 'center',\n",
       " 'ceo',\n",
       " 'certain',\n",
       " 'certainly',\n",
       " 'certificate',\n",
       " 'chair',\n",
       " 'chairman',\n",
       " 'chance',\n",
       " 'change',\n",
       " 'character',\n",
       " 'charge',\n",
       " 'charlotte',\n",
       " 'chat',\n",
       " 'cheap',\n",
       " 'cheaper',\n",
       " 'check',\n",
       " 'checkin',\n",
       " 'cheer',\n",
       " 'chicago',\n",
       " 'child',\n",
       " 'children',\n",
       " 'choice',\n",
       " 'choose',\n",
       " 'cities',\n",
       " 'city',\n",
       " 'claim',\n",
       " 'clap',\n",
       " 'class',\n",
       " 'clean',\n",
       " 'clear',\n",
       " 'clearly',\n",
       " 'click',\n",
       " 'close',\n",
       " 'clothe',\n",
       " 'clt',\n",
       " 'club',\n",
       " 'clue',\n",
       " 'cmh',\n",
       " 'cmon',\n",
       " 'coach',\n",
       " 'coast',\n",
       " 'coat',\n",
       " 'code',\n",
       " 'coffee',\n",
       " 'cold',\n",
       " 'columbus',\n",
       " 'come',\n",
       " 'comment',\n",
       " 'commercial',\n",
       " 'communicate',\n",
       " 'communication',\n",
       " 'comp',\n",
       " 'companion',\n",
       " 'company',\n",
       " 'compassion',\n",
       " 'compensate',\n",
       " 'compensation',\n",
       " 'complain',\n",
       " 'complaint',\n",
       " 'complaints',\n",
       " 'complete',\n",
       " 'completely',\n",
       " 'computer',\n",
       " 'computers',\n",
       " 'concern',\n",
       " 'condition',\n",
       " 'conf',\n",
       " 'confirm',\n",
       " 'confirmation',\n",
       " 'confuse',\n",
       " 'congrats',\n",
       " 'connect',\n",
       " 'connection',\n",
       " 'connections',\n",
       " 'consider',\n",
       " 'contact',\n",
       " 'contest',\n",
       " 'continue',\n",
       " 'control',\n",
       " 'cool',\n",
       " 'corporate',\n",
       " 'correct',\n",
       " 'cost',\n",
       " 'could',\n",
       " 'count',\n",
       " 'counter',\n",
       " 'country',\n",
       " 'couple',\n",
       " 'course',\n",
       " 'courtesy',\n",
       " 'cover',\n",
       " 'crap',\n",
       " 'crappy',\n",
       " 'crash',\n",
       " 'crazy',\n",
       " 'create',\n",
       " 'credit',\n",
       " 'crew',\n",
       " 'cross',\n",
       " 'cry',\n",
       " 'cs',\n",
       " 'cun',\n",
       " 'current',\n",
       " 'currently',\n",
       " 'cust',\n",
       " 'customer',\n",
       " 'customers',\n",
       " 'customerservice',\n",
       " 'cut',\n",
       " 'dad',\n",
       " 'daily',\n",
       " 'dal',\n",
       " 'dallas',\n",
       " 'damage',\n",
       " 'damn',\n",
       " 'date',\n",
       " 'daughter',\n",
       " 'david',\n",
       " 'day',\n",
       " 'days',\n",
       " 'dc',\n",
       " 'dca',\n",
       " 'dead',\n",
       " 'deal',\n",
       " 'death',\n",
       " 'decide',\n",
       " 'decision',\n",
       " 'definitely',\n",
       " 'deice',\n",
       " 'delay',\n",
       " 'deliver',\n",
       " 'delivery',\n",
       " 'delta',\n",
       " 'den',\n",
       " 'denver',\n",
       " 'deny',\n",
       " 'depart',\n",
       " 'department',\n",
       " 'departure',\n",
       " 'deplane',\n",
       " 'dept',\n",
       " 'deserve',\n",
       " 'design',\n",
       " 'desk',\n",
       " 'despite',\n",
       " 'destination',\n",
       " 'destinationdragons',\n",
       " 'detail',\n",
       " 'dfw',\n",
       " 'dfwairport',\n",
       " 'dia',\n",
       " 'die',\n",
       " 'diego',\n",
       " 'diff',\n",
       " 'difference',\n",
       " 'different',\n",
       " 'difficult',\n",
       " 'dinner',\n",
       " 'direct',\n",
       " 'directly',\n",
       " 'dirty',\n",
       " 'disappear',\n",
       " 'disappoint',\n",
       " 'disappointment',\n",
       " 'disaster',\n",
       " 'disconnect',\n",
       " 'discount',\n",
       " 'discuss',\n",
       " 'disgust',\n",
       " 'divert',\n",
       " 'dividend',\n",
       " 'dm',\n",
       " 'dmed',\n",
       " 'do',\n",
       " 'dog',\n",
       " 'dollars',\n",
       " 'domestic',\n",
       " 'dont',\n",
       " 'door',\n",
       " 'doors',\n",
       " 'double',\n",
       " 'dragons',\n",
       " 'dragonss',\n",
       " 'dream',\n",
       " 'drink',\n",
       " 'drive',\n",
       " 'drop',\n",
       " 'due',\n",
       " 'dull',\n",
       " 'earlier',\n",
       " 'early',\n",
       " 'earn',\n",
       " 'easier',\n",
       " 'easily',\n",
       " 'east',\n",
       " 'easy',\n",
       " 'eat',\n",
       " 'economy',\n",
       " 'effort',\n",
       " 'either',\n",
       " 'elevate',\n",
       " 'elite',\n",
       " 'else',\n",
       " 'email',\n",
       " 'embarrass',\n",
       " 'emergency',\n",
       " 'employee',\n",
       " 'employees',\n",
       " 'empty',\n",
       " 'end',\n",
       " 'engine',\n",
       " 'enjoy',\n",
       " 'enough',\n",
       " 'enter',\n",
       " 'entertainment',\n",
       " 'entire',\n",
       " 'epicfail',\n",
       " 'equipment',\n",
       " 'error',\n",
       " 'errors',\n",
       " 'especially',\n",
       " 'est',\n",
       " 'estimate',\n",
       " 'etc',\n",
       " 'even',\n",
       " 'event',\n",
       " 'eventually',\n",
       " 'ever',\n",
       " 'every',\n",
       " 'everyone',\n",
       " 'everything',\n",
       " 'ewr',\n",
       " 'exact',\n",
       " 'exactly',\n",
       " 'example',\n",
       " 'excellent',\n",
       " 'except',\n",
       " 'excite',\n",
       " 'excuse',\n",
       " 'exec',\n",
       " 'exist',\n",
       " 'exit',\n",
       " 'expect',\n",
       " 'expensive',\n",
       " 'experience',\n",
       " 'expire',\n",
       " 'explain',\n",
       " 'explanation',\n",
       " 'express',\n",
       " 'extend',\n",
       " 'extra',\n",
       " 'extremely',\n",
       " 'eye',\n",
       " 'fa',\n",
       " 'faa',\n",
       " 'face',\n",
       " 'fact',\n",
       " 'fail',\n",
       " 'failure',\n",
       " 'fair',\n",
       " 'fall',\n",
       " 'false',\n",
       " 'fam',\n",
       " 'family',\n",
       " 'fan',\n",
       " 'fantastic',\n",
       " 'far',\n",
       " 'fare',\n",
       " 'fast',\n",
       " 'faster',\n",
       " 'father',\n",
       " 'fault',\n",
       " 'favorite',\n",
       " 'fb',\n",
       " 'feature',\n",
       " 'feb',\n",
       " 'february',\n",
       " 'fee',\n",
       " 'feedback',\n",
       " 'feel',\n",
       " 'feet',\n",
       " 'felt',\n",
       " 'field',\n",
       " 'fight',\n",
       " 'figure',\n",
       " 'file',\n",
       " 'fill',\n",
       " 'final',\n",
       " 'finally',\n",
       " 'find',\n",
       " 'fine',\n",
       " 'finger',\n",
       " 'finish',\n",
       " 'fire',\n",
       " 'first',\n",
       " 'fit',\n",
       " 'five',\n",
       " 'fix',\n",
       " 'fl',\n",
       " 'fleek',\n",
       " 'fleet',\n",
       " 'flight',\n",
       " 'flightation',\n",
       " 'flightations',\n",
       " 'flightd',\n",
       " 'flightlation',\n",
       " 'flightlations',\n",
       " 'flightled',\n",
       " 'flightling',\n",
       " 'flightr',\n",
       " 'fll',\n",
       " 'floor',\n",
       " 'florida',\n",
       " 'flt',\n",
       " 'flts',\n",
       " 'fly',\n",
       " 'flyer',\n",
       " 'flyers',\n",
       " 'flyfi',\n",
       " 'flyingitforward',\n",
       " 'fold',\n",
       " 'folks',\n",
       " 'follow',\n",
       " 'food',\n",
       " 'force',\n",
       " 'forever',\n",
       " 'forget',\n",
       " 'form',\n",
       " 'fort',\n",
       " 'fortunemagazine',\n",
       " 'forward',\n",
       " 'four',\n",
       " 'fraud',\n",
       " 'freak',\n",
       " 'free',\n",
       " 'freeze',\n",
       " 'frequent',\n",
       " 'friday',\n",
       " 'friend',\n",
       " 'friendly',\n",
       " 'friends',\n",
       " 'frm',\n",
       " 'front',\n",
       " 'frustrate',\n",
       " 'frustration',\n",
       " 'ft',\n",
       " 'fuck',\n",
       " 'fuel',\n",
       " 'full',\n",
       " 'fun',\n",
       " 'fund',\n",
       " 'funeral',\n",
       " 'funny',\n",
       " 'future',\n",
       " 'fyi',\n",
       " 'game',\n",
       " 'garbage',\n",
       " 'gate',\n",
       " 'gear',\n",
       " 'get',\n",
       " 'gift',\n",
       " 'girl',\n",
       " 'give',\n",
       " 'glad',\n",
       " 'glass',\n",
       " 'global',\n",
       " 'go',\n",
       " 'god',\n",
       " 'gold',\n",
       " 'golf',\n",
       " 'good',\n",
       " 'great',\n",
       " 'grin',\n",
       " 'grind',\n",
       " 'group',\n",
       " 'grow',\n",
       " 'guarantee',\n",
       " 'guess',\n",
       " 'guy',\n",
       " 'ha',\n",
       " 'haha',\n",
       " 'half',\n",
       " 'hand',\n",
       " 'handle',\n",
       " 'hang',\n",
       " 'happen',\n",
       " 'happy',\n",
       " 'hard',\n",
       " 'hat',\n",
       " 'hate',\n",
       " 'hawaii',\n",
       " 'head',\n",
       " 'hear',\n",
       " 'heart',\n",
       " 'hearteyes',\n",
       " 'heat',\n",
       " 'heathrow',\n",
       " 'hell',\n",
       " 'hello',\n",
       " 'help',\n",
       " 'helpful',\n",
       " 'hey',\n",
       " 'hi',\n",
       " 'high',\n",
       " 'higher',\n",
       " 'hire',\n",
       " 'hit',\n",
       " 'hold',\n",
       " 'home',\n",
       " 'honest',\n",
       " 'honestly',\n",
       " 'honeymoon',\n",
       " 'honor',\n",
       " 'hook',\n",
       " 'hop',\n",
       " 'hope',\n",
       " 'hopefully',\n",
       " 'horrible',\n",
       " 'hostage',\n",
       " 'hot',\n",
       " 'hotel',\n",
       " 'hotels',\n",
       " 'hour',\n",
       " 'hours',\n",
       " 'house',\n",
       " 'houston',\n",
       " 'however',\n",
       " 'hr',\n",
       " 'hrs',\n",
       " 'https',\n",
       " 'huge',\n",
       " 'human',\n",
       " 'hundreds',\n",
       " 'hunt',\n",
       " 'husband',\n",
       " 'iad',\n",
       " 'iah',\n",
       " 'ice',\n",
       " 'id',\n",
       " 'idea',\n",
       " 'ignore',\n",
       " 'ill',\n",
       " 'imagine',\n",
       " 'imaginedragons',\n",
       " 'immediately',\n",
       " 'important',\n",
       " 'impossible',\n",
       " 'impress',\n",
       " 'improve',\n",
       " 'inbound',\n",
       " 'include',\n",
       " 'incompetence',\n",
       " 'incompetent',\n",
       " 'inconvenience',\n",
       " 'inconvenient',\n",
       " 'incredible',\n",
       " 'incredibly',\n",
       " 'infant',\n",
       " 'inflight',\n",
       " 'info',\n",
       " 'inform',\n",
       " 'information',\n",
       " 'insane',\n",
       " 'inside',\n",
       " 'instead',\n",
       " 'insult',\n",
       " 'int',\n",
       " 'interest',\n",
       " 'international',\n",
       " 'internet',\n",
       " 'interview',\n",
       " 'intl',\n",
       " 'ios',\n",
       " 'ipad',\n",
       " 'iphone',\n",
       " 'issue',\n",
       " 'item',\n",
       " 'items',\n",
       " 'itinerary',\n",
       " 'jack',\n",
       " 'jan',\n",
       " 'jb',\n",
       " 'jblu',\n",
       " 'jet',\n",
       " 'jetblue',\n",
       " 'jetway',\n",
       " 'jfk',\n",
       " 'jh',\n",
       " 'job',\n",
       " 'join',\n",
       " 'joke',\n",
       " 'journal',\n",
       " 'joy',\n",
       " 'juan',\n",
       " 'jump',\n",
       " 'keep',\n",
       " 'kick',\n",
       " 'kid',\n",
       " 'kill',\n",
       " 'kind',\n",
       " 'know',\n",
       " 'kp',\n",
       " 'kudos',\n",
       " 'la',\n",
       " 'lack',\n",
       " 'lady',\n",
       " 'ladygaga',\n",
       " 'laguardia',\n",
       " 'lame',\n",
       " 'land',\n",
       " 'lap',\n",
       " 'laptop',\n",
       " 'large',\n",
       " 'las',\n",
       " 'last',\n",
       " 'late',\n",
       " 'lauderdale',\n",
       " 'lax',\n",
       " 'layover',\n",
       " 'lead',\n",
       " 'learn',\n",
       " 'least',\n",
       " 'leave',\n",
       " 'leg',\n",
       " 'legroom',\n",
       " 'legs',\n",
       " 'less',\n",
       " 'lesson',\n",
       " 'let',\n",
       " 'letter',\n",
       " 'level',\n",
       " 'lga',\n",
       " 'lhr',\n",
       " 'lie',\n",
       " 'life',\n",
       " 'light',\n",
       " 'like',\n",
       " 'likely',\n",
       " 'limit',\n",
       " 'line',\n",
       " 'link',\n",
       " 'list',\n",
       " 'listen',\n",
       " 'literally',\n",
       " 'little',\n",
       " 'live',\n",
       " 'load',\n",
       " 'locate',\n",
       " 'locator',\n",
       " 'log',\n",
       " 'logan',\n",
       " 'lol',\n",
       " 'london',\n",
       " 'long',\n",
       " 'longer',\n",
       " 'look',\n",
       " 'lose',\n",
       " 'lot',\n",
       " 'loudly',\n",
       " 'lounge',\n",
       " 'love',\n",
       " 'lovely',\n",
       " 'low',\n",
       " 'lower',\n",
       " 'loyal',\n",
       " 'loyalty',\n",
       " 'luck',\n",
       " 'lucky',\n",
       " 'luggage',\n",
       " 'mad',\n",
       " 'mail',\n",
       " 'main',\n",
       " 'maintenance',\n",
       " 'major',\n",
       " 'make',\n",
       " 'man',\n",
       " 'manage',\n",
       " 'management',\n",
       " 'manager',\n",
       " 'many',\n",
       " 'march',\n",
       " 'mark',\n",
       " 'market',\n",
       " 'match',\n",
       " 'matter',\n",
       " 'may',\n",
       " 'maybe',\n",
       " 'mci',\n",
       " 'mco',\n",
       " 'mdw',\n",
       " 'meal',\n",
       " 'meals',\n",
       " 'mean',\n",
       " 'mechanical',\n",
       " 'mechanics',\n",
       " 'media',\n",
       " 'medical',\n",
       " 'meet',\n",
       " 'member',\n",
       " 'members',\n",
       " 'memphis',\n",
       " 'mention',\n",
       " 'merge',\n",
       " 'merger',\n",
       " 'mess',\n",
       " 'message',\n",
       " 'method',\n",
       " 'mexico',\n",
       " 'mia',\n",
       " 'miami',\n",
       " 'middle',\n",
       " 'midnight',\n",
       " 'might',\n",
       " 'mileage',\n",
       " 'mileageplus',\n",
       " 'miles',\n",
       " 'military',\n",
       " 'million',\n",
       " 'min',\n",
       " 'mind',\n",
       " 'mine',\n",
       " 'minor',\n",
       " 'mins',\n",
       " 'mint',\n",
       " 'minute',\n",
       " 'minutes',\n",
       " 'miserable',\n",
       " 'miss',\n",
       " 'mistake',\n",
       " 'mke',\n",
       " 'mobile',\n",
       " 'model',\n",
       " 'mom',\n",
       " 'moment',\n",
       " 'monday',\n",
       " 'money',\n",
       " 'month',\n",
       " 'months',\n",
       " 'morning',\n",
       " 'mother',\n",
       " 'move',\n",
       " 'msg',\n",
       " 'msp',\n",
       " 'much',\n",
       " 'multiple',\n",
       " 'music',\n",
       " 'must',\n",
       " 'nah',\n",
       " 'name',\n",
       " 'nashville',\n",
       " 'nasty',\n",
       " 'nc',\n",
       " 'nd',\n",
       " 'near',\n",
       " 'nearly',\n",
       " 'need',\n",
       " 'never',\n",
       " 'neveragain',\n",
       " 'new',\n",
       " 'newark',\n",
       " 'news',\n",
       " 'next',\n",
       " 'nhttp',\n",
       " 'nice',\n",
       " 'night',\n",
       " 'nightmare',\n",
       " 'nobody',\n",
       " 'non',\n",
       " 'none',\n",
       " 'nonstop',\n",
       " 'nope',\n",
       " 'normal',\n",
       " 'not',\n",
       " 'note',\n",
       " 'nothappy',\n",
       " 'nothing',\n",
       " 'notice',\n",
       " 'notification',\n",
       " 'notifications',\n",
       " 'notify',\n",
       " 'number',\n",
       " 'nut',\n",
       " 'ny',\n",
       " 'nyc',\n",
       " 'obviously',\n",
       " 'offer',\n",
       " 'office',\n",
       " 'official',\n",
       " 'officially',\n",
       " 'ofhare',\n",
       " 'often',\n",
       " 'oh',\n",
       " 'ok',\n",
       " 'okay',\n",
       " 'okc',\n",
       " 'old',\n",
       " 'omg',\n",
       " 'onboard',\n",
       " 'one',\n",
       " 'ones',\n",
       " 'online',\n",
       " 'ontime',\n",
       " 'onto',\n",
       " 'open',\n",
       " 'operate',\n",
       " 'opportunity',\n",
       " 'option',\n",
       " 'options',\n",
       " 'ord',\n",
       " 'order',\n",
       " 'original',\n",
       " 'originally',\n",
       " 'orlando',\n",
       " 'oscars',\n",
       " 'others',\n",
       " 'otherwise',\n",
       " 'outbound',\n",
       " 'outlets',\n",
       " 'outside',\n",
       " 'outstanding',\n",
       " 'overbooked',\n",
       " 'overhead',\n",
       " 'overnight',\n",
       " 'pa',\n",
       " 'pack',\n",
       " 'page',\n",
       " 'pair',\n",
       " 'palm',\n",
       " 'paper',\n",
       " 'parent',\n",
       " 'paris',\n",
       " 'park',\n",
       " 'part',\n",
       " 'partner',\n",
       " 'party',\n",
       " 'pass',\n",
       " 'passbook',\n",
       " 'passenger',\n",
       " 'passengers',\n",
       " 'past',\n",
       " 'pathetic',\n",
       " 'patience',\n",
       " 'patient',\n",
       " 'pax',\n",
       " 'pay',\n",
       " 'pbi',\n",
       " 'pdx',\n",
       " 'peanuts',\n",
       " 'pensive',\n",
       " 'people',\n",
       " 'per',\n",
       " 'perfect',\n",
       " 'perhaps',\n",
       " 'person',\n",
       " 'personal',\n",
       " 'personnel',\n",
       " 'philadelphia',\n",
       " 'philly',\n",
       " 'phl',\n",
       " 'phlairport',\n",
       " 'phoenix',\n",
       " 'phone',\n",
       " 'photo',\n",
       " 'phx',\n",
       " 'pic',\n",
       " 'pick',\n",
       " 'picture',\n",
       " 'piece',\n",
       " 'pilot',\n",
       " 'piss',\n",
       " 'pit',\n",
       " 'pittsburgh',\n",
       " 'place',\n",
       " 'plan',\n",
       " 'plane',\n",
       " 'platinum',\n",
       " 'play',\n",
       " 'pleasant',\n",
       " 'please',\n",
       " 'plenty',\n",
       " 'pls',\n",
       " 'plus',\n",
       " 'plz',\n",
       " 'pm',\n",
       " 'point',\n",
       " 'police',\n",
       " 'policies',\n",
       " 'policy',\n",
       " 'poor',\n",
       " 'poorly',\n",
       " ...]"
      ]
     },
     "execution_count": 38,
     "metadata": {},
     "output_type": "execute_result"
    }
   ],
   "source": [
    "voc_list = vectorizer.get_feature_names()\n",
    "voc_list.sort()\n",
    "voc_list"
   ]
  },
  {
   "cell_type": "markdown",
   "metadata": {},
   "source": [
    "#### Assigning numbered 'sentiment_score' instead of object text in 'airline_sentiment' for easier classification"
   ]
  },
  {
   "cell_type": "code",
   "execution_count": 39,
   "metadata": {},
   "outputs": [
    {
     "data": {
      "text/html": [
       "<div>\n",
       "<style scoped>\n",
       "    .dataframe tbody tr th:only-of-type {\n",
       "        vertical-align: middle;\n",
       "    }\n",
       "\n",
       "    .dataframe tbody tr th {\n",
       "        vertical-align: top;\n",
       "    }\n",
       "\n",
       "    .dataframe thead th {\n",
       "        text-align: right;\n",
       "    }\n",
       "</style>\n",
       "<table border=\"1\" class=\"dataframe\">\n",
       "  <thead>\n",
       "    <tr style=\"text-align: right;\">\n",
       "      <th></th>\n",
       "      <th>airline_sentiment</th>\n",
       "      <th>airline</th>\n",
       "      <th>text</th>\n",
       "      <th>sentiment_score</th>\n",
       "    </tr>\n",
       "  </thead>\n",
       "  <tbody>\n",
       "    <tr>\n",
       "      <th>0</th>\n",
       "      <td>neutral</td>\n",
       "      <td>Virgin America</td>\n",
       "      <td>virginamerica dhepburn say</td>\n",
       "      <td>0</td>\n",
       "    </tr>\n",
       "    <tr>\n",
       "      <th>1</th>\n",
       "      <td>positive</td>\n",
       "      <td>Virgin America</td>\n",
       "      <td>virginamerica plus add commercials experience tacky</td>\n",
       "      <td>0</td>\n",
       "    </tr>\n",
       "    <tr>\n",
       "      <th>2</th>\n",
       "      <td>neutral</td>\n",
       "      <td>Virgin America</td>\n",
       "      <td>virginamerica not today must mean need take another trip</td>\n",
       "      <td>0</td>\n",
       "    </tr>\n",
       "    <tr>\n",
       "      <th>3</th>\n",
       "      <td>negative</td>\n",
       "      <td>Virgin America</td>\n",
       "      <td>virginamerica really aggressive blast obnoxious entertainment guests face little recourse</td>\n",
       "      <td>0</td>\n",
       "    </tr>\n",
       "    <tr>\n",
       "      <th>4</th>\n",
       "      <td>negative</td>\n",
       "      <td>Virgin America</td>\n",
       "      <td>virginamerica really big bad thing</td>\n",
       "      <td>0</td>\n",
       "    </tr>\n",
       "  </tbody>\n",
       "</table>\n",
       "</div>"
      ],
      "text/plain": [
       "  airline_sentiment         airline  \\\n",
       "0           neutral  Virgin America   \n",
       "1          positive  Virgin America   \n",
       "2           neutral  Virgin America   \n",
       "3          negative  Virgin America   \n",
       "4          negative  Virgin America   \n",
       "\n",
       "                                                                                        text  \\\n",
       "0                                                                 virginamerica dhepburn say   \n",
       "1                                        virginamerica plus add commercials experience tacky   \n",
       "2                                   virginamerica not today must mean need take another trip   \n",
       "3  virginamerica really aggressive blast obnoxious entertainment guests face little recourse   \n",
       "4                                                         virginamerica really big bad thing   \n",
       "\n",
       "   sentiment_score  \n",
       "0                0  \n",
       "1                0  \n",
       "2                0  \n",
       "3                0  \n",
       "4                0  "
      ]
     },
     "execution_count": 39,
     "metadata": {},
     "output_type": "execute_result"
    }
   ],
   "source": [
    "df2['sentiment_score'] = 0\n",
    "df2.head()"
   ]
  },
  {
   "cell_type": "code",
   "execution_count": 40,
   "metadata": {},
   "outputs": [
    {
     "data": {
      "text/html": [
       "<div>\n",
       "<style scoped>\n",
       "    .dataframe tbody tr th:only-of-type {\n",
       "        vertical-align: middle;\n",
       "    }\n",
       "\n",
       "    .dataframe tbody tr th {\n",
       "        vertical-align: top;\n",
       "    }\n",
       "\n",
       "    .dataframe thead th {\n",
       "        text-align: right;\n",
       "    }\n",
       "</style>\n",
       "<table border=\"1\" class=\"dataframe\">\n",
       "  <thead>\n",
       "    <tr style=\"text-align: right;\">\n",
       "      <th></th>\n",
       "      <th>airline_sentiment</th>\n",
       "      <th>airline</th>\n",
       "      <th>text</th>\n",
       "      <th>sentiment_score</th>\n",
       "    </tr>\n",
       "  </thead>\n",
       "  <tbody>\n",
       "    <tr>\n",
       "      <th>0</th>\n",
       "      <td>neutral</td>\n",
       "      <td>Virgin America</td>\n",
       "      <td>virginamerica dhepburn say</td>\n",
       "      <td>0</td>\n",
       "    </tr>\n",
       "    <tr>\n",
       "      <th>1</th>\n",
       "      <td>positive</td>\n",
       "      <td>Virgin America</td>\n",
       "      <td>virginamerica plus add commercials experience tacky</td>\n",
       "      <td>1</td>\n",
       "    </tr>\n",
       "    <tr>\n",
       "      <th>2</th>\n",
       "      <td>neutral</td>\n",
       "      <td>Virgin America</td>\n",
       "      <td>virginamerica not today must mean need take another trip</td>\n",
       "      <td>0</td>\n",
       "    </tr>\n",
       "    <tr>\n",
       "      <th>3</th>\n",
       "      <td>negative</td>\n",
       "      <td>Virgin America</td>\n",
       "      <td>virginamerica really aggressive blast obnoxious entertainment guests face little recourse</td>\n",
       "      <td>-1</td>\n",
       "    </tr>\n",
       "    <tr>\n",
       "      <th>4</th>\n",
       "      <td>negative</td>\n",
       "      <td>Virgin America</td>\n",
       "      <td>virginamerica really big bad thing</td>\n",
       "      <td>-1</td>\n",
       "    </tr>\n",
       "  </tbody>\n",
       "</table>\n",
       "</div>"
      ],
      "text/plain": [
       "  airline_sentiment         airline  \\\n",
       "0           neutral  Virgin America   \n",
       "1          positive  Virgin America   \n",
       "2           neutral  Virgin America   \n",
       "3          negative  Virgin America   \n",
       "4          negative  Virgin America   \n",
       "\n",
       "                                                                                        text  \\\n",
       "0                                                                 virginamerica dhepburn say   \n",
       "1                                        virginamerica plus add commercials experience tacky   \n",
       "2                                   virginamerica not today must mean need take another trip   \n",
       "3  virginamerica really aggressive blast obnoxious entertainment guests face little recourse   \n",
       "4                                                         virginamerica really big bad thing   \n",
       "\n",
       "   sentiment_score  \n",
       "0                0  \n",
       "1                1  \n",
       "2                0  \n",
       "3               -1  \n",
       "4               -1  "
      ]
     },
     "execution_count": 40,
     "metadata": {},
     "output_type": "execute_result"
    }
   ],
   "source": [
    "df2.loc[(df2['airline_sentiment']=='negative'), 'sentiment_score'] = -1\n",
    "df2.loc[(df2['airline_sentiment']=='positive'), 'sentiment_score'] = 1\n",
    "\n",
    "df2.head()"
   ]
  },
  {
   "cell_type": "code",
   "execution_count": 41,
   "metadata": {},
   "outputs": [
    {
     "name": "stdout",
     "output_type": "stream",
     "text": [
      "negative    0.626913\n",
      "neutral     0.211680\n",
      "positive    0.161407\n",
      "Name: airline_sentiment, dtype: float64\n",
      "-1    0.626913\n",
      " 0    0.211680\n",
      " 1    0.161407\n",
      "Name: sentiment_score, dtype: float64\n"
     ]
    }
   ],
   "source": [
    "print(df2['airline_sentiment'].value_counts(normalize=True))\n",
    "print(df2['sentiment_score'].value_counts(normalize=True))"
   ]
  },
  {
   "cell_type": "markdown",
   "metadata": {},
   "source": [
    "> Conversion is matching the original sentiment classes"
   ]
  },
  {
   "cell_type": "code",
   "execution_count": 42,
   "metadata": {},
   "outputs": [],
   "source": [
    "data_features = vectorizer.transform(df2['text']).toarray()   # Convert the data features to array.\n",
    "\n",
    "\n",
    "data_features = data_features    # X data                 "
   ]
  },
  {
   "cell_type": "code",
   "execution_count": 43,
   "metadata": {
    "colab": {
     "base_uri": "https://localhost:8080/"
    },
    "id": "R-xSq6Y-YN3f",
    "outputId": "ca5ff29d-99ec-4a63-e3fb-2dc8f8038b45"
   },
   "outputs": [
    {
     "data": {
      "text/plain": [
       "(14640, 1500)"
      ]
     },
     "execution_count": 43,
     "metadata": {},
     "output_type": "execute_result"
    }
   ],
   "source": [
    "data_features.shape"
   ]
  },
  {
   "cell_type": "markdown",
   "metadata": {},
   "source": [
    " - 1500 < 14640, looks OK"
   ]
  },
  {
   "cell_type": "markdown",
   "metadata": {},
   "source": [
    "#### Assigning data for X and y, splitting the data  "
   ]
  },
  {
   "cell_type": "code",
   "execution_count": 44,
   "metadata": {
    "id": "rt_rjzW51fx8"
   },
   "outputs": [],
   "source": [
    "labels = df2['sentiment_score']\n",
    "labels = labels.astype(int)"
   ]
  },
  {
   "cell_type": "code",
   "execution_count": 45,
   "metadata": {
    "id": "nuBWTlx_ZlRo"
   },
   "outputs": [],
   "source": [
    "# Split data into training and testing set.\n",
    "\n",
    "X_train, X_test, y_train, y_test = train_test_split(data_features, \n",
    "                                                    labels, \n",
    "                                                    test_size=0.25, \n",
    "                                                    stratify=labels, \n",
    "                                                    random_state=423)"
   ]
  },
  {
   "cell_type": "markdown",
   "metadata": {},
   "source": [
    "### Logistic Regression as base model (fast classification)\n",
    " - Plus with 'class_weight' hyperparameter, which is better for the unbalanced data as this one\n",
    "  - 'Neutral' sentiments are the most difficult to distinguish, so that it gets the highest weight "
   ]
  },
  {
   "cell_type": "code",
   "execution_count": 47,
   "metadata": {},
   "outputs": [
    {
     "name": "stdout",
     "output_type": "stream",
     "text": [
      "LogisticRegression(class_weight={-1: 0.1, 0: 0.6, 1: 0.3}, fit_intercept=False,\n",
      "                   random_state=856, solver='liblinear')\n",
      "0.7437841530054645\n"
     ]
    }
   ],
   "source": [
    "logreg = LogisticRegression(random_state=856, \n",
    "                            fit_intercept=False, \n",
    "                            solver='liblinear',  \n",
    "                            class_weight={-1:0.1, 0:0.6, 1:0.3}, \n",
    "                            max_iter=100)\n",
    "\n",
    "logreg = logreg.fit(X_train, y_train)\n",
    "\n",
    "print(logreg)\n",
    "\n",
    "print(np.mean(cross_val_score(logreg, data_features, labels, cv=10)))"
   ]
  },
  {
   "cell_type": "markdown",
   "metadata": {},
   "source": [
    "#### Model Evaluation and Confusion Matrix"
   ]
  },
  {
   "cell_type": "code",
   "execution_count": 48,
   "metadata": {},
   "outputs": [
    {
     "name": "stdout",
     "output_type": "stream",
     "text": [
      "              precision    recall  f1-score   support\n",
      "\n",
      "          -1       0.90      0.83      0.86      2294\n",
      "           0       0.55      0.70      0.62       775\n",
      "           1       0.74      0.71      0.73       591\n",
      "\n",
      "    accuracy                           0.78      3660\n",
      "   macro avg       0.73      0.75      0.74      3660\n",
      "weighted avg       0.80      0.78      0.79      3660\n",
      "\n"
     ]
    }
   ],
   "source": [
    "logr_pred = logreg.predict(X_test)\n",
    "\n",
    "print(classification_report(y_test, logr_pred))"
   ]
  },
  {
   "cell_type": "code",
   "execution_count": 50,
   "metadata": {},
   "outputs": [
    {
     "name": "stdout",
     "output_type": "stream",
     "text": [
      "[[1894  323   77]\n",
      " [ 161  546   68]\n",
      " [  57  115  419]]\n"
     ]
    },
    {
     "data": {
      "text/plain": [
       "<AxesSubplot:>"
      ]
     },
     "execution_count": 50,
     "metadata": {},
     "output_type": "execute_result"
    },
    {
     "data": {
      "image/png": "[encoded data removed]",
      "text/plain": [
       "<Figure size 576x360 with 2 Axes>"
      ]
     },
     "metadata": {
      "needs_background": "light"
     },
     "output_type": "display_data"
    }
   ],
   "source": [
    "conf_mat = confusion_matrix(y_test, logr_pred)\n",
    "\n",
    "print(conf_mat)\n",
    "\n",
    "df_cm = pd.DataFrame(conf_mat, index = [i for i in ['-1','0','1']],\n",
    "                  columns = [i for i in ['-1','0','1']])\n",
    "plt.figure(figsize = (8,5))\n",
    "sns.heatmap(df_cm, \n",
    "            annot=True, \n",
    "            fmt='g',\n",
    "            xticklabels=['neg_act','neut_act','pos_act'],\n",
    "            yticklabels=['neg_pr','neut_pr','pos_pr'],\n",
    "           )"
   ]
  },
  {
   "cell_type": "code",
   "execution_count": 51,
   "metadata": {},
   "outputs": [],
   "source": [
    "preciss=[]\n",
    "f1s=[]\n",
    "recalls=[]"
   ]
  },
  {
   "cell_type": "code",
   "execution_count": 58,
   "metadata": {},
   "outputs": [
    {
     "name": "stdout",
     "output_type": "stream",
     "text": [
      "Logistic Regression classifier with Count Vectorizer Precision, Recall and F1:  0.8 0.78 0.79\n"
     ]
    }
   ],
   "source": [
    "precis = precision_score(y_test, logr_pred, average='weighted')\n",
    "precis = round(precis,2)\n",
    "\n",
    "f1=f1_score(y_test, logr_pred, average='weighted')\n",
    "f1=round(f1, 2)\n",
    "\n",
    "recall=recall_score(y_test, logr_pred, average='weighted')\n",
    "recall=round(recall,2)\n",
    "\n",
    "print(\"Logistic Regression classifier with Count Vectorizer Precision, Recall and F1: \", precis, recall, f1)\n",
    "\n",
    "preciss.append(precis)\n",
    "f1s.append(f1)\n",
    "recalls.append(recall)"
   ]
  },
  {
   "cell_type": "markdown",
   "metadata": {},
   "source": [
    "> Decent performance with best for the 'negative' class and worse for 'neutral' class, as expected"
   ]
  },
  {
   "cell_type": "markdown",
   "metadata": {},
   "source": [
    "### TFIDF "
   ]
  },
  {
   "cell_type": "code",
   "execution_count": 60,
   "metadata": {
    "colab": {
     "base_uri": "https://localhost:8080/"
    },
    "id": "JyWqFm4Bu8gX",
    "outputId": "73ad275b-5445-4ed2-a0c8-c7b1f745de40"
   },
   "outputs": [
    {
     "data": {
      "text/plain": [
       "(14640, 1500)"
      ]
     },
     "execution_count": 60,
     "metadata": {},
     "output_type": "execute_result"
    }
   ],
   "source": [
    "# Using TfidfVectorizer to convert text data to numbers\n",
    "\n",
    "vectorizer = TfidfVectorizer(max_features=1500,\n",
    "                            max_df=1.0)            #will be tuned from default\n",
    "\n",
    "data_features = vectorizer.fit_transform(df2['text'])\n",
    "\n",
    "data_features = data_features.toarray()\n",
    "\n",
    "data_features.shape\n"
   ]
  },
  {
   "cell_type": "code",
   "execution_count": 67,
   "metadata": {},
   "outputs": [],
   "source": [
    "#TfidfVectorizer?"
   ]
  },
  {
   "cell_type": "code",
   "execution_count": 62,
   "metadata": {
    "id": "_y9nyb8J-zqo"
   },
   "outputs": [],
   "source": [
    "# Split data into training and testing set after this vectorization\n",
    "\n",
    "X_train, X_test, y_train, y_test = train_test_split(data_features, \n",
    "                                                    labels, \n",
    "                                                    test_size=0.25, \n",
    "                                                    stratify=labels, \n",
    "                                                    random_state=423)"
   ]
  },
  {
   "cell_type": "markdown",
   "metadata": {},
   "source": [
    "### Logistic Regression as base model"
   ]
  },
  {
   "cell_type": "code",
   "execution_count": 63,
   "metadata": {},
   "outputs": [
    {
     "name": "stdout",
     "output_type": "stream",
     "text": [
      "LogisticRegression(class_weight={-1: 0.1, 0: 0.6, 1: 0.3}, fit_intercept=False,\n",
      "                   random_state=856, solver='liblinear')\n",
      "0.7523224043715847\n"
     ]
    }
   ],
   "source": [
    "logreg = LogisticRegression(random_state=856, \n",
    "                            fit_intercept=False, \n",
    "                            solver='liblinear',  \n",
    "                            class_weight={-1:0.1, 0:0.6, 1:0.3}, \n",
    "                            max_iter=100)\n",
    "\n",
    "logreg = logreg.fit(X_train, y_train)\n",
    "\n",
    "print(logreg)\n",
    "\n",
    "print(np.mean(cross_val_score(logreg, data_features, labels, cv=10)))"
   ]
  },
  {
   "cell_type": "markdown",
   "metadata": {},
   "source": [
    "#### Model Evaluation and Confusion Matrix"
   ]
  },
  {
   "cell_type": "code",
   "execution_count": 64,
   "metadata": {},
   "outputs": [
    {
     "name": "stdout",
     "output_type": "stream",
     "text": [
      "              precision    recall  f1-score   support\n",
      "\n",
      "          -1       0.88      0.86      0.87      2294\n",
      "           0       0.57      0.69      0.62       775\n",
      "           1       0.79      0.64      0.70       591\n",
      "\n",
      "    accuracy                           0.79      3660\n",
      "   macro avg       0.75      0.73      0.73      3660\n",
      "weighted avg       0.80      0.79      0.79      3660\n",
      "\n"
     ]
    }
   ],
   "source": [
    "logr_pred = logreg.predict(X_test)\n",
    "\n",
    "print(classification_report(y_test, logr_pred))"
   ]
  },
  {
   "cell_type": "code",
   "execution_count": 65,
   "metadata": {},
   "outputs": [
    {
     "name": "stdout",
     "output_type": "stream",
     "text": [
      "[[1967  278   49]\n",
      " [ 185  537   53]\n",
      " [  85  129  377]]\n"
     ]
    },
    {
     "data": {
      "text/plain": [
       "<AxesSubplot:>"
      ]
     },
     "execution_count": 65,
     "metadata": {},
     "output_type": "execute_result"
    },
    {
     "data": {
      "image/png": "[encoded data removed]",
      "text/plain": [
       "<Figure size 576x360 with 2 Axes>"
      ]
     },
     "metadata": {
      "needs_background": "light"
     },
     "output_type": "display_data"
    }
   ],
   "source": [
    "conf_mat = confusion_matrix(y_test, logr_pred)\n",
    "\n",
    "print(conf_mat)\n",
    "\n",
    "df_cm = pd.DataFrame(conf_mat, index = [i for i in ['-1','0','1']],\n",
    "                  columns = [i for i in ['-1','0','1']])\n",
    "plt.figure(figsize = (8,5))\n",
    "sns.heatmap(df_cm, \n",
    "            annot=True, \n",
    "            fmt='g',\n",
    "            xticklabels=['neg_act','neut_act','pos_act'],\n",
    "            yticklabels=['neg_pr','neut_pr','pos_pr'],\n",
    "           )"
   ]
  },
  {
   "cell_type": "code",
   "execution_count": 66,
   "metadata": {},
   "outputs": [
    {
     "name": "stdout",
     "output_type": "stream",
     "text": [
      "Logistic Regression classifier with TFIDF Precision, Recall and F1:  0.8 0.79 0.79\n"
     ]
    }
   ],
   "source": [
    "precis = precision_score(y_test, logr_pred, average='weighted')\n",
    "precis = round(precis,2)\n",
    "\n",
    "f1=f1_score(y_test, logr_pred, average='weighted')\n",
    "f1=round(f1, 2)\n",
    "\n",
    "recall=recall_score(y_test, logr_pred, average='weighted')\n",
    "recall=round(recall,2)\n",
    "\n",
    "print(\"Logistic Regression classifier with TFIDF Precision, Recall and F1: \", precis, recall, f1)\n",
    "\n",
    "preciss.append(precis)\n",
    "f1s.append(f1)\n",
    "recalls.append(recall)"
   ]
  },
  {
   "cell_type": "markdown",
   "metadata": {},
   "source": [
    "> Slightly better scores with TFIDf, especially for 'neutral' problematic class"
   ]
  },
  {
   "cell_type": "markdown",
   "metadata": {},
   "source": [
    "### Hyperparam Tuning\n",
    "\n",
    "* TFIDf parameters\n",
    "* Random Forest Classifier\n",
    "* GradientBoosting Classifier"
   ]
  },
  {
   "cell_type": "code",
   "execution_count": 102,
   "metadata": {},
   "outputs": [
    {
     "data": {
      "text/plain": [
       "(14640, 1500)"
      ]
     },
     "execution_count": 102,
     "metadata": {},
     "output_type": "execute_result"
    }
   ],
   "source": [
    "# TFIDf parameters: max_features, ngram_range and max_df\n",
    "\n",
    "vectorizer = TfidfVectorizer(max_features=1500,  # 1500 is best found\n",
    "                            max_df=0.5,\n",
    "                            ngram_range=(1,1))   # unigrams are best found\n",
    "\n",
    "data_features = vectorizer.fit_transform(df2['text'])\n",
    "\n",
    "data_features = data_features.toarray()\n",
    "\n",
    "data_features.shape"
   ]
  },
  {
   "cell_type": "code",
   "execution_count": 103,
   "metadata": {},
   "outputs": [],
   "source": [
    "#Splitting the data again, as data_features are different here \n",
    "\n",
    "X_train, X_test, y_train, y_test = train_test_split(data_features, \n",
    "                                                    labels, \n",
    "                                                    test_size=0.25, \n",
    "                                                    stratify=labels, \n",
    "                                                    random_state=423)"
   ]
  },
  {
   "cell_type": "markdown",
   "metadata": {},
   "source": [
    " - Checking Logistic Regression for comparision"
   ]
  },
  {
   "cell_type": "code",
   "execution_count": 98,
   "metadata": {},
   "outputs": [
    {
     "name": "stdout",
     "output_type": "stream",
     "text": [
      "LogisticRegression(class_weight={-1: 0.1, 0: 0.6, 1: 0.3}, fit_intercept=False,\n",
      "                   random_state=856, solver='liblinear')\n",
      "0.7523224043715847\n"
     ]
    }
   ],
   "source": [
    "logreg = LogisticRegression(random_state=856, \n",
    "                            fit_intercept=False, \n",
    "                            solver='liblinear',  \n",
    "                            class_weight={-1:0.1, 0:0.6, 1:0.3}, \n",
    "                            max_iter=100)\n",
    "\n",
    "logreg = logreg.fit(X_train, y_train)\n",
    "\n",
    "print(logreg)\n",
    "\n",
    "print(np.mean(cross_val_score(logreg, data_features, labels, cv=10)))"
   ]
  },
  {
   "cell_type": "markdown",
   "metadata": {},
   "source": [
    " - Same accuracy score as before, although important metrics here are precision, recall and f1-scores (since data is unbalanced)."
   ]
  },
  {
   "cell_type": "markdown",
   "metadata": {},
   "source": [
    "#### Model Evaluation and Confusion Matrix"
   ]
  },
  {
   "cell_type": "code",
   "execution_count": 99,
   "metadata": {},
   "outputs": [
    {
     "name": "stdout",
     "output_type": "stream",
     "text": [
      "              precision    recall  f1-score   support\n",
      "\n",
      "          -1       0.88      0.86      0.87      2294\n",
      "           0       0.57      0.69      0.62       775\n",
      "           1       0.79      0.64      0.70       591\n",
      "\n",
      "    accuracy                           0.79      3660\n",
      "   macro avg       0.75      0.73      0.73      3660\n",
      "weighted avg       0.80      0.79      0.79      3660\n",
      "\n"
     ]
    }
   ],
   "source": [
    "logr_pred = logreg.predict(X_test)\n",
    "\n",
    "print(classification_report(y_test, logr_pred))"
   ]
  },
  {
   "cell_type": "code",
   "execution_count": 100,
   "metadata": {},
   "outputs": [
    {
     "name": "stdout",
     "output_type": "stream",
     "text": [
      "[[1967  278   49]\n",
      " [ 185  537   53]\n",
      " [  85  129  377]]\n"
     ]
    },
    {
     "data": {
      "text/plain": [
       "<AxesSubplot:>"
      ]
     },
     "execution_count": 100,
     "metadata": {},
     "output_type": "execute_result"
    },
    {
     "data": {
      "image/png": "[encoded data removed]",
      "text/plain": [
       "<Figure size 576x360 with 2 Axes>"
      ]
     },
     "metadata": {
      "needs_background": "light"
     },
     "output_type": "display_data"
    }
   ],
   "source": [
    "conf_mat = confusion_matrix(y_test, logr_pred)\n",
    "\n",
    "print(conf_mat)\n",
    "\n",
    "df_cm = pd.DataFrame(conf_mat, index = [i for i in ['-1','0','1']],\n",
    "                  columns = [i for i in ['-1','0','1']])\n",
    "plt.figure(figsize = (8,5))\n",
    "sns.heatmap(df_cm, \n",
    "            annot=True, \n",
    "            fmt='g',\n",
    "            xticklabels=['neg_act','neut_act','pos_act'],\n",
    "            yticklabels=['neg_pr','neut_pr','pos_pr'],\n",
    "           )"
   ]
  },
  {
   "cell_type": "code",
   "execution_count": 101,
   "metadata": {},
   "outputs": [
    {
     "name": "stdout",
     "output_type": "stream",
     "text": [
      "Logistic Regression classifier with TFIDF-tuned Precision, Recall and F1:  0.8 0.79 0.79\n"
     ]
    }
   ],
   "source": [
    "precis = precision_score(y_test, logr_pred, average='weighted')\n",
    "precis = round(precis,2)\n",
    "\n",
    "f1=f1_score(y_test, logr_pred, average='weighted')\n",
    "f1=round(f1, 2)\n",
    "\n",
    "recall=recall_score(y_test, logr_pred, average='weighted')\n",
    "recall=round(recall,2)\n",
    "\n",
    "print(\"Logistic Regression classifier with TFIDF-tuned Precision, Recall and F1: \", precis, recall, f1)\n",
    "\n",
    "preciss.append(precis)\n",
    "f1s.append(f1)\n",
    "recalls.append(recall)"
   ]
  },
  {
   "cell_type": "markdown",
   "metadata": {},
   "source": [
    "> Same performnce vs. previous TFIDf, tuning didn't help here"
   ]
  },
  {
   "cell_type": "markdown",
   "metadata": {},
   "source": [
    "### Random Forest Classifier"
   ]
  },
  {
   "cell_type": "code",
   "execution_count": 104,
   "metadata": {
    "colab": {
     "base_uri": "https://localhost:8080/"
    },
    "id": "7223wy58vjJn",
    "outputId": "f0749e8a-061c-4bcf-95c9-87e68be3c05f"
   },
   "outputs": [
    {
     "name": "stdout",
     "output_type": "stream",
     "text": [
      "RandomForestClassifier(class_weight={-1: 0.1, 0: 0.6, 1: 0.3}, n_estimators=50,\n",
      "                       n_jobs=5)\n",
      "0.7326502732240437\n"
     ]
    }
   ],
   "source": [
    "forest = RandomForestClassifier(n_estimators=50, \n",
    "                                n_jobs=5,\n",
    "                                class_weight={-1:0.1, 0:0.6, 1:0.3})\n",
    "\n",
    "forest = forest.fit(X_train, y_train)\n",
    "\n",
    "print(forest)\n",
    "\n",
    "print(np.mean(cross_val_score(forest, data_features, labels, cv=10)))"
   ]
  },
  {
   "cell_type": "markdown",
   "metadata": {},
   "source": [
    "#### Model Evaluation and Confusion Matrix"
   ]
  },
  {
   "cell_type": "code",
   "execution_count": 105,
   "metadata": {
    "id": "vxMaBRnLvl_A"
   },
   "outputs": [
    {
     "name": "stdout",
     "output_type": "stream",
     "text": [
      "              precision    recall  f1-score   support\n",
      "\n",
      "          -1       0.83      0.91      0.87      2294\n",
      "           0       0.62      0.55      0.58       775\n",
      "           1       0.76      0.60      0.67       591\n",
      "\n",
      "    accuracy                           0.78      3660\n",
      "   macro avg       0.74      0.69      0.71      3660\n",
      "weighted avg       0.77      0.78      0.78      3660\n",
      "\n"
     ]
    }
   ],
   "source": [
    "forest_pred = forest.predict(X_test)\n",
    "print(classification_report(y_test, forest_pred))"
   ]
  },
  {
   "cell_type": "code",
   "execution_count": 106,
   "metadata": {},
   "outputs": [
    {
     "name": "stdout",
     "output_type": "stream",
     "text": [
      "[[2080  168   46]\n",
      " [ 283  426   66]\n",
      " [ 145   90  356]]\n"
     ]
    },
    {
     "data": {
      "text/plain": [
       "<AxesSubplot:>"
      ]
     },
     "execution_count": 106,
     "metadata": {},
     "output_type": "execute_result"
    },
    {
     "data": {
      "image/png": "[encoded data removed]",
      "text/plain": [
       "<Figure size 576x360 with 2 Axes>"
      ]
     },
     "metadata": {
      "needs_background": "light"
     },
     "output_type": "display_data"
    }
   ],
   "source": [
    "conf_mat = confusion_matrix(y_test, forest_pred)\n",
    "\n",
    "print(conf_mat)\n",
    "\n",
    "df_cm = pd.DataFrame(conf_mat, index = [i for i in ['-1','0','1']],\n",
    "                  columns = [i for i in ['-1','0','1']])\n",
    "plt.figure(figsize = (8,5))\n",
    "sns.heatmap(df_cm, \n",
    "            annot=True, \n",
    "            fmt='g',\n",
    "            xticklabels=['neg_act','neut_act','pos_act'],\n",
    "            yticklabels=['neg_pr','neut_pr','pos_pr'],\n",
    "           )"
   ]
  },
  {
   "cell_type": "code",
   "execution_count": 107,
   "metadata": {},
   "outputs": [
    {
     "name": "stdout",
     "output_type": "stream",
     "text": [
      "Random Forest classifier with TFIDF-tuned Precision, Recall and F1:  0.77 0.78 0.78\n"
     ]
    }
   ],
   "source": [
    "precis = precision_score(y_test, forest_pred, average='weighted')\n",
    "precis = round(precis,2)\n",
    "\n",
    "f1=f1_score(y_test, forest_pred, average='weighted')\n",
    "f1=round(f1, 2)\n",
    "\n",
    "recall=recall_score(y_test, forest_pred, average='weighted')\n",
    "recall=round(recall,2)\n",
    "\n",
    "print(\"Random Forest classifier with TFIDF-tuned Precision, Recall and F1: \", precis, recall, f1)\n",
    "\n",
    "preciss.append(precis)\n",
    "f1s.append(f1)\n",
    "recalls.append(recall)"
   ]
  },
  {
   "cell_type": "markdown",
   "metadata": {},
   "source": [
    "> Slightly worse performnce vs. Logistic Regression, 'negative' class is overfit on recalls"
   ]
  },
  {
   "cell_type": "markdown",
   "metadata": {
    "colab": {
     "base_uri": "https://localhost:8080/",
     "height": 445
    },
    "id": "qFkEFqU3vnbw",
    "outputId": "4679c060-e83e-4ec6-f494-4dba83bbc2d7"
   },
   "source": [
    "### GradientBoosting Classifier"
   ]
  },
  {
   "cell_type": "code",
   "execution_count": 111,
   "metadata": {},
   "outputs": [],
   "source": [
    "#GradientBoostingClassifier?"
   ]
  },
  {
   "cell_type": "code",
   "execution_count": 120,
   "metadata": {},
   "outputs": [
    {
     "name": "stdout",
     "output_type": "stream",
     "text": [
      "GradientBoostingClassifier(learning_rate=0.5, max_depth=10, max_features='sqrt',\n",
      "                           n_estimators=50, random_state=473, warm_start=True)\n",
      "0.728688524590164\n"
     ]
    }
   ],
   "source": [
    "gbcl = GradientBoostingClassifier(n_estimators=50, \n",
    "                                    random_state=473,\n",
    "                                    learning_rate=0.5,\n",
    "                                    max_depth=10,\n",
    "                                    max_features='sqrt',\n",
    "                                    warm_start=True)\n",
    "\n",
    "gbcl = gbcl.fit(X_train, y_train)\n",
    "\n",
    "print(gbcl)\n",
    "\n",
    "print(np.mean(cross_val_score(gbcl, data_features, labels, cv=10)))"
   ]
  },
  {
   "cell_type": "markdown",
   "metadata": {},
   "source": [
    "#### Model Evaluation and Confusion Matrix"
   ]
  },
  {
   "cell_type": "code",
   "execution_count": 121,
   "metadata": {},
   "outputs": [
    {
     "name": "stdout",
     "output_type": "stream",
     "text": [
      "              precision    recall  f1-score   support\n",
      "\n",
      "          -1       0.80      0.92      0.85      2294\n",
      "           0       0.61      0.42      0.49       775\n",
      "           1       0.71      0.61      0.66       591\n",
      "\n",
      "    accuracy                           0.76      3660\n",
      "   macro avg       0.71      0.65      0.67      3660\n",
      "weighted avg       0.74      0.76      0.75      3660\n",
      "\n"
     ]
    }
   ],
   "source": [
    "gbcl_pred = gbcl.predict(X_test)\n",
    "print(classification_report(y_test, gbcl_pred))"
   ]
  },
  {
   "cell_type": "code",
   "execution_count": 122,
   "metadata": {},
   "outputs": [
    {
     "name": "stdout",
     "output_type": "stream",
     "text": [
      "[[2101  119   74]\n",
      " [ 384  322   69]\n",
      " [ 143   90  358]]\n"
     ]
    },
    {
     "data": {
      "text/plain": [
       "<AxesSubplot:>"
      ]
     },
     "execution_count": 122,
     "metadata": {},
     "output_type": "execute_result"
    },
    {
     "data": {
      "image/png": "[encoded data removed]",
      "text/plain": [
       "<Figure size 576x360 with 2 Axes>"
      ]
     },
     "metadata": {
      "needs_background": "light"
     },
     "output_type": "display_data"
    }
   ],
   "source": [
    "conf_mat = confusion_matrix(y_test, gbcl_pred)\n",
    "\n",
    "print(conf_mat)\n",
    "\n",
    "df_cm = pd.DataFrame(conf_mat, index = [i for i in ['-1','0','1']],\n",
    "                  columns = [i for i in ['-1','0','1']])\n",
    "plt.figure(figsize = (8,5))\n",
    "sns.heatmap(df_cm, \n",
    "            annot=True, \n",
    "            fmt='g',\n",
    "            xticklabels=['neg_act','neut_act','pos_act'],\n",
    "            yticklabels=['neg_pr','neut_pr','pos_pr'],\n",
    "           )"
   ]
  },
  {
   "cell_type": "code",
   "execution_count": 123,
   "metadata": {},
   "outputs": [
    {
     "name": "stdout",
     "output_type": "stream",
     "text": [
      "GradientBoosting classifier with TFIDF-tuned Precision, Recall and F1:  0.74 0.76 0.75\n"
     ]
    }
   ],
   "source": [
    "precis = precision_score(y_test, gbcl_pred, average='weighted')\n",
    "precis = round(precis,2)\n",
    "\n",
    "f1=f1_score(y_test, gbcl_pred, average='weighted')\n",
    "f1=round(f1, 2)\n",
    "\n",
    "recall=recall_score(y_test, gbcl_pred, average='weighted')\n",
    "recall=round(recall,2)\n",
    "\n",
    "print(\"GradientBoosting classifier with TFIDF-tuned Precision, Recall and F1: \", precis, recall, f1)\n",
    "\n",
    "preciss.append(precis)\n",
    "f1s.append(f1)\n",
    "recalls.append(recall)"
   ]
  },
  {
   "cell_type": "markdown",
   "metadata": {},
   "source": [
    "> Worse performnce vs. Logistic Regression, 'negative' class is higher on recall, which dropped recalls for 'positive' and 'neutral'. This can be because the algorithm doesn't have 'class_weight' hyperparameter."
   ]
  },
  {
   "cell_type": "code",
   "execution_count": 124,
   "metadata": {},
   "outputs": [
    {
     "data": {
      "text/html": [
       "<div>\n",
       "<style scoped>\n",
       "    .dataframe tbody tr th:only-of-type {\n",
       "        vertical-align: middle;\n",
       "    }\n",
       "\n",
       "    .dataframe tbody tr th {\n",
       "        vertical-align: top;\n",
       "    }\n",
       "\n",
       "    .dataframe thead th {\n",
       "        text-align: right;\n",
       "    }\n",
       "</style>\n",
       "<table border=\"1\" class=\"dataframe\">\n",
       "  <thead>\n",
       "    <tr style=\"text-align: right;\">\n",
       "      <th></th>\n",
       "      <th>Method</th>\n",
       "      <th>precision</th>\n",
       "      <th>recall</th>\n",
       "      <th>f1-score</th>\n",
       "    </tr>\n",
       "  </thead>\n",
       "  <tbody>\n",
       "    <tr>\n",
       "      <th>0</th>\n",
       "      <td>LogisticRegression_CountVect</td>\n",
       "      <td>0.80</td>\n",
       "      <td>0.78</td>\n",
       "      <td>0.79</td>\n",
       "    </tr>\n",
       "    <tr>\n",
       "      <th>1</th>\n",
       "      <td>LogisticRegression_TFIDf</td>\n",
       "      <td>0.80</td>\n",
       "      <td>0.79</td>\n",
       "      <td>0.79</td>\n",
       "    </tr>\n",
       "    <tr>\n",
       "      <th>2</th>\n",
       "      <td>LogisticRegression_TFIDf_tuned</td>\n",
       "      <td>0.80</td>\n",
       "      <td>0.79</td>\n",
       "      <td>0.79</td>\n",
       "    </tr>\n",
       "    <tr>\n",
       "      <th>3</th>\n",
       "      <td>RandomForest</td>\n",
       "      <td>0.77</td>\n",
       "      <td>0.78</td>\n",
       "      <td>0.78</td>\n",
       "    </tr>\n",
       "    <tr>\n",
       "      <th>4</th>\n",
       "      <td>GradientBoosting</td>\n",
       "      <td>0.74</td>\n",
       "      <td>0.76</td>\n",
       "      <td>0.75</td>\n",
       "    </tr>\n",
       "  </tbody>\n",
       "</table>\n",
       "</div>"
      ],
      "text/plain": [
       "                           Method  precision  recall  f1-score\n",
       "0    LogisticRegression_CountVect       0.80    0.78      0.79\n",
       "1        LogisticRegression_TFIDf       0.80    0.79      0.79\n",
       "2  LogisticRegression_TFIDf_tuned       0.80    0.79      0.79\n",
       "3                    RandomForest       0.77    0.78      0.78\n",
       "4                GradientBoosting       0.74    0.76      0.75"
      ]
     },
     "execution_count": 124,
     "metadata": {},
     "output_type": "execute_result"
    }
   ],
   "source": [
    "models=['LogisticRegression_CountVect', 'LogisticRegression_TFIDf','LogisticRegression_TFIDf_tuned' ,'RandomForest','GradientBoosting']\n",
    "\n",
    "resultsDf = pd.DataFrame({'Method':models, 'precision': preciss, 'recall': recalls, 'f1-score': f1s})\n",
    "resultsDf = resultsDf[['Method', 'precision', 'recall', 'f1-score']]\n",
    "resultsDf"
   ]
  },
  {
   "cell_type": "markdown",
   "metadata": {},
   "source": [
    "#### Insights:\n",
    " - Logistic Regression with TFIDf is the best performer among others "
   ]
  },
  {
   "cell_type": "markdown",
   "metadata": {
    "id": "LwxfFdwhc-9o"
   },
   "source": [
    "### Summary:\n",
    "\n",
    "- Airlines sentiments scraped from tweets were analyzed using text reviews in and their sentiment score on the scale of 'negative', 'neutral' and 'postive for text classification modeling.\n",
    "- The dataset is relatively small, which limited choice of predictive algorithms and number of max_featues. Also, because of this, numbers were removed. If the dataset would be larger, numbers could be left to evaluate models.\n",
    "- Classes are unbalanced (more for 'negative'), which drives using 'class_weight' hyperparameter in modeling.\n",
    "- Class 'neutral' is hard to interpretate even for a human, and its is often confused with 'negative' or 'positive' classes. Ideally it could be combined with 'positive' class since it is not 'negative' one to increase models performance.\n",
    "- The pre-precessed data was converted to numbers using Count Vectorizer and TFIDf. TFIDf resulted in better performance.\n",
    "- Tuning TFIDf parameters did not give higher scores.\n",
    "- Best score resulted from using TFIDf combined with Logistic Regression. Surprisingly, Random Forest and GradientBoosting classifiers performed worse.\n",
    "- The model performances and lack of improving from tuning are likely results of the confusion between the 'neutral' class with two others. Various upsampling techniques can be way to improve."
   ]
  },
  {
   "cell_type": "code",
   "execution_count": null,
   "metadata": {},
   "outputs": [],
   "source": []
  }
 ],
 "metadata": {
  "colab": {
   "collapsed_sections": [],
   "name": "MLS_week_2_NLP.ipynb",
   "provenance": []
  },
  "kernelspec": {
   "display_name": "Python 3",
   "language": "python",
   "name": "python3"
  },
  "language_info": {
   "codemirror_mode": {
    "name": "ipython",
    "version": 3
   },
   "file_extension": ".py",
   "mimetype": "text/x-python",
   "name": "python",
   "nbconvert_exporter": "python",
   "pygments_lexer": "ipython3",
   "version": "3.7.9"
  },
  "toc": {
   "base_numbering": 1,
   "nav_menu": {},
   "number_sections": true,
   "sideBar": true,
   "skip_h1_title": false,
   "title_cell": "Table of Contents",
   "title_sidebar": "Contents",
   "toc_cell": false,
   "toc_position": {},
   "toc_section_display": true,
   "toc_window_display": false
  },
  "varInspector": {
   "cols": {
    "lenName": 16,
    "lenType": 16,
    "lenVar": 40
   },
   "kernels_config": {
    "python": {
     "delete_cmd_postfix": "",
     "delete_cmd_prefix": "del ",
     "library": "var_list.py",
     "varRefreshCmd": "print(var_dic_list())"
    },
    "r": {
     "delete_cmd_postfix": ") ",
     "delete_cmd_prefix": "rm(",
     "library": "var_list.r",
     "varRefreshCmd": "cat(var_dic_list()) "
    }
   },
   "types_to_exclude": [
    "module",
    "function",
    "builtin_function_or_method",
    "instance",
    "_Feature"
   ],
   "window_display": false
  }
 },
 "nbformat": 4,
 "nbformat_minor": 4
}
