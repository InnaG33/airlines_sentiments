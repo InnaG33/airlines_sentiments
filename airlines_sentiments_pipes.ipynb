{
 "cells": [
  {
   "cell_type": "markdown",
   "metadata": {
    "id": "IshOqZNB6POh"
   },
   "source": [
    "# NLP: US Airlines Tweets Sentiment Analysis\n"
   ]
  },
  {
   "cell_type": "markdown",
   "metadata": {
    "id": "N4Eouxvz5Rb3"
   },
   "source": [
    "## **Context:**\n",
    "\n",
    "A sentiment analysis job about the problems of each major U.S. airline. Twitter data was scraped from February of 2015 and contributors were asked to first classify positive, negative, and neutral tweets, followed by categorizing negative reasons (such as \"late flight\" or \"rude service\")."
   ]
  },
  {
   "cell_type": "markdown",
   "metadata": {
    "id": "jaP-CPyF5Ndl"
   },
   "source": [
    "- The purpose of this analysis is to classify positive, neutral or negative sentiments from posted tweets to help US airlines in improving customer support and their services.\n",
    "- Pipelines were used to automate entire process (text preprocessing, transformation, classification and tuning).\n",
    "- In second part, neutral group is combined with positive for easier classification.\n"
   ]
  },
  {
   "cell_type": "markdown",
   "metadata": {},
   "source": [
    "#### Importing libraries, loading dataset, data shape and description"
   ]
  },
  {
   "cell_type": "code",
   "execution_count": 1,
   "metadata": {
    "colab": {
     "base_uri": "https://localhost:8080/"
    },
    "execution": {
     "iopub.execute_input": "2021-04-24T13:58:11.314325Z",
     "iopub.status.busy": "2021-04-24T13:58:11.309997Z",
     "iopub.status.idle": "2021-04-24T13:58:15.590193Z",
     "shell.execute_reply": "2021-04-24T13:58:15.580755Z",
     "shell.execute_reply.started": "2021-04-24T13:58:11.314246Z"
    },
    "id": "ZjnXaaLV5Qff",
    "outputId": "15795ad8-16dd-4a3f-c20f-188d95934244"
   },
   "outputs": [],
   "source": [
    "# install and import necessary libraries.\n",
    "\n",
    "#!conda activate name_of_your_environment\n",
    "#!pip install contractions\n",
    "\n",
    "import re, string, unicodedata                          \n",
    "import contractions                                     \n",
    "from bs4 import BeautifulSoup                           \n",
    "\n",
    "import numpy as np                                      \n",
    "import pandas as pd                                     \n",
    "import nltk                                             \n",
    "\n",
    "# nltk.download('stopwords')                              # Download if needed.\n",
    "# nltk.download('punkt')\n",
    "# nltk.download('wordnet')\n",
    "\n",
    "#! pip install emoji\n",
    "import emoji\n",
    "\n",
    "from nltk.corpus import stopwords                       \n",
    "from nltk.tokenize import word_tokenize, sent_tokenize  \n",
    "from nltk.stem.wordnet import WordNetLemmatizer         \n",
    "\n",
    "import matplotlib.pyplot as plt\n",
    "import seaborn as sns\n"
   ]
  },
  {
   "cell_type": "code",
   "execution_count": 2,
   "metadata": {},
   "outputs": [],
   "source": [
    "from sklearn.feature_extraction.text import CountVectorizer\n",
    "from sklearn.feature_extraction.text import TfidfVectorizer\n"
   ]
  },
  {
   "cell_type": "code",
   "execution_count": 3,
   "metadata": {},
   "outputs": [],
   "source": [
    "from sklearn.model_selection import train_test_split\n",
    "\n",
    "from sklearn.ensemble import RandomForestClassifier\n",
    "\n",
    "from sklearn.model_selection import cross_val_score\n",
    "from sklearn.metrics import classification_report\n",
    "from sklearn.metrics import confusion_matrix, recall_score, precision_score, f1_score, roc_auc_score,accuracy_score\n",
    "\n",
    "from sklearn.linear_model import LogisticRegression\n",
    "from sklearn.tree import DecisionTreeClassifier\n",
    "from sklearn.ensemble import GradientBoostingClassifier\n"
   ]
  },
  {
   "cell_type": "code",
   "execution_count": 4,
   "metadata": {},
   "outputs": [],
   "source": [
    "sns.set_context(\"talk\", font_scale=0.9) #for automatic larfer fonts on plots\n"
   ]
  },
  {
   "cell_type": "code",
   "execution_count": 5,
   "metadata": {
    "execution": {
     "iopub.execute_input": "2021-04-24T13:58:15.604696Z",
     "iopub.status.busy": "2021-04-24T13:58:15.602849Z",
     "iopub.status.idle": "2021-04-24T13:58:20.141730Z",
     "shell.execute_reply": "2021-04-24T13:58:20.140814Z",
     "shell.execute_reply.started": "2021-04-24T13:58:15.604628Z"
    },
    "id": "o5rfFTY67Fhd"
   },
   "outputs": [],
   "source": [
    "df=pd.read_csv('Tweets.csv') # data loading\n"
   ]
  },
  {
   "cell_type": "code",
   "execution_count": 6,
   "metadata": {
    "colab": {
     "base_uri": "https://localhost:8080/"
    },
    "execution": {
     "iopub.execute_input": "2021-04-24T13:58:20.144811Z",
     "iopub.status.busy": "2021-04-24T13:58:20.144283Z",
     "iopub.status.idle": "2021-04-24T13:58:20.166242Z",
     "shell.execute_reply": "2021-04-24T13:58:20.164244Z",
     "shell.execute_reply.started": "2021-04-24T13:58:20.144762Z"
    },
    "id": "QAxBWyO29Qb6",
    "outputId": "eec52dad-c66f-4082-a138-887cd6ae1345"
   },
   "outputs": [
    {
     "data": {
      "text/plain": [
       "(14640, 15)"
      ]
     },
     "execution_count": 6,
     "metadata": {},
     "output_type": "execute_result"
    }
   ],
   "source": [
    "df.shape                     # shape of data.\n"
   ]
  },
  {
   "cell_type": "markdown",
   "metadata": {},
   "source": [
    "\n",
    " - Realtively small data set with almost 15,000 rows"
   ]
  },
  {
   "cell_type": "code",
   "execution_count": 7,
   "metadata": {
    "colab": {
     "base_uri": "https://localhost:8080/",
     "height": 306
    },
    "execution": {
     "iopub.execute_input": "2021-04-24T13:58:20.175550Z",
     "iopub.status.busy": "2021-04-24T13:58:20.172484Z",
     "iopub.status.idle": "2021-04-24T13:58:20.241809Z",
     "shell.execute_reply": "2021-04-24T13:58:20.232647Z",
     "shell.execute_reply.started": "2021-04-24T13:58:20.175482Z"
    },
    "id": "LAJWb__77ZNu",
    "outputId": "c994f499-64b7-45b0-9577-8c292e48659b"
   },
   "outputs": [
    {
     "data": {
      "text/html": [
       "<div>\n",
       "<style scoped>\n",
       "    .dataframe tbody tr th:only-of-type {\n",
       "        vertical-align: middle;\n",
       "    }\n",
       "\n",
       "    .dataframe tbody tr th {\n",
       "        vertical-align: top;\n",
       "    }\n",
       "\n",
       "    .dataframe thead th {\n",
       "        text-align: right;\n",
       "    }\n",
       "</style>\n",
       "<table border=\"1\" class=\"dataframe\">\n",
       "  <thead>\n",
       "    <tr style=\"text-align: right;\">\n",
       "      <th></th>\n",
       "      <th>tweet_id</th>\n",
       "      <th>airline_sentiment</th>\n",
       "      <th>airline_sentiment_confidence</th>\n",
       "      <th>negativereason</th>\n",
       "      <th>negativereason_confidence</th>\n",
       "      <th>airline</th>\n",
       "      <th>airline_sentiment_gold</th>\n",
       "      <th>name</th>\n",
       "      <th>negativereason_gold</th>\n",
       "      <th>retweet_count</th>\n",
       "      <th>text</th>\n",
       "      <th>tweet_coord</th>\n",
       "      <th>tweet_created</th>\n",
       "      <th>tweet_location</th>\n",
       "      <th>user_timezone</th>\n",
       "    </tr>\n",
       "  </thead>\n",
       "  <tbody>\n",
       "    <tr>\n",
       "      <th>0</th>\n",
       "      <td>570306133677760513</td>\n",
       "      <td>neutral</td>\n",
       "      <td>1.0000</td>\n",
       "      <td>NaN</td>\n",
       "      <td>NaN</td>\n",
       "      <td>Virgin America</td>\n",
       "      <td>NaN</td>\n",
       "      <td>cairdin</td>\n",
       "      <td>NaN</td>\n",
       "      <td>0</td>\n",
       "      <td>@VirginAmerica What @dhepburn said.</td>\n",
       "      <td>NaN</td>\n",
       "      <td>2015-02-24 11:35:52 -0800</td>\n",
       "      <td>NaN</td>\n",
       "      <td>Eastern Time (US &amp; Canada)</td>\n",
       "    </tr>\n",
       "    <tr>\n",
       "      <th>1</th>\n",
       "      <td>570301130888122368</td>\n",
       "      <td>positive</td>\n",
       "      <td>0.3486</td>\n",
       "      <td>NaN</td>\n",
       "      <td>0.0000</td>\n",
       "      <td>Virgin America</td>\n",
       "      <td>NaN</td>\n",
       "      <td>jnardino</td>\n",
       "      <td>NaN</td>\n",
       "      <td>0</td>\n",
       "      <td>@VirginAmerica plus you've added commercials t...</td>\n",
       "      <td>NaN</td>\n",
       "      <td>2015-02-24 11:15:59 -0800</td>\n",
       "      <td>NaN</td>\n",
       "      <td>Pacific Time (US &amp; Canada)</td>\n",
       "    </tr>\n",
       "    <tr>\n",
       "      <th>2</th>\n",
       "      <td>570301083672813571</td>\n",
       "      <td>neutral</td>\n",
       "      <td>0.6837</td>\n",
       "      <td>NaN</td>\n",
       "      <td>NaN</td>\n",
       "      <td>Virgin America</td>\n",
       "      <td>NaN</td>\n",
       "      <td>yvonnalynn</td>\n",
       "      <td>NaN</td>\n",
       "      <td>0</td>\n",
       "      <td>@VirginAmerica I didn't today... Must mean I n...</td>\n",
       "      <td>NaN</td>\n",
       "      <td>2015-02-24 11:15:48 -0800</td>\n",
       "      <td>Lets Play</td>\n",
       "      <td>Central Time (US &amp; Canada)</td>\n",
       "    </tr>\n",
       "    <tr>\n",
       "      <th>3</th>\n",
       "      <td>570301031407624196</td>\n",
       "      <td>negative</td>\n",
       "      <td>1.0000</td>\n",
       "      <td>Bad Flight</td>\n",
       "      <td>0.7033</td>\n",
       "      <td>Virgin America</td>\n",
       "      <td>NaN</td>\n",
       "      <td>jnardino</td>\n",
       "      <td>NaN</td>\n",
       "      <td>0</td>\n",
       "      <td>@VirginAmerica it's really aggressive to blast...</td>\n",
       "      <td>NaN</td>\n",
       "      <td>2015-02-24 11:15:36 -0800</td>\n",
       "      <td>NaN</td>\n",
       "      <td>Pacific Time (US &amp; Canada)</td>\n",
       "    </tr>\n",
       "    <tr>\n",
       "      <th>4</th>\n",
       "      <td>570300817074462722</td>\n",
       "      <td>negative</td>\n",
       "      <td>1.0000</td>\n",
       "      <td>Can't Tell</td>\n",
       "      <td>1.0000</td>\n",
       "      <td>Virgin America</td>\n",
       "      <td>NaN</td>\n",
       "      <td>jnardino</td>\n",
       "      <td>NaN</td>\n",
       "      <td>0</td>\n",
       "      <td>@VirginAmerica and it's a really big bad thing...</td>\n",
       "      <td>NaN</td>\n",
       "      <td>2015-02-24 11:14:45 -0800</td>\n",
       "      <td>NaN</td>\n",
       "      <td>Pacific Time (US &amp; Canada)</td>\n",
       "    </tr>\n",
       "  </tbody>\n",
       "</table>\n",
       "</div>"
      ],
      "text/plain": [
       "             tweet_id airline_sentiment  airline_sentiment_confidence  \\\n",
       "0  570306133677760513           neutral                        1.0000   \n",
       "1  570301130888122368          positive                        0.3486   \n",
       "2  570301083672813571           neutral                        0.6837   \n",
       "3  570301031407624196          negative                        1.0000   \n",
       "4  570300817074462722          negative                        1.0000   \n",
       "\n",
       "  negativereason  negativereason_confidence         airline  \\\n",
       "0            NaN                        NaN  Virgin America   \n",
       "1            NaN                     0.0000  Virgin America   \n",
       "2            NaN                        NaN  Virgin America   \n",
       "3     Bad Flight                     0.7033  Virgin America   \n",
       "4     Can't Tell                     1.0000  Virgin America   \n",
       "\n",
       "  airline_sentiment_gold        name negativereason_gold  retweet_count  \\\n",
       "0                    NaN     cairdin                 NaN              0   \n",
       "1                    NaN    jnardino                 NaN              0   \n",
       "2                    NaN  yvonnalynn                 NaN              0   \n",
       "3                    NaN    jnardino                 NaN              0   \n",
       "4                    NaN    jnardino                 NaN              0   \n",
       "\n",
       "                                                text tweet_coord  \\\n",
       "0                @VirginAmerica What @dhepburn said.         NaN   \n",
       "1  @VirginAmerica plus you've added commercials t...         NaN   \n",
       "2  @VirginAmerica I didn't today... Must mean I n...         NaN   \n",
       "3  @VirginAmerica it's really aggressive to blast...         NaN   \n",
       "4  @VirginAmerica and it's a really big bad thing...         NaN   \n",
       "\n",
       "               tweet_created tweet_location               user_timezone  \n",
       "0  2015-02-24 11:35:52 -0800            NaN  Eastern Time (US & Canada)  \n",
       "1  2015-02-24 11:15:59 -0800            NaN  Pacific Time (US & Canada)  \n",
       "2  2015-02-24 11:15:48 -0800      Lets Play  Central Time (US & Canada)  \n",
       "3  2015-02-24 11:15:36 -0800            NaN  Pacific Time (US & Canada)  \n",
       "4  2015-02-24 11:14:45 -0800            NaN  Pacific Time (US & Canada)  "
      ]
     },
     "execution_count": 7,
     "metadata": {},
     "output_type": "execute_result"
    }
   ],
   "source": [
    "df.head()    \n",
    "# Printing first 5 rows of data."
   ]
  },
  {
   "cell_type": "markdown",
   "metadata": {},
   "source": [
    "- Many NaN missing values"
   ]
  },
  {
   "cell_type": "code",
   "execution_count": 8,
   "metadata": {
    "colab": {
     "base_uri": "https://localhost:8080/"
    },
    "execution": {
     "iopub.execute_input": "2021-04-24T13:57:03.081598Z",
     "iopub.status.busy": "2021-04-24T13:57:03.080334Z",
     "iopub.status.idle": "2021-04-24T13:57:03.161557Z",
     "shell.execute_reply": "2021-04-24T13:57:03.160330Z",
     "shell.execute_reply.started": "2021-04-24T13:57:03.081530Z"
    },
    "id": "-Fi1xVk_0g1v",
    "outputId": "ee687015-c28b-4c02-f2dc-f0ab09c5afac"
   },
   "outputs": [
    {
     "data": {
      "text/plain": [
       "tweet_id                            0\n",
       "airline_sentiment                   0\n",
       "airline_sentiment_confidence        0\n",
       "negativereason                   5462\n",
       "negativereason_confidence        4118\n",
       "airline                             0\n",
       "airline_sentiment_gold          14600\n",
       "name                                0\n",
       "negativereason_gold             14608\n",
       "retweet_count                       0\n",
       "text                                0\n",
       "tweet_coord                     13621\n",
       "tweet_created                       0\n",
       "tweet_location                   4733\n",
       "user_timezone                    4820\n",
       "dtype: int64"
      ]
     },
     "execution_count": 8,
     "metadata": {},
     "output_type": "execute_result"
    }
   ],
   "source": [
    "df.isna().sum(axis=0)      # Check for NaN and NULL values.\n"
   ]
  },
  {
   "cell_type": "code",
   "execution_count": 9,
   "metadata": {},
   "outputs": [
    {
     "data": {
      "text/plain": [
       "tweet_id                            0\n",
       "airline_sentiment                   0\n",
       "airline_sentiment_confidence        0\n",
       "negativereason                   5462\n",
       "negativereason_confidence        4118\n",
       "airline                             0\n",
       "airline_sentiment_gold          14600\n",
       "name                                0\n",
       "negativereason_gold             14608\n",
       "retweet_count                       0\n",
       "text                                0\n",
       "tweet_coord                     13621\n",
       "tweet_created                       0\n",
       "tweet_location                   4733\n",
       "user_timezone                    4820\n",
       "dtype: int64"
      ]
     },
     "execution_count": 9,
     "metadata": {},
     "output_type": "execute_result"
    }
   ],
   "source": [
    "df.isnull().sum(axis=0) \n"
   ]
  },
  {
   "cell_type": "markdown",
   "metadata": {},
   "source": [
    "#### Insights:\n",
    " - Luckely, there are no missing values in target columns: airline_sentiment and text\n",
    " - Also, airline column is not having missing values and will be used in EDA part only, in addition to the target columns"
   ]
  },
  {
   "cell_type": "markdown",
   "metadata": {},
   "source": [
    "### Understanding data-columns: \n",
    "   1. Drop all other columns except “text” and “airline_sentiment”.\n",
    "   2. Check the shape of data.\n",
    "   3. Print first 5 rows of data."
   ]
  },
  {
   "cell_type": "code",
   "execution_count": 10,
   "metadata": {},
   "outputs": [],
   "source": [
    "# with airline column - see justification above \n",
    "\n",
    "df1=df[['airline_sentiment', 'airline', 'text']]\n"
   ]
  },
  {
   "cell_type": "code",
   "execution_count": 11,
   "metadata": {
    "colab": {
     "base_uri": "https://localhost:8080/",
     "height": 289
    },
    "execution": {
     "iopub.execute_input": "2021-04-24T13:57:03.182714Z",
     "iopub.status.busy": "2021-04-24T13:57:03.182085Z",
     "iopub.status.idle": "2021-04-24T13:57:03.214092Z",
     "shell.execute_reply": "2021-04-24T13:57:03.212734Z",
     "shell.execute_reply.started": "2021-04-24T13:57:03.182526Z"
    },
    "id": "YeIScfrX7sCd",
    "outputId": "9d554204-33c5-4d7e-9299-38a962b3b494"
   },
   "outputs": [
    {
     "data": {
      "text/html": [
       "<div>\n",
       "<style scoped>\n",
       "    .dataframe tbody tr th:only-of-type {\n",
       "        vertical-align: middle;\n",
       "    }\n",
       "\n",
       "    .dataframe tbody tr th {\n",
       "        vertical-align: top;\n",
       "    }\n",
       "\n",
       "    .dataframe thead th {\n",
       "        text-align: right;\n",
       "    }\n",
       "</style>\n",
       "<table border=\"1\" class=\"dataframe\">\n",
       "  <thead>\n",
       "    <tr style=\"text-align: right;\">\n",
       "      <th></th>\n",
       "      <th>airline_sentiment</th>\n",
       "      <th>airline</th>\n",
       "      <th>text</th>\n",
       "    </tr>\n",
       "  </thead>\n",
       "  <tbody>\n",
       "    <tr>\n",
       "      <th>0</th>\n",
       "      <td>neutral</td>\n",
       "      <td>Virgin America</td>\n",
       "      <td>@VirginAmerica What @dhepburn said.</td>\n",
       "    </tr>\n",
       "    <tr>\n",
       "      <th>1</th>\n",
       "      <td>positive</td>\n",
       "      <td>Virgin America</td>\n",
       "      <td>@VirginAmerica plus you've added commercials to the experience... tacky.</td>\n",
       "    </tr>\n",
       "    <tr>\n",
       "      <th>2</th>\n",
       "      <td>neutral</td>\n",
       "      <td>Virgin America</td>\n",
       "      <td>@VirginAmerica I didn't today... Must mean I need to take another trip!</td>\n",
       "    </tr>\n",
       "    <tr>\n",
       "      <th>3</th>\n",
       "      <td>negative</td>\n",
       "      <td>Virgin America</td>\n",
       "      <td>@VirginAmerica it's really aggressive to blast obnoxious \"entertainment\" in your guests' faces &amp;amp; they have little recourse</td>\n",
       "    </tr>\n",
       "    <tr>\n",
       "      <th>4</th>\n",
       "      <td>negative</td>\n",
       "      <td>Virgin America</td>\n",
       "      <td>@VirginAmerica and it's a really big bad thing about it</td>\n",
       "    </tr>\n",
       "  </tbody>\n",
       "</table>\n",
       "</div>"
      ],
      "text/plain": [
       "  airline_sentiment         airline  \\\n",
       "0           neutral  Virgin America   \n",
       "1          positive  Virgin America   \n",
       "2           neutral  Virgin America   \n",
       "3          negative  Virgin America   \n",
       "4          negative  Virgin America   \n",
       "\n",
       "                                                                                                                             text  \n",
       "0                                                                                             @VirginAmerica What @dhepburn said.  \n",
       "1                                                        @VirginAmerica plus you've added commercials to the experience... tacky.  \n",
       "2                                                         @VirginAmerica I didn't today... Must mean I need to take another trip!  \n",
       "3  @VirginAmerica it's really aggressive to blast obnoxious \"entertainment\" in your guests' faces &amp; they have little recourse  \n",
       "4                                                                         @VirginAmerica and it's a really big bad thing about it  "
      ]
     },
     "execution_count": 11,
     "metadata": {},
     "output_type": "execute_result"
    }
   ],
   "source": [
    "pd.set_option('display.max_colwidth', None) # Display full dataframe information (Non-turncated Text column.)\n",
    "\n",
    "df1.head()   # Check first 5 rows of data\n"
   ]
  },
  {
   "cell_type": "code",
   "execution_count": 12,
   "metadata": {},
   "outputs": [
    {
     "data": {
      "text/plain": [
       "(14640, 3)"
      ]
     },
     "execution_count": 12,
     "metadata": {},
     "output_type": "execute_result"
    }
   ],
   "source": [
    "df1.shape\n"
   ]
  },
  {
   "cell_type": "code",
   "execution_count": 13,
   "metadata": {
    "execution": {
     "iopub.execute_input": "2021-04-24T13:57:03.225415Z",
     "iopub.status.busy": "2021-04-24T13:57:03.220632Z",
     "iopub.status.idle": "2021-04-24T13:57:03.274423Z",
     "shell.execute_reply": "2021-04-24T13:57:03.260671Z",
     "shell.execute_reply.started": "2021-04-24T13:57:03.225338Z"
    }
   },
   "outputs": [
    {
     "data": {
      "text/plain": [
       "airline_sentiment    object\n",
       "airline              object\n",
       "text                 object\n",
       "dtype: object"
      ]
     },
     "execution_count": 13,
     "metadata": {},
     "output_type": "execute_result"
    }
   ],
   "source": [
    "df1.dtypes\n"
   ]
  },
  {
   "cell_type": "code",
   "execution_count": 14,
   "metadata": {
    "execution": {
     "iopub.execute_input": "2021-04-24T13:57:03.317330Z",
     "iopub.status.busy": "2021-04-24T13:57:03.316690Z",
     "iopub.status.idle": "2021-04-24T13:57:03.613591Z",
     "shell.execute_reply": "2021-04-24T13:57:03.612564Z",
     "shell.execute_reply.started": "2021-04-24T13:57:03.317277Z"
    }
   },
   "outputs": [
    {
     "data": {
      "text/plain": [
       "<AxesSubplot:xlabel='airline_sentiment', ylabel='Probability'>"
      ]
     },
     "execution_count": 14,
     "metadata": {},
     "output_type": "execute_result"
    },
    {
     "data": {
      "image/png": "[encoded data removed]",
      "text/plain": [
       "<Figure size 432x288 with 1 Axes>"
      ]
     },
     "metadata": {
      "needs_background": "light"
     },
     "output_type": "display_data"
    }
   ],
   "source": [
    "sns.histplot(df1['airline_sentiment'], binwidth=0.3, stat='probability')\n"
   ]
  },
  {
   "cell_type": "code",
   "execution_count": 52,
   "metadata": {},
   "outputs": [
    {
     "data": {
      "image/png": "[encoded data removed]",
      "text/plain": [
       "<Figure size 864x432 with 1 Axes>"
      ]
     },
     "metadata": {
      "needs_background": "light"
     },
     "output_type": "display_data"
    }
   ],
   "source": [
    "plt.rcParams['figure.figsize'] = (12, 6)\n",
    "pd.crosstab(df1.airline, df1.airline_sentiment, normalize='columns').plot(kind='bar');\n",
    "plt.tight_layout(pad=1.1)\n",
    "\n",
    "plt.savefig('airlines_tweets.png', facecolor='w')"
   ]
  },
  {
   "cell_type": "code",
   "execution_count": 21,
   "metadata": {
    "execution": {
     "iopub.execute_input": "2021-04-24T13:57:03.623170Z",
     "iopub.status.busy": "2021-04-24T13:57:03.621986Z",
     "iopub.status.idle": "2021-04-24T13:57:03.910430Z",
     "shell.execute_reply": "2021-04-24T13:57:03.909443Z",
     "shell.execute_reply.started": "2021-04-24T13:57:03.623097Z"
    }
   },
   "outputs": [
    {
     "data": {
      "text/plain": [
       "negative    62.691257\n",
       "neutral     21.168033\n",
       "positive    16.140710\n",
       "Name: airline_sentiment, dtype: float64"
      ]
     },
     "execution_count": 21,
     "metadata": {},
     "output_type": "execute_result"
    }
   ],
   "source": [
    "df1['airline_sentiment'].value_counts(normalize=True)*100\n"
   ]
  },
  {
   "cell_type": "code",
   "execution_count": 22,
   "metadata": {
    "execution": {
     "iopub.execute_input": "2021-04-24T13:57:03.919230Z",
     "iopub.status.busy": "2021-04-24T13:57:03.918275Z",
     "iopub.status.idle": "2021-04-24T13:57:03.949540Z",
     "shell.execute_reply": "2021-04-24T13:57:03.943623Z",
     "shell.execute_reply.started": "2021-04-24T13:57:03.919186Z"
    }
   },
   "outputs": [
    {
     "data": {
      "text/plain": [
       "United            26.106557\n",
       "US Airways        19.897541\n",
       "American          18.845628\n",
       "Southwest         16.530055\n",
       "Delta             15.177596\n",
       "Virgin America     3.442623\n",
       "Name: airline, dtype: float64"
      ]
     },
     "execution_count": 22,
     "metadata": {},
     "output_type": "execute_result"
    }
   ],
   "source": [
    "df1['airline'].value_counts(normalize=True)*100\n"
   ]
  },
  {
   "cell_type": "code",
   "execution_count": 23,
   "metadata": {
    "execution": {
     "iopub.execute_input": "2021-04-24T13:57:03.978203Z",
     "iopub.status.busy": "2021-04-24T13:57:03.977264Z",
     "iopub.status.idle": "2021-04-24T13:57:04.056711Z",
     "shell.execute_reply": "2021-04-24T13:57:04.045782Z",
     "shell.execute_reply.started": "2021-04-24T13:57:03.978142Z"
    }
   },
   "outputs": [
    {
     "data": {
      "text/html": [
       "<div>\n",
       "<style scoped>\n",
       "    .dataframe tbody tr th:only-of-type {\n",
       "        vertical-align: middle;\n",
       "    }\n",
       "\n",
       "    .dataframe tbody tr th {\n",
       "        vertical-align: top;\n",
       "    }\n",
       "\n",
       "    .dataframe thead th {\n",
       "        text-align: right;\n",
       "    }\n",
       "</style>\n",
       "<table border=\"1\" class=\"dataframe\">\n",
       "  <thead>\n",
       "    <tr style=\"text-align: right;\">\n",
       "      <th></th>\n",
       "      <th>text</th>\n",
       "    </tr>\n",
       "  </thead>\n",
       "  <tbody>\n",
       "    <tr>\n",
       "      <th>12485</th>\n",
       "      <td>@AmericanAir Policy makers need to change their mindset on aviation. Flying is not for... http://t.co/DQnn0Rf1V8</td>\n",
       "    </tr>\n",
       "    <tr>\n",
       "      <th>7149</th>\n",
       "      <td>But, are your flight attendants fucking tho? RT @JetBlue: Our fleet's on fleek. http://t.co/wGYzTnjCXm</td>\n",
       "    </tr>\n",
       "    <tr>\n",
       "      <th>9777</th>\n",
       "      <td>@USAirways your service at PHL is abysmal. An hour on the runway waiting for a gate, no information anywhere, missed my connection abysmal!</td>\n",
       "    </tr>\n",
       "    <tr>\n",
       "      <th>1972</th>\n",
       "      <td>@united - you rebooked me to UA1764 after UA 3883 was Cancelled Flightled. I paid for first class ticket - but new seat is 38E. Can you please fix!</td>\n",
       "    </tr>\n",
       "    <tr>\n",
       "      <th>7521</th>\n",
       "      <td>@JetBlue if someone had bothered to inform us that the airport closed, that would have helped.</td>\n",
       "    </tr>\n",
       "  </tbody>\n",
       "</table>\n",
       "</div>"
      ],
      "text/plain": [
       "                                                                                                                                                      text\n",
       "12485                                     @AmericanAir Policy makers need to change their mindset on aviation. Flying is not for... http://t.co/DQnn0Rf1V8\n",
       "7149                                                But, are your flight attendants fucking tho? RT @JetBlue: Our fleet's on fleek. http://t.co/wGYzTnjCXm\n",
       "9777           @USAirways your service at PHL is abysmal. An hour on the runway waiting for a gate, no information anywhere, missed my connection abysmal!\n",
       "1972   @united - you rebooked me to UA1764 after UA 3883 was Cancelled Flightled. I paid for first class ticket - but new seat is 38E. Can you please fix!\n",
       "7521                                                        @JetBlue if someone had bothered to inform us that the airport closed, that would have helped."
      ]
     },
     "execution_count": 23,
     "metadata": {},
     "output_type": "execute_result"
    }
   ],
   "source": [
    "#sampling only negative sentiments\n",
    "\n",
    "df1.query(\"airline_sentiment == 'negative'\").sample(5, random_state=423)[['text']]\n"
   ]
  },
  {
   "cell_type": "markdown",
   "metadata": {},
   "source": [
    " - Looks indeed negative"
   ]
  },
  {
   "cell_type": "code",
   "execution_count": 24,
   "metadata": {
    "execution": {
     "iopub.execute_input": "2021-04-24T13:57:04.080117Z",
     "iopub.status.busy": "2021-04-24T13:57:04.077103Z",
     "iopub.status.idle": "2021-04-24T13:57:04.129003Z",
     "shell.execute_reply": "2021-04-24T13:57:04.127513Z",
     "shell.execute_reply.started": "2021-04-24T13:57:04.080038Z"
    }
   },
   "outputs": [
    {
     "data": {
      "text/html": [
       "<div>\n",
       "<style scoped>\n",
       "    .dataframe tbody tr th:only-of-type {\n",
       "        vertical-align: middle;\n",
       "    }\n",
       "\n",
       "    .dataframe tbody tr th {\n",
       "        vertical-align: top;\n",
       "    }\n",
       "\n",
       "    .dataframe thead th {\n",
       "        text-align: right;\n",
       "    }\n",
       "</style>\n",
       "<table border=\"1\" class=\"dataframe\">\n",
       "  <thead>\n",
       "    <tr style=\"text-align: right;\">\n",
       "      <th></th>\n",
       "      <th>text</th>\n",
       "    </tr>\n",
       "  </thead>\n",
       "  <tbody>\n",
       "    <tr>\n",
       "      <th>6396</th>\n",
       "      <td>@SouthwestAir thanks for your excellent response time and assistance! All set :)</td>\n",
       "    </tr>\n",
       "    <tr>\n",
       "      <th>8484</th>\n",
       "      <td>@JetBlue thanks. I appreciate your prompt response.</td>\n",
       "    </tr>\n",
       "    <tr>\n",
       "      <th>8417</th>\n",
       "      <td>@JetBlue yes, with about 20 minutes to spare.  FYI - your employees are amazing.  Keep up the good work!</td>\n",
       "    </tr>\n",
       "    <tr>\n",
       "      <th>11553</th>\n",
       "      <td>@USAirways YOU ARE THE BEST!!! FOLLOW ME PLEASE;)🙏🙏🙏✌️✌️✌️🙏🙏🙏</td>\n",
       "    </tr>\n",
       "    <tr>\n",
       "      <th>8106</th>\n",
       "      <td>@JetBlue beautiful ride. Thanks again:)</td>\n",
       "    </tr>\n",
       "  </tbody>\n",
       "</table>\n",
       "</div>"
      ],
      "text/plain": [
       "                                                                                                           text\n",
       "6396                           @SouthwestAir thanks for your excellent response time and assistance! All set :)\n",
       "8484                                                        @JetBlue thanks. I appreciate your prompt response.\n",
       "8417   @JetBlue yes, with about 20 minutes to spare.  FYI - your employees are amazing.  Keep up the good work!\n",
       "11553                                             @USAirways YOU ARE THE BEST!!! FOLLOW ME PLEASE;)🙏🙏🙏✌️✌️✌️🙏🙏🙏\n",
       "8106                                                                    @JetBlue beautiful ride. Thanks again:)"
      ]
     },
     "execution_count": 24,
     "metadata": {},
     "output_type": "execute_result"
    }
   ],
   "source": [
    "#sampling only positive sentiments\n",
    "\n",
    "df1.query(\"airline_sentiment == 'positive'\").sample(5, random_state=42)[['text']]\n"
   ]
  },
  {
   "cell_type": "markdown",
   "metadata": {},
   "source": [
    "- Looks indeed positive, lots of emojies that need to be converted into text"
   ]
  },
  {
   "cell_type": "code",
   "execution_count": 25,
   "metadata": {},
   "outputs": [
    {
     "data": {
      "text/html": [
       "<div>\n",
       "<style scoped>\n",
       "    .dataframe tbody tr th:only-of-type {\n",
       "        vertical-align: middle;\n",
       "    }\n",
       "\n",
       "    .dataframe tbody tr th {\n",
       "        vertical-align: top;\n",
       "    }\n",
       "\n",
       "    .dataframe thead th {\n",
       "        text-align: right;\n",
       "    }\n",
       "</style>\n",
       "<table border=\"1\" class=\"dataframe\">\n",
       "  <thead>\n",
       "    <tr style=\"text-align: right;\">\n",
       "      <th></th>\n",
       "      <th>text</th>\n",
       "    </tr>\n",
       "  </thead>\n",
       "  <tbody>\n",
       "    <tr>\n",
       "      <th>6765</th>\n",
       "      <td>@JetBlue Yeah I have! I'm on it!! Looking for specific dates - I will just keep checking daily for a fare drop</td>\n",
       "    </tr>\n",
       "    <tr>\n",
       "      <th>4877</th>\n",
       "      <td>.@SouthwestAir Well, we all need something to aim for.</td>\n",
       "    </tr>\n",
       "    <tr>\n",
       "      <th>8145</th>\n",
       "      <td>@JetBlue Airways Hits New 12-Month High at $17.58 (JBLU) - WKRB News http://t.co/XvBjCzlMDA</td>\n",
       "    </tr>\n",
       "    <tr>\n",
       "      <th>6221</th>\n",
       "      <td>@SouthwestAir just sent you a DM w/ additonal info</td>\n",
       "    </tr>\n",
       "    <tr>\n",
       "      <th>10421</th>\n",
       "      <td>@USAirways well, depending on the policy will make the determination as to which airline is selected to travel.</td>\n",
       "    </tr>\n",
       "  </tbody>\n",
       "</table>\n",
       "</div>"
      ],
      "text/plain": [
       "                                                                                                                  text\n",
       "6765    @JetBlue Yeah I have! I'm on it!! Looking for specific dates - I will just keep checking daily for a fare drop\n",
       "4877                                                            .@SouthwestAir Well, we all need something to aim for.\n",
       "8145                       @JetBlue Airways Hits New 12-Month High at $17.58 (JBLU) - WKRB News http://t.co/XvBjCzlMDA\n",
       "6221                                                                @SouthwestAir just sent you a DM w/ additonal info\n",
       "10421  @USAirways well, depending on the policy will make the determination as to which airline is selected to travel."
      ]
     },
     "execution_count": 25,
     "metadata": {},
     "output_type": "execute_result"
    }
   ],
   "source": [
    "df1.query(\"airline_sentiment == 'neutral'\").sample(5, random_state=422)[['text']]\n"
   ]
  },
  {
   "cell_type": "markdown",
   "metadata": {},
   "source": [
    " - Looks 'neutrally' unclear, must be hard to separate from positive and negative (models scores will be decreased). Ideally, the 'neutral' class could be combined with 'positive' one, since they are not 'negative'."
   ]
  },
  {
   "cell_type": "code",
   "execution_count": 26,
   "metadata": {},
   "outputs": [
    {
     "data": {
      "text/plain": [
       "text    @VirginAmerica Really missed a prime opportunity for Men Without Hats parody, there. https://t.co/mWpG7grEZP\n",
       "Name: 7, dtype: object"
      ]
     },
     "execution_count": 26,
     "metadata": {},
     "output_type": "execute_result"
    }
   ],
   "source": [
    "df1.loc[7, ['text']]\n"
   ]
  },
  {
   "cell_type": "code",
   "execution_count": 27,
   "metadata": {},
   "outputs": [
    {
     "name": "stdout",
     "output_type": "stream",
     "text": [
      "original text    @VirginAmerica Really missed a prime opportunity for Men Without Hats parody, there. https://t.co/mWpG7grEZP\n",
      "Name: 7, dtype: object\n",
      "text    @VirginAmerica Really missed a prime opportunity for Men Without Hats parody, there. \n",
      "Name: 7, dtype: object\n"
     ]
    }
   ],
   "source": [
    "text=str(df1.loc[7, ['text']])\n",
    "\n",
    "print('original', text)\n",
    "\n",
    "t=re.sub(r\"http\\S+\", '', text)\n",
    "print(t)\n"
   ]
  },
  {
   "cell_type": "code",
   "execution_count": 28,
   "metadata": {},
   "outputs": [
    {
     "name": "stdout",
     "output_type": "stream",
     "text": [
      "original text    @virginamerica Well, I didn't…but NOW I DO! :-D\n",
      "Name: 8, dtype: object\n",
      "text    @virginamerica Well, I didn't…but NOW I DO! :-D\n",
      "Name: 8, dtype: object\n"
     ]
    }
   ],
   "source": [
    "text=str(df1.loc[8, ['text']])\n",
    "\n",
    "print('original', text)\n",
    "\n",
    "t=re.sub(r\"http\\S+\", '', text)\n",
    "print(t)"
   ]
  },
  {
   "cell_type": "markdown",
   "metadata": {
    "id": "377IfFic-Ihk"
   },
   "source": [
    "### Insights:\n",
    "\n",
    "- Significantly more 'negatives' vs. 'positive' and 'neutral', classes are unbalanced.\n",
    "- More negatives for larger (older?) airlines, such as United\n",
    "- More positives for smaller (younger?) airlines, such as Virgin America\n",
    "- Emoji need to be converted to text, since it is all about sentiments"
   ]
  },
  {
   "cell_type": "markdown",
   "metadata": {},
   "source": [
    "### Text pre-processing: Data preparation\n",
    "\n",
    "#### Part A: before Tokenization\n",
    " - a. Html tag removal\n",
    " - b. Translate emoji\n",
    " - c. Replace contructions\n",
    " - d. Remove the numbers.\n",
    "\n",
    " - e. <b>Tokenization</b>\n",
    "\n",
    "#### Part B: after Tokenization\n",
    " - f. Removal of Non-ASCII, Special Characters and Punctuations\n",
    " - g. Conversion to lowercase\n",
    " - h. Removal of stopwords\n",
    " - i. Lemmitization\n",
    " - j. Join the words in the list to convert back to text string in the dataframe\n",
    " - k. Print first and last 5 rows of data after pre-processing"
   ]
  },
  {
   "cell_type": "markdown",
   "metadata": {},
   "source": [
    "### Part A"
   ]
  },
  {
   "cell_type": "code",
   "execution_count": 29,
   "metadata": {},
   "outputs": [],
   "source": [
    "from sklearn.base import BaseEstimator, TransformerMixin\n"
   ]
  },
  {
   "cell_type": "code",
   "execution_count": 30,
   "metadata": {},
   "outputs": [],
   "source": [
    "class PreprocessTransform(BaseEstimator, TransformerMixin):\n",
    "    '''pipeline estimator sklearn'''\n",
    "    def __init__(self, remove_numbers=True):\n",
    "        self.remove_numbers = remove_numbers\n",
    "\n",
    "    def fit(self, X, y=None):\n",
    "        return self\n",
    "    \n",
    "    def transform(self, X, y=None):\n",
    "        \n",
    "        X_trans = X.apply(self._preprocess)\n",
    "        return X_trans\n",
    "    \n",
    "    def _preprocess(self, text):\n",
    "        text = self._strip_html(text)\n",
    "        text = self._strip_html_text(text)\n",
    "        text = self._translate_emoji(text)\n",
    "        text = self._replace_contractions(text)\n",
    "        if self.remove_numbers:\n",
    "            text = self._remove_numbers(text)\n",
    "        \n",
    "        return text\n",
    "            \n",
    "    def _strip_html(self, text):\n",
    "        soup = BeautifulSoup(text, \"html.parser\")\n",
    "        return soup.get_text()\n",
    "    \n",
    "    def _strip_html_text(self, text):       \n",
    "        text_1=re.sub(r\"http\\S+\", '', str(text))\n",
    "        return text_1\n",
    "    \n",
    "    def _translate_emoji(self, text):\n",
    "        \"\"\"Translate emoji into english words\"\"\"\n",
    "        text_1 = emoji.demojize(text)\n",
    "        text_2 = str(text_1.split('_')) #after emoji conversion, words are joined by \"_\", which is removed here\n",
    "        return text_2\n",
    "    \n",
    "    def _replace_contractions(self, text):\n",
    "        \"\"\"Replace contractions in string of text\"\"\"\n",
    "        return contractions.fix(text)\n",
    "    \n",
    "    def _remove_numbers(self, text):\n",
    "        text = re.sub(r'\\d+', '', text)\n",
    "        return text\n",
    "    "
   ]
  },
  {
   "cell_type": "code",
   "execution_count": 31,
   "metadata": {},
   "outputs": [
    {
     "name": "stdout",
     "output_type": "stream",
     "text": [
      "text    @USAirways YOU ARE THE BEST!!! FOLLOW ME PLEASE;)🙏🙏🙏✌️✌️✌️🙏🙏🙏\n",
      "Name: 11553, dtype: object\n",
      "<class 'pandas.core.series.Series'>\n"
     ]
    }
   ],
   "source": [
    "text=df1.loc[11553, ['text']]\n",
    "print(text)\n",
    "print(type(text))\n"
   ]
  },
  {
   "cell_type": "code",
   "execution_count": 32,
   "metadata": {},
   "outputs": [
    {
     "data": {
      "text/plain": [
       "text    ['@USAirways YOU ARE THE BEST!!! FOLLOW ME PLEASE;):folded', 'hands::folded', 'hands::folded', 'hands::victory', 'hand::victory', 'hand::victory', 'hand::folded', 'hands::folded', 'hands::folded', 'hands:']\n",
       "Name: 11553, dtype: object"
      ]
     },
     "execution_count": 32,
     "metadata": {},
     "output_type": "execute_result"
    }
   ],
   "source": [
    "PreprocessTransform().transform(text)\n"
   ]
  },
  {
   "cell_type": "code",
   "execution_count": 33,
   "metadata": {},
   "outputs": [
    {
     "data": {
      "text/plain": [
       "text    ['@JetBlue yes, with about  minutes to spare.  FYI - your employees are amazing.  Keep up the good work!']\n",
       "Name: 8417, dtype: object"
      ]
     },
     "execution_count": 33,
     "metadata": {},
     "output_type": "execute_result"
    }
   ],
   "source": [
    "PreprocessTransform().transform(df1.loc[8417, ['text']])\n"
   ]
  },
  {
   "cell_type": "markdown",
   "metadata": {},
   "source": [
    "> Removing names of airlines from text not to bias classifications"
   ]
  },
  {
   "cell_type": "code",
   "execution_count": 34,
   "metadata": {},
   "outputs": [
    {
     "name": "stdout",
     "output_type": "stream",
     "text": [
      "9\n"
     ]
    }
   ],
   "source": [
    "a_list=np.array(df1['airline'].unique())\n",
    "airlines_list=[re.sub(' ', '', word) for word in a_list]\n",
    "\n",
    "adds=['AmericanAir', 'JetBlue', 'SouthwestAir']\n",
    "airlines_list+=adds\n",
    "print(len(airlines_list))\n"
   ]
  },
  {
   "cell_type": "code",
   "execution_count": 35,
   "metadata": {},
   "outputs": [
    {
     "data": {
      "text/plain": [
       "['virginamerica',\n",
       " 'united',\n",
       " 'southwest',\n",
       " 'delta',\n",
       " 'usairways',\n",
       " 'american',\n",
       " 'americanair',\n",
       " 'jetblue',\n",
       " 'southwestair']"
      ]
     },
     "execution_count": 35,
     "metadata": {},
     "output_type": "execute_result"
    }
   ],
   "source": [
    "airlines_list_l=[]\n",
    "for i in airlines_list:\n",
    "    i_new=i.lower()\n",
    "    airlines_list_l.append(i_new)\n",
    "    \n",
    "airlines_list_l\n"
   ]
  },
  {
   "cell_type": "code",
   "execution_count": 36,
   "metadata": {},
   "outputs": [],
   "source": [
    "stopwords = stopwords.words('english')\n",
    "\n",
    "customlist_to_remove = ['not', \"couldn't\", 'didn', \"didn't\", 'doesn', \"doesn't\", 'hadn', \"hadn't\", 'hasn',\n",
    "        \"hasn't\", 'haven', \"haven't\", 'isn', \"isn't\", 'ma', 'mightn', \"mightn't\", 'mustn',\n",
    "        \"mustn't\", 'needn', \"needn't\", 'shan', \"shan't\", 'shouldn', \"shouldn't\", 'wasn',\n",
    "        \"wasn't\", 'weren', \"weren't\", 'won', \"won't\", 'wouldn', \"wouldn't\"]\n",
    "\n",
    "customlist_to_add = airlines_list_l \n",
    "\n",
    "stopwords = list(set(stopwords) - set(customlist_to_remove))      \n",
    "stopwords += set(customlist_to_add)\n"
   ]
  },
  {
   "cell_type": "code",
   "execution_count": 37,
   "metadata": {},
   "outputs": [],
   "source": [
    "#stopwords\n"
   ]
  },
  {
   "cell_type": "code",
   "execution_count": 38,
   "metadata": {},
   "outputs": [
    {
     "name": "stdout",
     "output_type": "stream",
     "text": [
      "<class 'list'> 155\n"
     ]
    }
   ],
   "source": [
    "print(type(stopwords), len(stopwords))\n"
   ]
  },
  {
   "cell_type": "code",
   "execution_count": 39,
   "metadata": {},
   "outputs": [],
   "source": [
    "lemmatizer = WordNetLemmatizer()\n"
   ]
  },
  {
   "cell_type": "code",
   "execution_count": 40,
   "metadata": {},
   "outputs": [],
   "source": [
    "class TokenizeLemmatize(PreprocessTransform):    \n",
    "    \n",
    "    def __init__(self, remove_non_ascii=True):\n",
    "        self.remove_non_ascii = remove_non_ascii\n",
    "    \n",
    "    def transform(self, X, y=None):\n",
    "        \n",
    "        tokens = X.apply(nltk.word_tokenize)\n",
    "        \n",
    "        normalized_tokens = tokens.apply(self._normalize)\n",
    "    \n",
    "        return normalized_tokens\n",
    "\n",
    "\n",
    "    def _remove_non_ascii(self, words):\n",
    "        \"\"\"Remove non-ASCII characters from list of tokenized words\"\"\"\n",
    "        new_words = []\n",
    "        for word in words:\n",
    "            new_word = unicodedata.normalize('NFKD', word).encode('ascii', 'ignore').decode('utf-8', 'ignore')\n",
    "            new_words.append(new_word)\n",
    "        return new_words\n",
    "\n",
    "    def _to_lowercase(self, words):\n",
    "        \"\"\"Convert all characters to lowercase from list of tokenized words\"\"\"\n",
    "        new_words = []\n",
    "        for word in words:\n",
    "            new_word = word.lower()\n",
    "            new_words.append(new_word)\n",
    "        return new_words\n",
    "\n",
    "    def _remove_punctuation(self, words):\n",
    "        \"\"\"Remove punctuation from list of tokenized words\"\"\"\n",
    "        new_words = []\n",
    "        for word in words:\n",
    "            new_word = re.sub(r'[^\\w\\s]', '', word)\n",
    "            if new_word != '':\n",
    "                new_words.append(new_word)\n",
    "        return new_words\n",
    "\n",
    "    def _remove_stopwords(self, words):\n",
    "        \"\"\"Remove stop words from list of tokenized words\"\"\"\n",
    "        new_words = []\n",
    "        for word in words:\n",
    "            if word not in stopwords:\n",
    "                new_words.append(word)\n",
    "        return new_words\n",
    "\n",
    "    def _lemmatize_list(self, words):\n",
    "        new_words = []\n",
    "        for word in words:\n",
    "            new_words.append(lemmatizer.lemmatize(word, pos='v'))\n",
    "        return new_words\n",
    "    \n",
    "\n",
    "    def _normalize(self, words):\n",
    "        \n",
    "        if self.remove_non_ascii:\n",
    "            words = self._remove_non_ascii(words)\n",
    "            \n",
    "        words = self._to_lowercase(words)\n",
    "        words = self._remove_punctuation(words)\n",
    "        words = self._remove_stopwords(words)\n",
    "            \n",
    "        words = self._lemmatize_list(words)\n",
    "        \n",
    "        return ' '.join(words)\n",
    "    "
   ]
  },
  {
   "cell_type": "code",
   "execution_count": 41,
   "metadata": {},
   "outputs": [
    {
     "data": {
      "text/plain": [
       "text    amaze arrive hour early good\n",
       "Name: 9, dtype: object"
      ]
     },
     "execution_count": 41,
     "metadata": {},
     "output_type": "execute_result"
    }
   ],
   "source": [
    "TokenizeLemmatize().transform(df1.loc[9, ['text']])\n",
    "\n"
   ]
  },
  {
   "cell_type": "code",
   "execution_count": 42,
   "metadata": {},
   "outputs": [
    {
     "data": {
      "text/plain": [
       "text    @virginamerica Well, I didn't…but NOW I DO! :-D\n",
       "Name: 8, dtype: object"
      ]
     },
     "execution_count": 42,
     "metadata": {},
     "output_type": "execute_result"
    }
   ],
   "source": [
    "df1.loc[8, ['text']]\n"
   ]
  },
  {
   "cell_type": "code",
   "execution_count": 43,
   "metadata": {},
   "outputs": [
    {
     "name": "stdout",
     "output_type": "stream",
     "text": [
      "text    well didntbut\n",
      "Name: 8, dtype: object 1 <class 'pandas.core.series.Series'>\n"
     ]
    }
   ],
   "source": [
    "nt=TokenizeLemmatize().transform(df1.loc[8, ['text']])\n",
    "print(nt, len(nt), type(nt))\n"
   ]
  },
  {
   "cell_type": "markdown",
   "metadata": {},
   "source": [
    "### Preprocessing Pipelines"
   ]
  },
  {
   "cell_type": "code",
   "execution_count": 53,
   "metadata": {},
   "outputs": [],
   "source": [
    "df2=df1.copy()\n"
   ]
  },
  {
   "cell_type": "code",
   "execution_count": 54,
   "metadata": {},
   "outputs": [],
   "source": [
    "from sklearn.pipeline import Pipeline\n",
    "from sklearn import set_config\n",
    "set_config(display='diagram')\n"
   ]
  },
  {
   "cell_type": "code",
   "execution_count": 55,
   "metadata": {},
   "outputs": [],
   "source": [
    "\n",
    "pipe_steps = [\n",
    "    ('PreprocessTransform', PreprocessTransform()), # on keywords field\n",
    "    ('TokenizeLemmatize', TokenizeLemmatize()) # on text field\n",
    "]\n"
   ]
  },
  {
   "cell_type": "code",
   "execution_count": 56,
   "metadata": {},
   "outputs": [
    {
     "data": {
      "text/html": [
       "<style>div.sk-top-container {color: black;background-color: white;}div.sk-toggleable {background-color: white;}label.sk-toggleable__label {cursor: pointer;display: block;width: 100%;margin-bottom: 0;padding: 0.2em 0.3em;box-sizing: border-box;text-align: center;}div.sk-toggleable__content {max-height: 0;max-width: 0;overflow: hidden;text-align: left;background-color: #f0f8ff;}div.sk-toggleable__content pre {margin: 0.2em;color: black;border-radius: 0.25em;background-color: #f0f8ff;}input.sk-toggleable__control:checked~div.sk-toggleable__content {max-height: 200px;max-width: 100%;overflow: auto;}div.sk-estimator input.sk-toggleable__control:checked~label.sk-toggleable__label {background-color: #d4ebff;}div.sk-label input.sk-toggleable__control:checked~label.sk-toggleable__label {background-color: #d4ebff;}input.sk-hidden--visually {border: 0;clip: rect(1px 1px 1px 1px);clip: rect(1px, 1px, 1px, 1px);height: 1px;margin: -1px;overflow: hidden;padding: 0;position: absolute;width: 1px;}div.sk-estimator {font-family: monospace;background-color: #f0f8ff;margin: 0.25em 0.25em;border: 1px dotted black;border-radius: 0.25em;box-sizing: border-box;}div.sk-estimator:hover {background-color: #d4ebff;}div.sk-parallel-item::after {content: \"\";width: 100%;border-bottom: 1px solid gray;flex-grow: 1;}div.sk-label:hover label.sk-toggleable__label {background-color: #d4ebff;}div.sk-serial::before {content: \"\";position: absolute;border-left: 1px solid gray;box-sizing: border-box;top: 2em;bottom: 0;left: 50%;}div.sk-serial {display: flex;flex-direction: column;align-items: center;background-color: white;}div.sk-item {z-index: 1;}div.sk-parallel {display: flex;align-items: stretch;justify-content: center;background-color: white;}div.sk-parallel-item {display: flex;flex-direction: column;position: relative;background-color: white;}div.sk-parallel-item:first-child::after {align-self: flex-end;width: 50%;}div.sk-parallel-item:last-child::after {align-self: flex-start;width: 50%;}div.sk-parallel-item:only-child::after {width: 0;}div.sk-dashed-wrapped {border: 1px dashed gray;margin: 0.2em;box-sizing: border-box;padding-bottom: 0.1em;background-color: white;position: relative;}div.sk-label label {font-family: monospace;font-weight: bold;background-color: white;display: inline-block;line-height: 1.2em;}div.sk-label-container {position: relative;z-index: 2;text-align: center;}div.sk-container {display: inline-block;position: relative;}</style><div class=\"sk-top-container\"><div class=\"sk-container\"><div class=\"sk-item sk-dashed-wrapped\"><div class=\"sk-label-container\"><div class=\"sk-label sk-toggleable\"><input class=\"sk-toggleable__control sk-hidden--visually\" id=\"c3f772a0-1365-4be6-8be4-a6f424413f15\" type=\"checkbox\" ><label class=\"sk-toggleable__label\" for=\"c3f772a0-1365-4be6-8be4-a6f424413f15\">Pipeline</label><div class=\"sk-toggleable__content\"><pre>Pipeline(steps=[('PreprocessTransform', PreprocessTransform()),\n",
       "                ('TokenizeLemmatize', TokenizeLemmatize())])</pre></div></div></div><div class=\"sk-serial\"><div class=\"sk-item\"><div class=\"sk-estimator sk-toggleable\"><input class=\"sk-toggleable__control sk-hidden--visually\" id=\"88aaeabb-9adb-4b6f-a9a5-0fa27f594653\" type=\"checkbox\" ><label class=\"sk-toggleable__label\" for=\"88aaeabb-9adb-4b6f-a9a5-0fa27f594653\">PreprocessTransform</label><div class=\"sk-toggleable__content\"><pre>PreprocessTransform()</pre></div></div></div><div class=\"sk-item\"><div class=\"sk-estimator sk-toggleable\"><input class=\"sk-toggleable__control sk-hidden--visually\" id=\"d04b1c5b-4632-4848-995d-f2bb6f921abf\" type=\"checkbox\" ><label class=\"sk-toggleable__label\" for=\"d04b1c5b-4632-4848-995d-f2bb6f921abf\">TokenizeLemmatize</label><div class=\"sk-toggleable__content\"><pre>TokenizeLemmatize()</pre></div></div></div></div></div></div></div>"
      ],
      "text/plain": [
       "Pipeline(steps=[('PreprocessTransform', PreprocessTransform()),\n",
       "                ('TokenizeLemmatize', TokenizeLemmatize())])"
      ]
     },
     "execution_count": 56,
     "metadata": {},
     "output_type": "execute_result"
    }
   ],
   "source": [
    "pipe = Pipeline(pipe_steps)\n",
    "pipe\n"
   ]
  },
  {
   "cell_type": "code",
   "execution_count": 57,
   "metadata": {},
   "outputs": [
    {
     "data": {
      "text/plain": [
       "0                                                                                     dhepburn say\n",
       "1                                                            plus add commercials experience tacky\n",
       "2                                                       not today must mean need take another trip\n",
       "3                      really aggressive blast obnoxious entertainment guests face little recourse\n",
       "4                                                                             really big bad thing\n",
       "                                                   ...                                            \n",
       "14635                                                           thank get different flight chicago\n",
       "14636    leave minutes late flight warn communication minutes late flight call shitty customer svc\n",
       "14637                                                             please bring airlines blackberry\n",
       "14638                             money change flight not answer phone suggestions make commitment\n",
       "14639                    ppl need know many seat next flight plz put us standby people next flight\n",
       "Name: text, Length: 14640, dtype: object"
      ]
     },
     "execution_count": 57,
     "metadata": {},
     "output_type": "execute_result"
    }
   ],
   "source": [
    "pipe.transform(df2['text'])\n"
   ]
  },
  {
   "cell_type": "code",
   "execution_count": 58,
   "metadata": {},
   "outputs": [
    {
     "data": {
      "text/html": [
       "<div>\n",
       "<style scoped>\n",
       "    .dataframe tbody tr th:only-of-type {\n",
       "        vertical-align: middle;\n",
       "    }\n",
       "\n",
       "    .dataframe tbody tr th {\n",
       "        vertical-align: top;\n",
       "    }\n",
       "\n",
       "    .dataframe thead th {\n",
       "        text-align: right;\n",
       "    }\n",
       "</style>\n",
       "<table border=\"1\" class=\"dataframe\">\n",
       "  <thead>\n",
       "    <tr style=\"text-align: right;\">\n",
       "      <th></th>\n",
       "      <th>airline_sentiment</th>\n",
       "      <th>airline</th>\n",
       "      <th>text</th>\n",
       "    </tr>\n",
       "  </thead>\n",
       "  <tbody>\n",
       "    <tr>\n",
       "      <th>14637</th>\n",
       "      <td>neutral</td>\n",
       "      <td>American</td>\n",
       "      <td>@AmericanAir Please bring American Airlines to #BlackBerry10</td>\n",
       "    </tr>\n",
       "    <tr>\n",
       "      <th>14638</th>\n",
       "      <td>negative</td>\n",
       "      <td>American</td>\n",
       "      <td>@AmericanAir you have my money, you change my flight, and don't answer your phones! Any other suggestions so I can make my commitment??</td>\n",
       "    </tr>\n",
       "    <tr>\n",
       "      <th>14639</th>\n",
       "      <td>neutral</td>\n",
       "      <td>American</td>\n",
       "      <td>@AmericanAir we have 8 ppl so we need 2 know how many seats are on the next flight. Plz put us on standby for 4 people on the next flight?</td>\n",
       "    </tr>\n",
       "  </tbody>\n",
       "</table>\n",
       "</div>"
      ],
      "text/plain": [
       "      airline_sentiment   airline  \\\n",
       "14637           neutral  American   \n",
       "14638          negative  American   \n",
       "14639           neutral  American   \n",
       "\n",
       "                                                                                                                                             text  \n",
       "14637                                                                                @AmericanAir Please bring American Airlines to #BlackBerry10  \n",
       "14638     @AmericanAir you have my money, you change my flight, and don't answer your phones! Any other suggestions so I can make my commitment??  \n",
       "14639  @AmericanAir we have 8 ppl so we need 2 know how many seats are on the next flight. Plz put us on standby for 4 people on the next flight?  "
      ]
     },
     "execution_count": 58,
     "metadata": {},
     "output_type": "execute_result"
    }
   ],
   "source": [
    "df2.tail(3)\n"
   ]
  },
  {
   "cell_type": "code",
   "execution_count": 59,
   "metadata": {},
   "outputs": [
    {
     "data": {
      "text/plain": [
       "{'remove_non_ascii': True}"
      ]
     },
     "execution_count": 59,
     "metadata": {},
     "output_type": "execute_result"
    }
   ],
   "source": [
    "pipe.steps[-1][-1].get_params()\n"
   ]
  },
  {
   "cell_type": "code",
   "execution_count": 60,
   "metadata": {},
   "outputs": [
    {
     "data": {
      "text/html": [
       "<style>div.sk-top-container {color: black;background-color: white;}div.sk-toggleable {background-color: white;}label.sk-toggleable__label {cursor: pointer;display: block;width: 100%;margin-bottom: 0;padding: 0.2em 0.3em;box-sizing: border-box;text-align: center;}div.sk-toggleable__content {max-height: 0;max-width: 0;overflow: hidden;text-align: left;background-color: #f0f8ff;}div.sk-toggleable__content pre {margin: 0.2em;color: black;border-radius: 0.25em;background-color: #f0f8ff;}input.sk-toggleable__control:checked~div.sk-toggleable__content {max-height: 200px;max-width: 100%;overflow: auto;}div.sk-estimator input.sk-toggleable__control:checked~label.sk-toggleable__label {background-color: #d4ebff;}div.sk-label input.sk-toggleable__control:checked~label.sk-toggleable__label {background-color: #d4ebff;}input.sk-hidden--visually {border: 0;clip: rect(1px 1px 1px 1px);clip: rect(1px, 1px, 1px, 1px);height: 1px;margin: -1px;overflow: hidden;padding: 0;position: absolute;width: 1px;}div.sk-estimator {font-family: monospace;background-color: #f0f8ff;margin: 0.25em 0.25em;border: 1px dotted black;border-radius: 0.25em;box-sizing: border-box;}div.sk-estimator:hover {background-color: #d4ebff;}div.sk-parallel-item::after {content: \"\";width: 100%;border-bottom: 1px solid gray;flex-grow: 1;}div.sk-label:hover label.sk-toggleable__label {background-color: #d4ebff;}div.sk-serial::before {content: \"\";position: absolute;border-left: 1px solid gray;box-sizing: border-box;top: 2em;bottom: 0;left: 50%;}div.sk-serial {display: flex;flex-direction: column;align-items: center;background-color: white;}div.sk-item {z-index: 1;}div.sk-parallel {display: flex;align-items: stretch;justify-content: center;background-color: white;}div.sk-parallel-item {display: flex;flex-direction: column;position: relative;background-color: white;}div.sk-parallel-item:first-child::after {align-self: flex-end;width: 50%;}div.sk-parallel-item:last-child::after {align-self: flex-start;width: 50%;}div.sk-parallel-item:only-child::after {width: 0;}div.sk-dashed-wrapped {border: 1px dashed gray;margin: 0.2em;box-sizing: border-box;padding-bottom: 0.1em;background-color: white;position: relative;}div.sk-label label {font-family: monospace;font-weight: bold;background-color: white;display: inline-block;line-height: 1.2em;}div.sk-label-container {position: relative;z-index: 2;text-align: center;}div.sk-container {display: inline-block;position: relative;}</style><div class=\"sk-top-container\"><div class=\"sk-container\"><div class=\"sk-item sk-dashed-wrapped\"><div class=\"sk-label-container\"><div class=\"sk-label sk-toggleable\"><input class=\"sk-toggleable__control sk-hidden--visually\" id=\"9ea61357-2a81-48c5-8bbe-be6fb138faa4\" type=\"checkbox\" ><label class=\"sk-toggleable__label\" for=\"9ea61357-2a81-48c5-8bbe-be6fb138faa4\">Pipeline</label><div class=\"sk-toggleable__content\"><pre>Pipeline(steps=[('PreprocessTransform', PreprocessTransform()),\n",
       "                ('TokenizeLemmatize', TokenizeLemmatize())])</pre></div></div></div><div class=\"sk-serial\"><div class=\"sk-item\"><div class=\"sk-estimator sk-toggleable\"><input class=\"sk-toggleable__control sk-hidden--visually\" id=\"69e02742-1d7d-4713-8d5c-1395fcd5344a\" type=\"checkbox\" ><label class=\"sk-toggleable__label\" for=\"69e02742-1d7d-4713-8d5c-1395fcd5344a\">PreprocessTransform</label><div class=\"sk-toggleable__content\"><pre>PreprocessTransform()</pre></div></div></div><div class=\"sk-item\"><div class=\"sk-estimator sk-toggleable\"><input class=\"sk-toggleable__control sk-hidden--visually\" id=\"a721f6d2-e906-4da5-ae94-72d769672684\" type=\"checkbox\" ><label class=\"sk-toggleable__label\" for=\"a721f6d2-e906-4da5-ae94-72d769672684\">TokenizeLemmatize</label><div class=\"sk-toggleable__content\"><pre>TokenizeLemmatize()</pre></div></div></div></div></div></div></div>"
      ],
      "text/plain": [
       "Pipeline(steps=[('PreprocessTransform', PreprocessTransform()),\n",
       "                ('TokenizeLemmatize', TokenizeLemmatize())])"
      ]
     },
     "execution_count": 60,
     "metadata": {},
     "output_type": "execute_result"
    }
   ],
   "source": [
    "pipe.set_params(TokenizeLemmatize__remove_non_ascii=True)\n"
   ]
  },
  {
   "cell_type": "code",
   "execution_count": 61,
   "metadata": {},
   "outputs": [
    {
     "data": {
      "text/html": [
       "<style>div.sk-top-container {color: black;background-color: white;}div.sk-toggleable {background-color: white;}label.sk-toggleable__label {cursor: pointer;display: block;width: 100%;margin-bottom: 0;padding: 0.2em 0.3em;box-sizing: border-box;text-align: center;}div.sk-toggleable__content {max-height: 0;max-width: 0;overflow: hidden;text-align: left;background-color: #f0f8ff;}div.sk-toggleable__content pre {margin: 0.2em;color: black;border-radius: 0.25em;background-color: #f0f8ff;}input.sk-toggleable__control:checked~div.sk-toggleable__content {max-height: 200px;max-width: 100%;overflow: auto;}div.sk-estimator input.sk-toggleable__control:checked~label.sk-toggleable__label {background-color: #d4ebff;}div.sk-label input.sk-toggleable__control:checked~label.sk-toggleable__label {background-color: #d4ebff;}input.sk-hidden--visually {border: 0;clip: rect(1px 1px 1px 1px);clip: rect(1px, 1px, 1px, 1px);height: 1px;margin: -1px;overflow: hidden;padding: 0;position: absolute;width: 1px;}div.sk-estimator {font-family: monospace;background-color: #f0f8ff;margin: 0.25em 0.25em;border: 1px dotted black;border-radius: 0.25em;box-sizing: border-box;}div.sk-estimator:hover {background-color: #d4ebff;}div.sk-parallel-item::after {content: \"\";width: 100%;border-bottom: 1px solid gray;flex-grow: 1;}div.sk-label:hover label.sk-toggleable__label {background-color: #d4ebff;}div.sk-serial::before {content: \"\";position: absolute;border-left: 1px solid gray;box-sizing: border-box;top: 2em;bottom: 0;left: 50%;}div.sk-serial {display: flex;flex-direction: column;align-items: center;background-color: white;}div.sk-item {z-index: 1;}div.sk-parallel {display: flex;align-items: stretch;justify-content: center;background-color: white;}div.sk-parallel-item {display: flex;flex-direction: column;position: relative;background-color: white;}div.sk-parallel-item:first-child::after {align-self: flex-end;width: 50%;}div.sk-parallel-item:last-child::after {align-self: flex-start;width: 50%;}div.sk-parallel-item:only-child::after {width: 0;}div.sk-dashed-wrapped {border: 1px dashed gray;margin: 0.2em;box-sizing: border-box;padding-bottom: 0.1em;background-color: white;position: relative;}div.sk-label label {font-family: monospace;font-weight: bold;background-color: white;display: inline-block;line-height: 1.2em;}div.sk-label-container {position: relative;z-index: 2;text-align: center;}div.sk-container {display: inline-block;position: relative;}</style><div class=\"sk-top-container\"><div class=\"sk-container\"><div class=\"sk-item sk-dashed-wrapped\"><div class=\"sk-label-container\"><div class=\"sk-label sk-toggleable\"><input class=\"sk-toggleable__control sk-hidden--visually\" id=\"3f66f033-1c8f-400d-af0b-87fa196834f1\" type=\"checkbox\" ><label class=\"sk-toggleable__label\" for=\"3f66f033-1c8f-400d-af0b-87fa196834f1\">Pipeline</label><div class=\"sk-toggleable__content\"><pre>Pipeline(steps=[('PreprocessTransform', PreprocessTransform()),\n",
       "                ('TokenizeLemmatize', TokenizeLemmatize()),\n",
       "                ('CountVectorizer', CountVectorizer())])</pre></div></div></div><div class=\"sk-serial\"><div class=\"sk-item\"><div class=\"sk-estimator sk-toggleable\"><input class=\"sk-toggleable__control sk-hidden--visually\" id=\"2e2de153-63f9-40c0-b220-5cf99f849aca\" type=\"checkbox\" ><label class=\"sk-toggleable__label\" for=\"2e2de153-63f9-40c0-b220-5cf99f849aca\">PreprocessTransform</label><div class=\"sk-toggleable__content\"><pre>PreprocessTransform()</pre></div></div></div><div class=\"sk-item\"><div class=\"sk-estimator sk-toggleable\"><input class=\"sk-toggleable__control sk-hidden--visually\" id=\"c73e154e-d9b4-41bc-93d4-96bda2297a99\" type=\"checkbox\" ><label class=\"sk-toggleable__label\" for=\"c73e154e-d9b4-41bc-93d4-96bda2297a99\">TokenizeLemmatize</label><div class=\"sk-toggleable__content\"><pre>TokenizeLemmatize()</pre></div></div></div><div class=\"sk-item\"><div class=\"sk-estimator sk-toggleable\"><input class=\"sk-toggleable__control sk-hidden--visually\" id=\"beb65ec7-f738-49d7-b670-f3d49e75785a\" type=\"checkbox\" ><label class=\"sk-toggleable__label\" for=\"beb65ec7-f738-49d7-b670-f3d49e75785a\">CountVectorizer</label><div class=\"sk-toggleable__content\"><pre>CountVectorizer()</pre></div></div></div></div></div></div></div>"
      ],
      "text/plain": [
       "Pipeline(steps=[('PreprocessTransform', PreprocessTransform()),\n",
       "                ('TokenizeLemmatize', TokenizeLemmatize()),\n",
       "                ('CountVectorizer', CountVectorizer())])"
      ]
     },
     "execution_count": 61,
     "metadata": {},
     "output_type": "execute_result"
    }
   ],
   "source": [
    "pipe_steps.append((\"CountVectorizer\", CountVectorizer()))\n",
    "pipe2 = Pipeline(pipe_steps)\n",
    "pipe2\n"
   ]
  },
  {
   "cell_type": "code",
   "execution_count": 62,
   "metadata": {},
   "outputs": [
    {
     "data": {
      "text/plain": [
       "<14640x10979 sparse matrix of type '<class 'numpy.int64'>'\n",
       "\twith 125717 stored elements in Compressed Sparse Row format>"
      ]
     },
     "execution_count": 62,
     "metadata": {},
     "output_type": "execute_result"
    }
   ],
   "source": [
    "pipe2.fit_transform(df2['text'])\n"
   ]
  },
  {
   "cell_type": "code",
   "execution_count": 63,
   "metadata": {},
   "outputs": [
    {
     "data": {
      "text/plain": [
       "['aa',\n",
       " 'aaaand',\n",
       " 'aaadvantage',\n",
       " 'aaalwayslate',\n",
       " 'aaba',\n",
       " 'aacom',\n",
       " 'aacustomerservice',\n",
       " 'aadavantage',\n",
       " 'aadelay',\n",
       " 'aadv',\n",
       " 'aadvantage',\n",
       " 'aafail',\n",
       " 'aal',\n",
       " 'aano',\n",
       " 'aaron',\n",
       " 'aarp',\n",
       " 'aaso',\n",
       " 'aateam',\n",
       " 'aaus',\n",
       " 'ab',\n",
       " 'aback',\n",
       " 'abandon',\n",
       " 'abandonment',\n",
       " 'abassinet',\n",
       " 'abbreve',\n",
       " 'abc',\n",
       " 'abcdef',\n",
       " 'abcletjetbluestreamfeed',\n",
       " 'abcnetwork',\n",
       " 'abcnews',\n",
       " 'abcnewsbayarea',\n",
       " 'abduct',\n",
       " 'abi',\n",
       " 'abidfw',\n",
       " 'abigailedge',\n",
       " 'abilities',\n",
       " 'ability',\n",
       " 'able',\n",
       " 'aboard',\n",
       " 'aboout',\n",
       " 'abound',\n",
       " 'abq',\n",
       " 'abroad',\n",
       " 'absolute',\n",
       " 'absolutely',\n",
       " 'absorb',\n",
       " 'absorber',\n",
       " 'absoulutely',\n",
       " 'absurd',\n",
       " 'absurdity',\n",
       " 'absurdly',\n",
       " 'abt',\n",
       " 'abundance',\n",
       " 'abuse',\n",
       " 'abysmal',\n",
       " 'ac',\n",
       " 'acarl',\n",
       " 'acc',\n",
       " 'accelerate',\n",
       " 'accept',\n",
       " 'acceptable',\n",
       " 'acces',\n",
       " 'access',\n",
       " 'accessibility',\n",
       " 'accessible',\n",
       " 'accident',\n",
       " 'accidentally',\n",
       " 'accidents',\n",
       " 'accomidating',\n",
       " 'accommodate',\n",
       " 'accommodation',\n",
       " 'accommodations',\n",
       " 'accompaniments',\n",
       " 'accompany',\n",
       " 'accomplish',\n",
       " 'accord',\n",
       " 'accordingly',\n",
       " 'account',\n",
       " 'accountability',\n",
       " 'accountable',\n",
       " 'accrue',\n",
       " 'acct',\n",
       " 'accts',\n",
       " 'accumulation',\n",
       " 'accurate',\n",
       " 'accurately',\n",
       " 'accuratetraveltimes',\n",
       " 'accuse',\n",
       " 'achieve',\n",
       " 'ack',\n",
       " 'acknowledge',\n",
       " 'acknowledgement',\n",
       " 'acknowledgment',\n",
       " 'acnewsguy',\n",
       " 'acosta',\n",
       " 'acoustic',\n",
       " 'acpt',\n",
       " 'acquire',\n",
       " 'acquisition',\n",
       " 'across',\n",
       " 'act',\n",
       " 'actingoutmgmnt',\n",
       " 'action',\n",
       " 'activate',\n",
       " 'active',\n",
       " 'actively',\n",
       " 'activities',\n",
       " 'activitiesprevention',\n",
       " 'activity',\n",
       " 'actual',\n",
       " 'actually',\n",
       " 'actualy',\n",
       " 'acu',\n",
       " 'acw',\n",
       " 'acy',\n",
       " 'ad',\n",
       " 'ada',\n",
       " 'adam',\n",
       " 'adams',\n",
       " 'adapt',\n",
       " 'add',\n",
       " 'addair',\n",
       " 'addition',\n",
       " 'additional',\n",
       " 'additionally',\n",
       " 'additonal',\n",
       " 'addr',\n",
       " 'address',\n",
       " 'addressusername',\n",
       " 'addtl',\n",
       " 'adjacent',\n",
       " 'adjust',\n",
       " 'adjustment',\n",
       " 'adjustments',\n",
       " 'admin',\n",
       " 'admiral',\n",
       " 'admirals',\n",
       " 'admiralsclub',\n",
       " 'admit',\n",
       " 'adolfo',\n",
       " 'adopt',\n",
       " 'adore',\n",
       " 'adress',\n",
       " 'ads',\n",
       " 'adult',\n",
       " 'adv',\n",
       " 'advan',\n",
       " 'advance',\n",
       " 'advantage',\n",
       " 'adventure',\n",
       " 'advertise',\n",
       " 'advice',\n",
       " 'advis',\n",
       " 'advise',\n",
       " 'advisories',\n",
       " 'advisory',\n",
       " 'advisorynow',\n",
       " 'advsry',\n",
       " 'aegeanairlines',\n",
       " 'aerocivilcol',\n",
       " 'aerojobmarket',\n",
       " 'aeroport',\n",
       " 'aex',\n",
       " 'af',\n",
       " 'affairs',\n",
       " 'affect',\n",
       " 'affiliate',\n",
       " 'afford',\n",
       " 'affordable',\n",
       " 'afiliates',\n",
       " 'aflame',\n",
       " 'aforementioned',\n",
       " 'afraid',\n",
       " 'african',\n",
       " 'aft',\n",
       " 'afterall',\n",
       " 'afternoon',\n",
       " 'afterward',\n",
       " 'aftr',\n",
       " 'againflying',\n",
       " 'againget',\n",
       " 'agcommunity',\n",
       " 'age',\n",
       " 'agencies',\n",
       " 'agency',\n",
       " 'agent',\n",
       " 'agentbooked',\n",
       " 'agents',\n",
       " 'agentsno',\n",
       " 'agentwhat',\n",
       " 'aggiemensgolf',\n",
       " 'aggravate',\n",
       " 'aggravation',\n",
       " 'aggressive',\n",
       " 'agian',\n",
       " 'agnt',\n",
       " 'ago',\n",
       " 'agostill',\n",
       " 'agree',\n",
       " 'agreement',\n",
       " 'agt',\n",
       " 'agts',\n",
       " 'ah',\n",
       " 'aha',\n",
       " 'ahah',\n",
       " 'ahead',\n",
       " 'ahem',\n",
       " 'ahhhh',\n",
       " 'ahhhhh',\n",
       " 'ahold',\n",
       " 'ahoy',\n",
       " 'aiecraft',\n",
       " 'aif',\n",
       " 'ail',\n",
       " 'aim',\n",
       " 'air',\n",
       " 'airat',\n",
       " 'airborne',\n",
       " 'airbus',\n",
       " 'airbusintheus',\n",
       " 'airbusseatfproblems',\n",
       " 'aircanada',\n",
       " 'aircargo',\n",
       " 'aircraft',\n",
       " 'aircraftrunways',\n",
       " 'aircrafts',\n",
       " 'aircrft',\n",
       " 'airfare',\n",
       " 'airfares',\n",
       " 'airfarewatchdog',\n",
       " 'airline',\n",
       " 'airlineadviser',\n",
       " 'airlinegave',\n",
       " 'airlinegeeks',\n",
       " 'airlineguys',\n",
       " 'airlinequality',\n",
       " 'airliner',\n",
       " 'airlines',\n",
       " 'airlinesecurity',\n",
       " 'airlinesnon',\n",
       " 'airmiles',\n",
       " 'airnzusa',\n",
       " 'airplane',\n",
       " 'airplanemodewason',\n",
       " 'airplanes',\n",
       " 'airport',\n",
       " 'airportcardio',\n",
       " 'airporthave',\n",
       " 'airportheld',\n",
       " 'airports',\n",
       " 'airportwide',\n",
       " 'airpt',\n",
       " 'airserv',\n",
       " 'airside',\n",
       " 'airsouthwest',\n",
       " 'airspace',\n",
       " 'airstairs',\n",
       " 'airtahitinui',\n",
       " 'airtran',\n",
       " 'airway',\n",
       " 'airways',\n",
       " 'ais',\n",
       " 'aisle',\n",
       " 'aisles',\n",
       " 'aka',\n",
       " 'akron',\n",
       " 'al',\n",
       " 'alabama',\n",
       " 'alamo',\n",
       " 'alan',\n",
       " 'alarm',\n",
       " 'alas',\n",
       " 'alaska',\n",
       " 'alaskaair',\n",
       " 'alavera',\n",
       " 'alb',\n",
       " 'albany',\n",
       " 'albanyairport',\n",
       " 'albeit',\n",
       " 'albertbreer',\n",
       " 'albums',\n",
       " 'albuquer',\n",
       " 'albuquerque',\n",
       " 'alcohol',\n",
       " 'alert',\n",
       " 'alex',\n",
       " 'alfamilyoffour',\n",
       " 'ali',\n",
       " 'alicia',\n",
       " 'align',\n",
       " 'alison',\n",
       " 'alist',\n",
       " 'alistey',\n",
       " 'alistpreferred',\n",
       " 'alittle',\n",
       " 'alittlebetter',\n",
       " 'alive',\n",
       " 'allan',\n",
       " 'allegiantair',\n",
       " 'allegianttravel',\n",
       " 'allende',\n",
       " 'allergic',\n",
       " 'allergies',\n",
       " 'allergy',\n",
       " 'alleviate',\n",
       " 'allgood',\n",
       " 'alliance',\n",
       " 'allll',\n",
       " 'allow',\n",
       " 'allowabl',\n",
       " 'allowable',\n",
       " 'allowance',\n",
       " 'allready',\n",
       " 'allrepresentativesbusy',\n",
       " 'allright',\n",
       " 'allyoucanjetpass',\n",
       " 'almost',\n",
       " 'alone',\n",
       " 'along',\n",
       " 'alot',\n",
       " 'already',\n",
       " 'alreadycrowded',\n",
       " 'alreadygot',\n",
       " 'alreadyrebookedonce',\n",
       " 'alright',\n",
       " 'als',\n",
       " 'also',\n",
       " 'alsonodrinkcartcomingaround',\n",
       " 'alsoyayforsnacks',\n",
       " 'alstdi',\n",
       " 'alt',\n",
       " 'alternate',\n",
       " 'alternative',\n",
       " 'alternatively',\n",
       " 'alternatives',\n",
       " 'although',\n",
       " 'altitude',\n",
       " 'altonbrownlive',\n",
       " 'alway',\n",
       " 'always',\n",
       " 'alwaysdelayed',\n",
       " 'alwaysdelayedonunited',\n",
       " 'alwayshappensthere',\n",
       " 'alwayslate',\n",
       " 'aly',\n",
       " 'alynewton',\n",
       " 'amagrino',\n",
       " 'amarillo',\n",
       " 'amateur',\n",
       " 'amateurish',\n",
       " 'amateurs',\n",
       " 'amaze',\n",
       " 'amazingflightcrew',\n",
       " 'amazingly',\n",
       " 'amazon',\n",
       " 'ambassador',\n",
       " 'ambivalence',\n",
       " 'amen',\n",
       " 'amend',\n",
       " 'amenities',\n",
       " 'amenity',\n",
       " 'america',\n",
       " 'americanairbr',\n",
       " 'americanaireveryone',\n",
       " 'americanairif',\n",
       " 'americanairlines',\n",
       " 'americanairlinesfail',\n",
       " 'americanairlnes',\n",
       " 'americanairn',\n",
       " 'americanairsucks',\n",
       " 'americandairlinessucks',\n",
       " 'americanforlife',\n",
       " 'americanisbetter',\n",
       " 'americanone',\n",
       " 'americans',\n",
       " 'americant',\n",
       " 'americanview',\n",
       " 'americanviewnthe',\n",
       " 'amex',\n",
       " 'amexserve',\n",
       " 'ami',\n",
       " 'amid',\n",
       " 'amiga',\n",
       " 'amiltx',\n",
       " 'amin',\n",
       " 'amirite',\n",
       " 'amm',\n",
       " 'ammisery',\n",
       " 'among',\n",
       " 'amongst',\n",
       " 'amount',\n",
       " 'ams',\n",
       " 'amshould',\n",
       " 'amsound',\n",
       " 'amsterdam',\n",
       " 'amt',\n",
       " 'amtoday',\n",
       " 'amtrak',\n",
       " 'amy',\n",
       " 'amybruni',\n",
       " 'amypoehler',\n",
       " 'ana',\n",
       " 'analyst',\n",
       " 'analystdoc',\n",
       " 'analysts',\n",
       " 'analytics',\n",
       " 'anamarketers',\n",
       " 'anaphylaxis',\n",
       " 'anarchy',\n",
       " 'anchorage',\n",
       " 'andchexmix',\n",
       " 'anderson',\n",
       " 'andor',\n",
       " 'andrew',\n",
       " 'andrewbiga',\n",
       " 'andrewfallis',\n",
       " 'andrews',\n",
       " 'android',\n",
       " 'andthewinneris',\n",
       " 'andyellwood',\n",
       " 'angel',\n",
       " 'angeles',\n",
       " 'angelo',\n",
       " 'anger',\n",
       " 'angle',\n",
       " 'angriest',\n",
       " 'angry',\n",
       " 'angryairtravel',\n",
       " 'angryandsober',\n",
       " 'angrybird',\n",
       " 'angrycustomer',\n",
       " 'angrytraveler',\n",
       " 'angstiest',\n",
       " 'anhour',\n",
       " 'animal',\n",
       " 'animals',\n",
       " 'anku',\n",
       " 'ann',\n",
       " 'anna',\n",
       " 'annamarie',\n",
       " 'annebevi',\n",
       " 'annettenaif',\n",
       " 'anni',\n",
       " 'anniversary',\n",
       " 'annnndddd',\n",
       " 'annnnddddd',\n",
       " 'annnnnd',\n",
       " 'announce',\n",
       " 'announcement',\n",
       " 'announcements',\n",
       " 'announcer',\n",
       " 'annoy',\n",
       " 'annricord',\n",
       " 'annual',\n",
       " 'another',\n",
       " 'anotherdisappointment',\n",
       " 'anotherfail',\n",
       " 'ans',\n",
       " 'ansleyhutson',\n",
       " 'answer',\n",
       " 'answerphone',\n",
       " 'answerthephone',\n",
       " 'answerthis',\n",
       " 'ant',\n",
       " 'anthony',\n",
       " 'anticipate',\n",
       " 'anticipation',\n",
       " 'anticonsumer',\n",
       " 'antigua',\n",
       " 'antitrust',\n",
       " 'antonio',\n",
       " 'anxiety',\n",
       " 'anxious',\n",
       " 'anybody',\n",
       " 'anyhelp',\n",
       " 'anymore',\n",
       " 'anyone',\n",
       " 'anyonemin',\n",
       " 'anyonethere',\n",
       " 'anythin',\n",
       " 'anything',\n",
       " 'anythingjust',\n",
       " 'anytime',\n",
       " 'anyway',\n",
       " 'anyways',\n",
       " 'anywhere',\n",
       " 'aok',\n",
       " 'ap',\n",
       " 'apart',\n",
       " 'apathetic',\n",
       " 'apathy',\n",
       " 'apeared',\n",
       " 'api',\n",
       " 'apnea',\n",
       " 'apollochplayers',\n",
       " 'apologies',\n",
       " 'apologise',\n",
       " 'apologize',\n",
       " 'apology',\n",
       " 'apostrophe',\n",
       " 'apostrophefail',\n",
       " 'app',\n",
       " 'appal',\n",
       " 'apparent',\n",
       " 'apparently',\n",
       " 'appeal',\n",
       " 'appear',\n",
       " 'appease',\n",
       " 'applaud',\n",
       " 'applause',\n",
       " 'apple',\n",
       " 'applepay',\n",
       " 'appleton',\n",
       " 'applicable',\n",
       " 'application',\n",
       " 'applications',\n",
       " 'apply',\n",
       " 'appoint',\n",
       " 'appointment',\n",
       " 'appointments',\n",
       " 'appreciate',\n",
       " 'appreciation',\n",
       " 'approach',\n",
       " 'appropriate',\n",
       " 'appropriately',\n",
       " 'appropriation',\n",
       " 'approproately',\n",
       " 'approval',\n",
       " 'approvals',\n",
       " 'approve',\n",
       " 'approx',\n",
       " 'approximate',\n",
       " 'approximately',\n",
       " 'apps',\n",
       " 'appt',\n",
       " 'apr',\n",
       " 'april',\n",
       " 'aprilmay',\n",
       " 'apron',\n",
       " 'apt',\n",
       " 'apx',\n",
       " 'aquadilla',\n",
       " 'ar',\n",
       " 'arab',\n",
       " 'arbitrarily',\n",
       " 'arbitrary',\n",
       " 'arc',\n",
       " 'archaic',\n",
       " 'ardent',\n",
       " 'area',\n",
       " 'areas',\n",
       " 'arehis',\n",
       " 'arena',\n",
       " 'arent',\n",
       " 'ares',\n",
       " 'areyounew',\n",
       " 'argentina',\n",
       " 'argg',\n",
       " 'argh',\n",
       " 'argue',\n",
       " 'argument',\n",
       " 'arise',\n",
       " 'arizona',\n",
       " 'arkansas',\n",
       " 'arm',\n",
       " 'arminrosen',\n",
       " 'armrest',\n",
       " 'army',\n",
       " 'around',\n",
       " 'arpt',\n",
       " 'arrange',\n",
       " 'arrangement',\n",
       " 'arrangements',\n",
       " 'arrival',\n",
       " 'arrivals',\n",
       " 'arrive',\n",
       " 'arrogant',\n",
       " 'arrow',\n",
       " 'art',\n",
       " 'article',\n",
       " 'artisanal',\n",
       " 'artluggage',\n",
       " 'aruba',\n",
       " 'aruna',\n",
       " 'arvls',\n",
       " 'asarco',\n",
       " 'ase',\n",
       " 'asem',\n",
       " 'asgmnt',\n",
       " 'ash',\n",
       " 'asha',\n",
       " 'ashamed',\n",
       " 'ashevilleair',\n",
       " 'ashley',\n",
       " 'ashleykatherton',\n",
       " 'asia',\n",
       " 'asiaaustralia',\n",
       " 'aside',\n",
       " 'ask',\n",
       " 'askamex',\n",
       " 'askpaypal',\n",
       " 'asleep',\n",
       " 'aspen',\n",
       " 'aspenbaggagefail',\n",
       " 'ass',\n",
       " 'assault',\n",
       " 'assed',\n",
       " 'asses',\n",
       " 'asset',\n",
       " 'assets',\n",
       " 'asshole',\n",
       " 'assholes',\n",
       " 'assign',\n",
       " 'assignment',\n",
       " 'assignments',\n",
       " 'assist',\n",
       " 'assistance',\n",
       " 'assistant',\n",
       " 'associate',\n",
       " 'assuage',\n",
       " 'assult',\n",
       " 'assume',\n",
       " 'assurance',\n",
       " 'assurances',\n",
       " 'assure',\n",
       " 'astonish',\n",
       " 'astoria',\n",
       " 'astound',\n",
       " 'asus',\n",
       " 'atc',\n",
       " 'atct',\n",
       " 'atgate',\n",
       " 'ath',\n",
       " 'athlete',\n",
       " 'athletes',\n",
       " 'atl',\n",
       " 'atlanta',\n",
       " 'atlantic',\n",
       " 'atlaus',\n",
       " 'atleast',\n",
       " 'atlhou',\n",
       " 'atlord',\n",
       " 'atrocious',\n",
       " 'att',\n",
       " 'attach',\n",
       " 'attackingbabymomma',\n",
       " 'attain',\n",
       " 'attdt',\n",
       " 'attempt',\n",
       " 'attend',\n",
       " 'attendant',\n",
       " 'attendantcan',\n",
       " 'attendants',\n",
       " 'attendees',\n",
       " 'attendent',\n",
       " 'attendents',\n",
       " 'attention',\n",
       " 'attentive',\n",
       " 'attentiveness',\n",
       " 'attire',\n",
       " 'attitude',\n",
       " 'attitudeissues',\n",
       " 'attitudes',\n",
       " 'attitudycustomer',\n",
       " 'attndt',\n",
       " 'atwonline',\n",
       " 'atx',\n",
       " 'au',\n",
       " 'auciello',\n",
       " 'auckland',\n",
       " 'auction',\n",
       " 'audience',\n",
       " 'audio',\n",
       " 'audition',\n",
       " 'auditorium',\n",
       " 'auf',\n",
       " 'aug',\n",
       " 'august',\n",
       " 'auh',\n",
       " 'aumilo',\n",
       " 'aunties',\n",
       " 'aunts',\n",
       " 'aur',\n",
       " 'aurorabiz',\n",
       " 'aus',\n",
       " 'auscun',\n",
       " 'aussie',\n",
       " 'austic',\n",
       " 'austin',\n",
       " 'austinairport',\n",
       " 'austindallas',\n",
       " 'australia',\n",
       " 'austrian',\n",
       " 'author',\n",
       " 'authoritative',\n",
       " 'authority',\n",
       " 'authorize',\n",
       " 'auto',\n",
       " 'autoapplied',\n",
       " 'automate',\n",
       " 'automatic',\n",
       " 'automatically',\n",
       " 'automobile',\n",
       " 'autorebooked',\n",
       " 'autoreflight',\n",
       " 'autoresponse',\n",
       " 'av',\n",
       " 'avail',\n",
       " 'availab',\n",
       " 'availability',\n",
       " 'available',\n",
       " 'availableyour',\n",
       " 'avalible',\n",
       " 'avalonhollywood',\n",
       " 'avatars',\n",
       " 'avb',\n",
       " 'avenue',\n",
       " 'average',\n",
       " 'avert',\n",
       " 'avgeek',\n",
       " 'aviation',\n",
       " 'avios',\n",
       " 'avis',\n",
       " 'aviv',\n",
       " 'avoid',\n",
       " 'avoidable',\n",
       " 'avon',\n",
       " 'avp',\n",
       " 'aw',\n",
       " 'await',\n",
       " 'awake',\n",
       " 'award',\n",
       " 'aware',\n",
       " 'away',\n",
       " 'awaynow',\n",
       " 'awe',\n",
       " 'aweful',\n",
       " 'awesome',\n",
       " 'awesomeee',\n",
       " 'awesomeness',\n",
       " 'awful',\n",
       " 'awfulcustomerservice',\n",
       " 'awfully',\n",
       " 'awfulness',\n",
       " 'awheelchair',\n",
       " 'awhile',\n",
       " 'awkward',\n",
       " 'awol',\n",
       " 'awrd',\n",
       " 'aww',\n",
       " 'awww',\n",
       " 'awwweesssooomee',\n",
       " 'ay',\n",
       " 'aye',\n",
       " 'az',\n",
       " 'azzf',\n",
       " 'ba',\n",
       " 'baby',\n",
       " 'babyfood',\n",
       " 'bach',\n",
       " 'bachelorpartymishap',\n",
       " 'back',\n",
       " 'backend',\n",
       " 'backended',\n",
       " 'backfas',\n",
       " 'backhand',\n",
       " 'backhome',\n",
       " 'backlog',\n",
       " 'backpack',\n",
       " 'backroads',\n",
       " 'backtodelta',\n",
       " 'backtowinter',\n",
       " 'backup',\n",
       " 'backwards',\n",
       " 'backyard',\n",
       " 'bad',\n",
       " 'badairline',\n",
       " 'badbadbad',\n",
       " 'badbusiness',\n",
       " 'badbussiness',\n",
       " 'badcustomerexperience',\n",
       " 'badcustomerservice',\n",
       " 'badcustomersrvice',\n",
       " 'bademployeeproblem',\n",
       " 'badge',\n",
       " 'badly',\n",
       " 'badmgmt',\n",
       " 'badn',\n",
       " 'badpolicy',\n",
       " 'badservice',\n",
       " 'badwebsite',\n",
       " 'bae',\n",
       " 'baejet',\n",
       " 'bafore',\n",
       " 'baftz',\n",
       " 'bag',\n",
       " 'bagage',\n",
       " 'bagawim',\n",
       " 'baggage',\n",
       " 'baggagedrama',\n",
       " 'baggagefail',\n",
       " 'baggagefind',\n",
       " 'baggageissues',\n",
       " 'baggagelost',\n",
       " 'baggages',\n",
       " 'bagn',\n",
       " 'bagsflyfree',\n",
       " 'bagsflyfreebutnotwithme',\n",
       " 'bagtag',\n",
       " 'bahamas',\n",
       " 'bail',\n",
       " 'bailey',\n",
       " 'bait',\n",
       " 'baitandswitch',\n",
       " 'bake',\n",
       " 'balance',\n",
       " 'baldordash',\n",
       " 'baldwin',\n",
       " 'ball',\n",
       " 'ballbag',\n",
       " 'ballin',\n",
       " 'balloon',\n",
       " 'ballsturn',\n",
       " 'balt',\n",
       " 'baltimore',\n",
       " 'ban',\n",
       " 'banana',\n",
       " 'band',\n",
       " 'bandie',\n",
       " 'bandwidth',\n",
       " 'bangkok',\n",
       " 'bank',\n",
       " 'bankrupt',\n",
       " 'bankruptcies',\n",
       " 'bankruptcy',\n",
       " 'bar',\n",
       " 'barbados',\n",
       " 'barbara',\n",
       " 'barclay',\n",
       " 'barclaycardus',\n",
       " 'barclays',\n",
       " 'barcodes',\n",
       " 'barely',\n",
       " 'barelyexpired',\n",
       " 'bark',\n",
       " 'barklays',\n",
       " 'barnum',\n",
       " 'barrel',\n",
       " 'barrettkarabis',\n",
       " 'barrier',\n",
       " 'barriers',\n",
       " 'barzegar',\n",
       " 'base',\n",
       " 'baseball',\n",
       " 'bash',\n",
       " 'basic',\n",
       " 'basically',\n",
       " 'basics',\n",
       " 'basket',\n",
       " 'basketball',\n",
       " 'bass',\n",
       " 'bastards',\n",
       " 'bat',\n",
       " 'bathroom',\n",
       " 'bathrooms',\n",
       " 'batman',\n",
       " 'batteries',\n",
       " 'battery',\n",
       " 'battierccipuppy',\n",
       " 'battle',\n",
       " 'bay',\n",
       " 'bbb',\n",
       " 'bbbne',\n",
       " 'bc',\n",
       " 'bcn',\n",
       " 'bcs',\n",
       " 'bcuz',\n",
       " 'bcz',\n",
       " 'bd',\n",
       " 'bday',\n",
       " 'bdindallas',\n",
       " 'bdl',\n",
       " 'bdldca',\n",
       " 'bdng',\n",
       " 'bdsm',\n",
       " 'beach',\n",
       " 'beam',\n",
       " 'beamske',\n",
       " 'bean',\n",
       " 'beanie',\n",
       " 'beantownmatty',\n",
       " 'bear',\n",
       " 'bearable',\n",
       " 'beareavement',\n",
       " 'beat',\n",
       " 'beatriz',\n",
       " 'beatsmusic',\n",
       " 'beatstheothers',\n",
       " 'beatz',\n",
       " 'beautiful',\n",
       " 'beautifull',\n",
       " 'beautifully',\n",
       " 'beauty',\n",
       " 'bebetter',\n",
       " 'bec',\n",
       " 'becky',\n",
       " 'become',\n",
       " 'becuase',\n",
       " 'becuz',\n",
       " 'bed',\n",
       " 'bedofroses',\n",
       " 'beefjerky',\n",
       " 'beenhours',\n",
       " 'beer',\n",
       " 'beers',\n",
       " 'befor',\n",
       " 'beforeafter',\n",
       " 'beg',\n",
       " 'begin',\n",
       " 'begrudgingly',\n",
       " 'behalf',\n",
       " 'behave',\n",
       " 'behavior',\n",
       " 'behind',\n",
       " 'beijing',\n",
       " 'bein',\n",
       " 'beingsuckontarmacsucks',\n",
       " 'beis',\n",
       " 'belabor',\n",
       " 'belfast',\n",
       " 'belfastairport',\n",
       " 'belief',\n",
       " 'believable',\n",
       " 'believe',\n",
       " 'belize',\n",
       " 'bellagio',\n",
       " 'belligerent',\n",
       " 'belong',\n",
       " 'beloved',\n",
       " 'belt',\n",
       " 'ben',\n",
       " 'benadryl',\n",
       " 'bench',\n",
       " 'bene',\n",
       " 'beneficial',\n",
       " 'benefit',\n",
       " 'benjaminokeefe',\n",
       " 'bensonhenderson',\n",
       " 'beought',\n",
       " 'ber',\n",
       " 'bereavement',\n",
       " 'bergstrom',\n",
       " 'berlin',\n",
       " 'bernhardtjh',\n",
       " 'bershawnjackson',\n",
       " 'besides',\n",
       " 'best',\n",
       " 'bestairline',\n",
       " 'bestairlineever',\n",
       " 'bestcrew',\n",
       " 'bestdressed',\n",
       " 'bestemployees',\n",
       " 'bestflightever',\n",
       " 'bestfriend',\n",
       " 'bestfriends',\n",
       " 'bestinclass',\n",
       " 'bestinclasssocial',\n",
       " 'bestplanesever',\n",
       " 'besty',\n",
       " 'bet',\n",
       " 'beta',\n",
       " 'betch',\n",
       " 'bethonors',\n",
       " 'betsy',\n",
       " 'better',\n",
       " 'betterfrom',\n",
       " 'bettween',\n",
       " 'betty',\n",
       " 'beverage',\n",
       " 'beverages',\n",
       " 'bevies',\n",
       " 'beware',\n",
       " 'beyond',\n",
       " 'bf',\n",
       " 'bfans',\n",
       " 'bff',\n",
       " 'bffs',\n",
       " 'bg',\n",
       " 'bgkwm',\n",
       " 'bgm',\n",
       " 'bgr',\n",
       " 'bham',\n",
       " 'bhm',\n",
       " 'bhx',\n",
       " 'bible',\n",
       " 'biceps',\n",
       " 'bicycle',\n",
       " 'bid',\n",
       " 'big',\n",
       " 'bigger',\n",
       " ...]"
      ]
     },
     "execution_count": 63,
     "metadata": {},
     "output_type": "execute_result"
    }
   ],
   "source": [
    "pipe2.named_steps['CountVectorizer'].get_feature_names()\n"
   ]
  },
  {
   "cell_type": "code",
   "execution_count": 64,
   "metadata": {
    "scrolled": true
   },
   "outputs": [
    {
     "data": {
      "text/html": [
       "<style>div.sk-top-container {color: black;background-color: white;}div.sk-toggleable {background-color: white;}label.sk-toggleable__label {cursor: pointer;display: block;width: 100%;margin-bottom: 0;padding: 0.2em 0.3em;box-sizing: border-box;text-align: center;}div.sk-toggleable__content {max-height: 0;max-width: 0;overflow: hidden;text-align: left;background-color: #f0f8ff;}div.sk-toggleable__content pre {margin: 0.2em;color: black;border-radius: 0.25em;background-color: #f0f8ff;}input.sk-toggleable__control:checked~div.sk-toggleable__content {max-height: 200px;max-width: 100%;overflow: auto;}div.sk-estimator input.sk-toggleable__control:checked~label.sk-toggleable__label {background-color: #d4ebff;}div.sk-label input.sk-toggleable__control:checked~label.sk-toggleable__label {background-color: #d4ebff;}input.sk-hidden--visually {border: 0;clip: rect(1px 1px 1px 1px);clip: rect(1px, 1px, 1px, 1px);height: 1px;margin: -1px;overflow: hidden;padding: 0;position: absolute;width: 1px;}div.sk-estimator {font-family: monospace;background-color: #f0f8ff;margin: 0.25em 0.25em;border: 1px dotted black;border-radius: 0.25em;box-sizing: border-box;}div.sk-estimator:hover {background-color: #d4ebff;}div.sk-parallel-item::after {content: \"\";width: 100%;border-bottom: 1px solid gray;flex-grow: 1;}div.sk-label:hover label.sk-toggleable__label {background-color: #d4ebff;}div.sk-serial::before {content: \"\";position: absolute;border-left: 1px solid gray;box-sizing: border-box;top: 2em;bottom: 0;left: 50%;}div.sk-serial {display: flex;flex-direction: column;align-items: center;background-color: white;}div.sk-item {z-index: 1;}div.sk-parallel {display: flex;align-items: stretch;justify-content: center;background-color: white;}div.sk-parallel-item {display: flex;flex-direction: column;position: relative;background-color: white;}div.sk-parallel-item:first-child::after {align-self: flex-end;width: 50%;}div.sk-parallel-item:last-child::after {align-self: flex-start;width: 50%;}div.sk-parallel-item:only-child::after {width: 0;}div.sk-dashed-wrapped {border: 1px dashed gray;margin: 0.2em;box-sizing: border-box;padding-bottom: 0.1em;background-color: white;position: relative;}div.sk-label label {font-family: monospace;font-weight: bold;background-color: white;display: inline-block;line-height: 1.2em;}div.sk-label-container {position: relative;z-index: 2;text-align: center;}div.sk-container {display: inline-block;position: relative;}</style><div class=\"sk-top-container\"><div class=\"sk-container\"><div class=\"sk-item sk-dashed-wrapped\"><div class=\"sk-label-container\"><div class=\"sk-label sk-toggleable\"><input class=\"sk-toggleable__control sk-hidden--visually\" id=\"4f1a5d0b-6197-4040-bedf-9a3a417718a2\" type=\"checkbox\" ><label class=\"sk-toggleable__label\" for=\"4f1a5d0b-6197-4040-bedf-9a3a417718a2\">Pipeline</label><div class=\"sk-toggleable__content\"><pre>Pipeline(steps=[('PreprocessTransform', PreprocessTransform()),\n",
       "                ('TokenizeLemmatize', TokenizeLemmatize()),\n",
       "                ('CountVectorizer', CountVectorizer()),\n",
       "                ('clf',\n",
       "                 LogisticRegression(random_state=856, solver='liblinear'))])</pre></div></div></div><div class=\"sk-serial\"><div class=\"sk-item\"><div class=\"sk-estimator sk-toggleable\"><input class=\"sk-toggleable__control sk-hidden--visually\" id=\"9aa2d2f0-0003-40cd-92f0-61ef4cdfd24c\" type=\"checkbox\" ><label class=\"sk-toggleable__label\" for=\"9aa2d2f0-0003-40cd-92f0-61ef4cdfd24c\">PreprocessTransform</label><div class=\"sk-toggleable__content\"><pre>PreprocessTransform()</pre></div></div></div><div class=\"sk-item\"><div class=\"sk-estimator sk-toggleable\"><input class=\"sk-toggleable__control sk-hidden--visually\" id=\"baebe40d-70b9-4363-868c-e3b701f82a12\" type=\"checkbox\" ><label class=\"sk-toggleable__label\" for=\"baebe40d-70b9-4363-868c-e3b701f82a12\">TokenizeLemmatize</label><div class=\"sk-toggleable__content\"><pre>TokenizeLemmatize()</pre></div></div></div><div class=\"sk-item\"><div class=\"sk-estimator sk-toggleable\"><input class=\"sk-toggleable__control sk-hidden--visually\" id=\"b19cf887-4743-43ef-b6a4-f3f1e563f6dd\" type=\"checkbox\" ><label class=\"sk-toggleable__label\" for=\"b19cf887-4743-43ef-b6a4-f3f1e563f6dd\">CountVectorizer</label><div class=\"sk-toggleable__content\"><pre>CountVectorizer()</pre></div></div></div><div class=\"sk-item\"><div class=\"sk-estimator sk-toggleable\"><input class=\"sk-toggleable__control sk-hidden--visually\" id=\"afeeaf8a-6ba8-4aeb-b383-fb11a0d35f14\" type=\"checkbox\" ><label class=\"sk-toggleable__label\" for=\"afeeaf8a-6ba8-4aeb-b383-fb11a0d35f14\">LogisticRegression</label><div class=\"sk-toggleable__content\"><pre>LogisticRegression(random_state=856, solver='liblinear')</pre></div></div></div></div></div></div></div>"
      ],
      "text/plain": [
       "Pipeline(steps=[('PreprocessTransform', PreprocessTransform()),\n",
       "                ('TokenizeLemmatize', TokenizeLemmatize()),\n",
       "                ('CountVectorizer', CountVectorizer()),\n",
       "                ('clf',\n",
       "                 LogisticRegression(random_state=856, solver='liblinear'))])"
      ]
     },
     "execution_count": 64,
     "metadata": {},
     "output_type": "execute_result"
    }
   ],
   "source": [
    "pipe_steps.append(('clf', LogisticRegression(random_state=856, \n",
    "                        solver='liblinear',   \n",
    "                        max_iter=100)))\n",
    "\n",
    "pipe3 = Pipeline(pipe_steps)\n",
    "pipe3\n"
   ]
  },
  {
   "cell_type": "markdown",
   "metadata": {},
   "source": [
    "### Classification from the pipe"
   ]
  },
  {
   "cell_type": "code",
   "execution_count": 65,
   "metadata": {},
   "outputs": [
    {
     "data": {
      "text/html": [
       "<div>\n",
       "<style scoped>\n",
       "    .dataframe tbody tr th:only-of-type {\n",
       "        vertical-align: middle;\n",
       "    }\n",
       "\n",
       "    .dataframe tbody tr th {\n",
       "        vertical-align: top;\n",
       "    }\n",
       "\n",
       "    .dataframe thead th {\n",
       "        text-align: right;\n",
       "    }\n",
       "</style>\n",
       "<table border=\"1\" class=\"dataframe\">\n",
       "  <thead>\n",
       "    <tr style=\"text-align: right;\">\n",
       "      <th></th>\n",
       "      <th>airline_sentiment</th>\n",
       "      <th>airline</th>\n",
       "      <th>text</th>\n",
       "      <th>sentiment_score</th>\n",
       "    </tr>\n",
       "  </thead>\n",
       "  <tbody>\n",
       "    <tr>\n",
       "      <th>0</th>\n",
       "      <td>neutral</td>\n",
       "      <td>Virgin America</td>\n",
       "      <td>@VirginAmerica What @dhepburn said.</td>\n",
       "      <td>0</td>\n",
       "    </tr>\n",
       "    <tr>\n",
       "      <th>1</th>\n",
       "      <td>positive</td>\n",
       "      <td>Virgin America</td>\n",
       "      <td>@VirginAmerica plus you've added commercials to the experience... tacky.</td>\n",
       "      <td>1</td>\n",
       "    </tr>\n",
       "    <tr>\n",
       "      <th>2</th>\n",
       "      <td>neutral</td>\n",
       "      <td>Virgin America</td>\n",
       "      <td>@VirginAmerica I didn't today... Must mean I need to take another trip!</td>\n",
       "      <td>0</td>\n",
       "    </tr>\n",
       "    <tr>\n",
       "      <th>3</th>\n",
       "      <td>negative</td>\n",
       "      <td>Virgin America</td>\n",
       "      <td>@VirginAmerica it's really aggressive to blast obnoxious \"entertainment\" in your guests' faces &amp;amp; they have little recourse</td>\n",
       "      <td>-1</td>\n",
       "    </tr>\n",
       "    <tr>\n",
       "      <th>4</th>\n",
       "      <td>negative</td>\n",
       "      <td>Virgin America</td>\n",
       "      <td>@VirginAmerica and it's a really big bad thing about it</td>\n",
       "      <td>-1</td>\n",
       "    </tr>\n",
       "  </tbody>\n",
       "</table>\n",
       "</div>"
      ],
      "text/plain": [
       "  airline_sentiment         airline  \\\n",
       "0           neutral  Virgin America   \n",
       "1          positive  Virgin America   \n",
       "2           neutral  Virgin America   \n",
       "3          negative  Virgin America   \n",
       "4          negative  Virgin America   \n",
       "\n",
       "                                                                                                                             text  \\\n",
       "0                                                                                             @VirginAmerica What @dhepburn said.   \n",
       "1                                                        @VirginAmerica plus you've added commercials to the experience... tacky.   \n",
       "2                                                         @VirginAmerica I didn't today... Must mean I need to take another trip!   \n",
       "3  @VirginAmerica it's really aggressive to blast obnoxious \"entertainment\" in your guests' faces &amp; they have little recourse   \n",
       "4                                                                         @VirginAmerica and it's a really big bad thing about it   \n",
       "\n",
       "   sentiment_score  \n",
       "0                0  \n",
       "1                1  \n",
       "2                0  \n",
       "3               -1  \n",
       "4               -1  "
      ]
     },
     "execution_count": 65,
     "metadata": {},
     "output_type": "execute_result"
    }
   ],
   "source": [
    "df2['sentiment_score'] = 0\n",
    "df2.loc[(df2['airline_sentiment']=='negative'), 'sentiment_score'] = -1\n",
    "df2.loc[(df2['airline_sentiment']=='positive'), 'sentiment_score'] = 1\n",
    "\n",
    "df2.head()\n"
   ]
  },
  {
   "cell_type": "code",
   "execution_count": 66,
   "metadata": {},
   "outputs": [],
   "source": [
    "X = df2['text']\n",
    "\n",
    "y = df2['sentiment_score']\n",
    "y = y.astype(int)\n"
   ]
  },
  {
   "cell_type": "code",
   "execution_count": 67,
   "metadata": {},
   "outputs": [],
   "source": [
    "X_train, X_test, y_train, y_test = train_test_split(X, y, test_size=0.25, \n",
    "                                                    random_state=887,  stratify=y)\n"
   ]
  },
  {
   "cell_type": "code",
   "execution_count": 68,
   "metadata": {},
   "outputs": [
    {
     "name": "stdout",
     "output_type": "stream",
     "text": [
      "(10980,) (10980,)\n"
     ]
    }
   ],
   "source": [
    "print(X_train.shape, y_train.shape)\n"
   ]
  },
  {
   "cell_type": "code",
   "execution_count": 69,
   "metadata": {},
   "outputs": [
    {
     "data": {
      "text/html": [
       "<style>div.sk-top-container {color: black;background-color: white;}div.sk-toggleable {background-color: white;}label.sk-toggleable__label {cursor: pointer;display: block;width: 100%;margin-bottom: 0;padding: 0.2em 0.3em;box-sizing: border-box;text-align: center;}div.sk-toggleable__content {max-height: 0;max-width: 0;overflow: hidden;text-align: left;background-color: #f0f8ff;}div.sk-toggleable__content pre {margin: 0.2em;color: black;border-radius: 0.25em;background-color: #f0f8ff;}input.sk-toggleable__control:checked~div.sk-toggleable__content {max-height: 200px;max-width: 100%;overflow: auto;}div.sk-estimator input.sk-toggleable__control:checked~label.sk-toggleable__label {background-color: #d4ebff;}div.sk-label input.sk-toggleable__control:checked~label.sk-toggleable__label {background-color: #d4ebff;}input.sk-hidden--visually {border: 0;clip: rect(1px 1px 1px 1px);clip: rect(1px, 1px, 1px, 1px);height: 1px;margin: -1px;overflow: hidden;padding: 0;position: absolute;width: 1px;}div.sk-estimator {font-family: monospace;background-color: #f0f8ff;margin: 0.25em 0.25em;border: 1px dotted black;border-radius: 0.25em;box-sizing: border-box;}div.sk-estimator:hover {background-color: #d4ebff;}div.sk-parallel-item::after {content: \"\";width: 100%;border-bottom: 1px solid gray;flex-grow: 1;}div.sk-label:hover label.sk-toggleable__label {background-color: #d4ebff;}div.sk-serial::before {content: \"\";position: absolute;border-left: 1px solid gray;box-sizing: border-box;top: 2em;bottom: 0;left: 50%;}div.sk-serial {display: flex;flex-direction: column;align-items: center;background-color: white;}div.sk-item {z-index: 1;}div.sk-parallel {display: flex;align-items: stretch;justify-content: center;background-color: white;}div.sk-parallel-item {display: flex;flex-direction: column;position: relative;background-color: white;}div.sk-parallel-item:first-child::after {align-self: flex-end;width: 50%;}div.sk-parallel-item:last-child::after {align-self: flex-start;width: 50%;}div.sk-parallel-item:only-child::after {width: 0;}div.sk-dashed-wrapped {border: 1px dashed gray;margin: 0.2em;box-sizing: border-box;padding-bottom: 0.1em;background-color: white;position: relative;}div.sk-label label {font-family: monospace;font-weight: bold;background-color: white;display: inline-block;line-height: 1.2em;}div.sk-label-container {position: relative;z-index: 2;text-align: center;}div.sk-container {display: inline-block;position: relative;}</style><div class=\"sk-top-container\"><div class=\"sk-container\"><div class=\"sk-item sk-dashed-wrapped\"><div class=\"sk-label-container\"><div class=\"sk-label sk-toggleable\"><input class=\"sk-toggleable__control sk-hidden--visually\" id=\"747d5a16-182a-4b48-9fa4-b5e82697db48\" type=\"checkbox\" ><label class=\"sk-toggleable__label\" for=\"747d5a16-182a-4b48-9fa4-b5e82697db48\">Pipeline</label><div class=\"sk-toggleable__content\"><pre>Pipeline(steps=[('PreprocessTransform', PreprocessTransform()),\n",
       "                ('TokenizeLemmatize', TokenizeLemmatize()),\n",
       "                ('CountVectorizer', CountVectorizer()),\n",
       "                ('clf',\n",
       "                 LogisticRegression(random_state=856, solver='liblinear'))])</pre></div></div></div><div class=\"sk-serial\"><div class=\"sk-item\"><div class=\"sk-estimator sk-toggleable\"><input class=\"sk-toggleable__control sk-hidden--visually\" id=\"ca3e72ef-3402-4566-ab86-aa43afd276e9\" type=\"checkbox\" ><label class=\"sk-toggleable__label\" for=\"ca3e72ef-3402-4566-ab86-aa43afd276e9\">PreprocessTransform</label><div class=\"sk-toggleable__content\"><pre>PreprocessTransform()</pre></div></div></div><div class=\"sk-item\"><div class=\"sk-estimator sk-toggleable\"><input class=\"sk-toggleable__control sk-hidden--visually\" id=\"d1f56b04-80fb-4c6a-bb1c-ef7643d18620\" type=\"checkbox\" ><label class=\"sk-toggleable__label\" for=\"d1f56b04-80fb-4c6a-bb1c-ef7643d18620\">TokenizeLemmatize</label><div class=\"sk-toggleable__content\"><pre>TokenizeLemmatize()</pre></div></div></div><div class=\"sk-item\"><div class=\"sk-estimator sk-toggleable\"><input class=\"sk-toggleable__control sk-hidden--visually\" id=\"a56b5b35-aaa8-4aaf-a6e5-1473ab1129ca\" type=\"checkbox\" ><label class=\"sk-toggleable__label\" for=\"a56b5b35-aaa8-4aaf-a6e5-1473ab1129ca\">CountVectorizer</label><div class=\"sk-toggleable__content\"><pre>CountVectorizer()</pre></div></div></div><div class=\"sk-item\"><div class=\"sk-estimator sk-toggleable\"><input class=\"sk-toggleable__control sk-hidden--visually\" id=\"f579feda-af8f-472d-b23d-f5eb1ede5563\" type=\"checkbox\" ><label class=\"sk-toggleable__label\" for=\"f579feda-af8f-472d-b23d-f5eb1ede5563\">LogisticRegression</label><div class=\"sk-toggleable__content\"><pre>LogisticRegression(random_state=856, solver='liblinear')</pre></div></div></div></div></div></div></div>"
      ],
      "text/plain": [
       "Pipeline(steps=[('PreprocessTransform', PreprocessTransform()),\n",
       "                ('TokenizeLemmatize', TokenizeLemmatize()),\n",
       "                ('CountVectorizer', CountVectorizer()),\n",
       "                ('clf',\n",
       "                 LogisticRegression(random_state=856, solver='liblinear'))])"
      ]
     },
     "execution_count": 69,
     "metadata": {},
     "output_type": "execute_result"
    }
   ],
   "source": [
    "pipe3.fit(X_train, y_train)\n"
   ]
  },
  {
   "cell_type": "code",
   "execution_count": 70,
   "metadata": {},
   "outputs": [],
   "source": [
    "pred_1 = pipe3.predict(X_test)\n"
   ]
  },
  {
   "cell_type": "code",
   "execution_count": 71,
   "metadata": {},
   "outputs": [
    {
     "name": "stdout",
     "output_type": "stream",
     "text": [
      "              precision    recall  f1-score   support\n",
      "\n",
      "          -1       0.84      0.90      0.87      2294\n",
      "           0       0.61      0.54      0.57       775\n",
      "           1       0.74      0.64      0.69       591\n",
      "\n",
      "    accuracy                           0.78      3660\n",
      "   macro avg       0.73      0.69      0.71      3660\n",
      "weighted avg       0.77      0.78      0.78      3660\n",
      "\n"
     ]
    }
   ],
   "source": [
    "print(classification_report(y_test, pred_1))\n"
   ]
  },
  {
   "cell_type": "code",
   "execution_count": 72,
   "metadata": {},
   "outputs": [
    {
     "name": "stdout",
     "output_type": "stream",
     "text": [
      "0.7653005464480873\n"
     ]
    }
   ],
   "source": [
    "print(np.mean(cross_val_score(pipe3, X_test, y_test, cv=5)))\n"
   ]
  },
  {
   "cell_type": "code",
   "execution_count": 88,
   "metadata": {},
   "outputs": [
    {
     "name": "stdout",
     "output_type": "stream",
     "text": [
      "[[2062  171   61]\n",
      " [ 286  415   74]\n",
      " [ 121   89  381]]\n"
     ]
    },
    {
     "data": {
      "image/png": "[encoded data removed]",
      "text/plain": [
       "<Figure size 576x360 with 2 Axes>"
      ]
     },
     "metadata": {
      "needs_background": "light"
     },
     "output_type": "display_data"
    }
   ],
   "source": [
    "conf_mat = confusion_matrix(y_test, pred_1)\n",
    "\n",
    "print(conf_mat)\n",
    "\n",
    "df_cm = pd.DataFrame(conf_mat, index = [i for i in ['-1','0','1']],\n",
    "                  columns = [i for i in ['-1','0','1']])\n",
    "plt.figure(figsize = (8,5))\n",
    "sns.heatmap(df_cm, \n",
    "            annot=True, \n",
    "            fmt='g',\n",
    "            xticklabels=['neg_act','neut_act','pos_act'],\n",
    "            yticklabels=['neg_pr','neut_pr','pos_pr'],\n",
    "           )"
   ]
  },
  {
   "cell_type": "markdown",
   "metadata": {},
   "source": [
    "### Hyperparameters Tuning"
   ]
  },
  {
   "cell_type": "code",
   "execution_count": 74,
   "metadata": {},
   "outputs": [],
   "source": [
    "from sklearn.model_selection import StratifiedKFold\n"
   ]
  },
  {
   "cell_type": "code",
   "execution_count": 75,
   "metadata": {},
   "outputs": [],
   "source": [
    "kfold = StratifiedKFold(n_splits=5, shuffle=True, random_state=887)\n"
   ]
  },
  {
   "cell_type": "code",
   "execution_count": 76,
   "metadata": {},
   "outputs": [
    {
     "data": {
      "text/html": [
       "<style>div.sk-top-container {color: black;background-color: white;}div.sk-toggleable {background-color: white;}label.sk-toggleable__label {cursor: pointer;display: block;width: 100%;margin-bottom: 0;padding: 0.2em 0.3em;box-sizing: border-box;text-align: center;}div.sk-toggleable__content {max-height: 0;max-width: 0;overflow: hidden;text-align: left;background-color: #f0f8ff;}div.sk-toggleable__content pre {margin: 0.2em;color: black;border-radius: 0.25em;background-color: #f0f8ff;}input.sk-toggleable__control:checked~div.sk-toggleable__content {max-height: 200px;max-width: 100%;overflow: auto;}div.sk-estimator input.sk-toggleable__control:checked~label.sk-toggleable__label {background-color: #d4ebff;}div.sk-label input.sk-toggleable__control:checked~label.sk-toggleable__label {background-color: #d4ebff;}input.sk-hidden--visually {border: 0;clip: rect(1px 1px 1px 1px);clip: rect(1px, 1px, 1px, 1px);height: 1px;margin: -1px;overflow: hidden;padding: 0;position: absolute;width: 1px;}div.sk-estimator {font-family: monospace;background-color: #f0f8ff;margin: 0.25em 0.25em;border: 1px dotted black;border-radius: 0.25em;box-sizing: border-box;}div.sk-estimator:hover {background-color: #d4ebff;}div.sk-parallel-item::after {content: \"\";width: 100%;border-bottom: 1px solid gray;flex-grow: 1;}div.sk-label:hover label.sk-toggleable__label {background-color: #d4ebff;}div.sk-serial::before {content: \"\";position: absolute;border-left: 1px solid gray;box-sizing: border-box;top: 2em;bottom: 0;left: 50%;}div.sk-serial {display: flex;flex-direction: column;align-items: center;background-color: white;}div.sk-item {z-index: 1;}div.sk-parallel {display: flex;align-items: stretch;justify-content: center;background-color: white;}div.sk-parallel-item {display: flex;flex-direction: column;position: relative;background-color: white;}div.sk-parallel-item:first-child::after {align-self: flex-end;width: 50%;}div.sk-parallel-item:last-child::after {align-self: flex-start;width: 50%;}div.sk-parallel-item:only-child::after {width: 0;}div.sk-dashed-wrapped {border: 1px dashed gray;margin: 0.2em;box-sizing: border-box;padding-bottom: 0.1em;background-color: white;position: relative;}div.sk-label label {font-family: monospace;font-weight: bold;background-color: white;display: inline-block;line-height: 1.2em;}div.sk-label-container {position: relative;z-index: 2;text-align: center;}div.sk-container {display: inline-block;position: relative;}</style><div class=\"sk-top-container\"><div class=\"sk-container\"><div class=\"sk-item sk-dashed-wrapped\"><div class=\"sk-label-container\"><div class=\"sk-label sk-toggleable\"><input class=\"sk-toggleable__control sk-hidden--visually\" id=\"22da4a51-8a0e-4b21-81c1-ffc73d10aef2\" type=\"checkbox\" ><label class=\"sk-toggleable__label\" for=\"22da4a51-8a0e-4b21-81c1-ffc73d10aef2\">Pipeline</label><div class=\"sk-toggleable__content\"><pre>Pipeline(steps=[('PreprocessTransform', PreprocessTransform()),\n",
       "                ('TokenizeLemmatize', TokenizeLemmatize()),\n",
       "                ('CountVectorizer', CountVectorizer()),\n",
       "                ('clf',\n",
       "                 LogisticRegression(random_state=856, solver='liblinear'))])</pre></div></div></div><div class=\"sk-serial\"><div class=\"sk-item\"><div class=\"sk-estimator sk-toggleable\"><input class=\"sk-toggleable__control sk-hidden--visually\" id=\"87564ec9-7805-4772-9df2-e7ba232b932d\" type=\"checkbox\" ><label class=\"sk-toggleable__label\" for=\"87564ec9-7805-4772-9df2-e7ba232b932d\">PreprocessTransform</label><div class=\"sk-toggleable__content\"><pre>PreprocessTransform()</pre></div></div></div><div class=\"sk-item\"><div class=\"sk-estimator sk-toggleable\"><input class=\"sk-toggleable__control sk-hidden--visually\" id=\"12fdf846-fa4d-42b0-a0d7-23f12c2df494\" type=\"checkbox\" ><label class=\"sk-toggleable__label\" for=\"12fdf846-fa4d-42b0-a0d7-23f12c2df494\">TokenizeLemmatize</label><div class=\"sk-toggleable__content\"><pre>TokenizeLemmatize()</pre></div></div></div><div class=\"sk-item\"><div class=\"sk-estimator sk-toggleable\"><input class=\"sk-toggleable__control sk-hidden--visually\" id=\"33473895-fe8f-43bc-99d2-c20b997a5c1a\" type=\"checkbox\" ><label class=\"sk-toggleable__label\" for=\"33473895-fe8f-43bc-99d2-c20b997a5c1a\">CountVectorizer</label><div class=\"sk-toggleable__content\"><pre>CountVectorizer()</pre></div></div></div><div class=\"sk-item\"><div class=\"sk-estimator sk-toggleable\"><input class=\"sk-toggleable__control sk-hidden--visually\" id=\"b5a60ef3-eb21-4b63-8ab0-ab782e3dcf4c\" type=\"checkbox\" ><label class=\"sk-toggleable__label\" for=\"b5a60ef3-eb21-4b63-8ab0-ab782e3dcf4c\">LogisticRegression</label><div class=\"sk-toggleable__content\"><pre>LogisticRegression(random_state=856, solver='liblinear')</pre></div></div></div></div></div></div></div>"
      ],
      "text/plain": [
       "Pipeline(steps=[('PreprocessTransform', PreprocessTransform()),\n",
       "                ('TokenizeLemmatize', TokenizeLemmatize()),\n",
       "                ('CountVectorizer', CountVectorizer()),\n",
       "                ('clf',\n",
       "                 LogisticRegression(random_state=856, solver='liblinear'))])"
      ]
     },
     "execution_count": 76,
     "metadata": {},
     "output_type": "execute_result"
    }
   ],
   "source": [
    "pipe3\n"
   ]
  },
  {
   "cell_type": "code",
   "execution_count": 77,
   "metadata": {},
   "outputs": [],
   "source": [
    "from sklearn.model_selection import GridSearchCV\n"
   ]
  },
  {
   "cell_type": "code",
   "execution_count": 90,
   "metadata": {},
   "outputs": [
    {
     "data": {
      "text/plain": [
       "{'PreprocessTransform__remove_numbers': [True, False],\n",
       " 'CountVectorizer__max_features': [1500, 2000],\n",
       " 'CountVectorizer__max_df': [0.7, 0.5],\n",
       " 'clf__class_weight': [{-1: 0.1, 0: 0.6, 1: 0.3}, {-1: 0.1, 0: 0.8, 1: 0.1}],\n",
       " 'clf__fit_intercept': [True, False]}"
      ]
     },
     "execution_count": 90,
     "metadata": {},
     "output_type": "execute_result"
    }
   ],
   "source": [
    "param_grid = dict(\n",
    "            PreprocessTransform__remove_numbers=[True, False],\n",
    "            CountVectorizer__max_features=[1500, 2000],\n",
    "            CountVectorizer__max_df=[0.7, 0.5],\n",
    "            clf__class_weight=[{-1:0.1, 0:0.6, 1:0.3}, {-1:0.1, 0:0.8, 1:0.1}],\n",
    "            clf__fit_intercept=[True, False])\n",
    "param_grid\n"
   ]
  },
  {
   "cell_type": "code",
   "execution_count": 91,
   "metadata": {},
   "outputs": [
    {
     "data": {
      "text/html": [
       "<style>div.sk-top-container {color: black;background-color: white;}div.sk-toggleable {background-color: white;}label.sk-toggleable__label {cursor: pointer;display: block;width: 100%;margin-bottom: 0;padding: 0.2em 0.3em;box-sizing: border-box;text-align: center;}div.sk-toggleable__content {max-height: 0;max-width: 0;overflow: hidden;text-align: left;background-color: #f0f8ff;}div.sk-toggleable__content pre {margin: 0.2em;color: black;border-radius: 0.25em;background-color: #f0f8ff;}input.sk-toggleable__control:checked~div.sk-toggleable__content {max-height: 200px;max-width: 100%;overflow: auto;}div.sk-estimator input.sk-toggleable__control:checked~label.sk-toggleable__label {background-color: #d4ebff;}div.sk-label input.sk-toggleable__control:checked~label.sk-toggleable__label {background-color: #d4ebff;}input.sk-hidden--visually {border: 0;clip: rect(1px 1px 1px 1px);clip: rect(1px, 1px, 1px, 1px);height: 1px;margin: -1px;overflow: hidden;padding: 0;position: absolute;width: 1px;}div.sk-estimator {font-family: monospace;background-color: #f0f8ff;margin: 0.25em 0.25em;border: 1px dotted black;border-radius: 0.25em;box-sizing: border-box;}div.sk-estimator:hover {background-color: #d4ebff;}div.sk-parallel-item::after {content: \"\";width: 100%;border-bottom: 1px solid gray;flex-grow: 1;}div.sk-label:hover label.sk-toggleable__label {background-color: #d4ebff;}div.sk-serial::before {content: \"\";position: absolute;border-left: 1px solid gray;box-sizing: border-box;top: 2em;bottom: 0;left: 50%;}div.sk-serial {display: flex;flex-direction: column;align-items: center;background-color: white;}div.sk-item {z-index: 1;}div.sk-parallel {display: flex;align-items: stretch;justify-content: center;background-color: white;}div.sk-parallel-item {display: flex;flex-direction: column;position: relative;background-color: white;}div.sk-parallel-item:first-child::after {align-self: flex-end;width: 50%;}div.sk-parallel-item:last-child::after {align-self: flex-start;width: 50%;}div.sk-parallel-item:only-child::after {width: 0;}div.sk-dashed-wrapped {border: 1px dashed gray;margin: 0.2em;box-sizing: border-box;padding-bottom: 0.1em;background-color: white;position: relative;}div.sk-label label {font-family: monospace;font-weight: bold;background-color: white;display: inline-block;line-height: 1.2em;}div.sk-label-container {position: relative;z-index: 2;text-align: center;}div.sk-container {display: inline-block;position: relative;}</style><div class=\"sk-top-container\"><div class=\"sk-container\"><div class=\"sk-item sk-dashed-wrapped\"><div class=\"sk-label-container\"><div class=\"sk-label sk-toggleable\"><input class=\"sk-toggleable__control sk-hidden--visually\" id=\"241d6e73-ee74-47dc-9eee-7c67118f6e8e\" type=\"checkbox\" ><label class=\"sk-toggleable__label\" for=\"241d6e73-ee74-47dc-9eee-7c67118f6e8e\">GridSearchCV</label><div class=\"sk-toggleable__content\"><pre>GridSearchCV(cv=StratifiedKFold(n_splits=5, random_state=887, shuffle=True),\n",
       "             estimator=Pipeline(steps=[('PreprocessTransform',\n",
       "                                        PreprocessTransform()),\n",
       "                                       ('TokenizeLemmatize',\n",
       "                                        TokenizeLemmatize()),\n",
       "                                       ('CountVectorizer', CountVectorizer()),\n",
       "                                       ('clf',\n",
       "                                        LogisticRegression(random_state=856,\n",
       "                                                           solver='liblinear'))]),\n",
       "             n_jobs=-1,\n",
       "             param_grid={'CountVectorizer__max_df': [0.7, 0.5],\n",
       "                         'CountVectorizer__max_features': [1500, 2000],\n",
       "                         'PreprocessTransform__remove_numbers': [True, False],\n",
       "                         'clf__class_weight': [{-1: 0.1, 0: 0.6, 1: 0.3},\n",
       "                                               {-1: 0.1, 0: 0.8, 1: 0.1}],\n",
       "                         'clf__fit_intercept': [True, False]},\n",
       "             scoring='f1_weighted', verbose=3)</pre></div></div></div><div class=\"sk-parallel\"><div class=\"sk-parallel-item\"><div class=\"sk-item\"><div class=\"sk-serial\"><div class=\"sk-item\"><div class=\"sk-serial\"><div class=\"sk-item\"><div class=\"sk-estimator sk-toggleable\"><input class=\"sk-toggleable__control sk-hidden--visually\" id=\"403be5cf-c171-4934-bd3c-3b3642ce2e19\" type=\"checkbox\" ><label class=\"sk-toggleable__label\" for=\"403be5cf-c171-4934-bd3c-3b3642ce2e19\">PreprocessTransform</label><div class=\"sk-toggleable__content\"><pre>PreprocessTransform()</pre></div></div></div><div class=\"sk-item\"><div class=\"sk-estimator sk-toggleable\"><input class=\"sk-toggleable__control sk-hidden--visually\" id=\"d3f22a21-27f2-4b5e-9c9e-8f46ba0b364b\" type=\"checkbox\" ><label class=\"sk-toggleable__label\" for=\"d3f22a21-27f2-4b5e-9c9e-8f46ba0b364b\">TokenizeLemmatize</label><div class=\"sk-toggleable__content\"><pre>TokenizeLemmatize()</pre></div></div></div><div class=\"sk-item\"><div class=\"sk-estimator sk-toggleable\"><input class=\"sk-toggleable__control sk-hidden--visually\" id=\"8f9d2ba4-ee3d-416a-9e0f-089575f2bfe7\" type=\"checkbox\" ><label class=\"sk-toggleable__label\" for=\"8f9d2ba4-ee3d-416a-9e0f-089575f2bfe7\">CountVectorizer</label><div class=\"sk-toggleable__content\"><pre>CountVectorizer()</pre></div></div></div><div class=\"sk-item\"><div class=\"sk-estimator sk-toggleable\"><input class=\"sk-toggleable__control sk-hidden--visually\" id=\"636c4cf7-b0a7-4f75-9abc-280d163940a3\" type=\"checkbox\" ><label class=\"sk-toggleable__label\" for=\"636c4cf7-b0a7-4f75-9abc-280d163940a3\">LogisticRegression</label><div class=\"sk-toggleable__content\"><pre>LogisticRegression(random_state=856, solver='liblinear')</pre></div></div></div></div></div></div></div></div></div></div></div></div>"
      ],
      "text/plain": [
       "GridSearchCV(cv=StratifiedKFold(n_splits=5, random_state=887, shuffle=True),\n",
       "             estimator=Pipeline(steps=[('PreprocessTransform',\n",
       "                                        PreprocessTransform()),\n",
       "                                       ('TokenizeLemmatize',\n",
       "                                        TokenizeLemmatize()),\n",
       "                                       ('CountVectorizer', CountVectorizer()),\n",
       "                                       ('clf',\n",
       "                                        LogisticRegression(random_state=856,\n",
       "                                                           solver='liblinear'))]),\n",
       "             n_jobs=-1,\n",
       "             param_grid={'CountVectorizer__max_df': [0.7, 0.5],\n",
       "                         'CountVectorizer__max_features': [1500, 2000],\n",
       "                         'PreprocessTransform__remove_numbers': [True, False],\n",
       "                         'clf__class_weight': [{-1: 0.1, 0: 0.6, 1: 0.3},\n",
       "                                               {-1: 0.1, 0: 0.8, 1: 0.1}],\n",
       "                         'clf__fit_intercept': [True, False]},\n",
       "             scoring='f1_weighted', verbose=3)"
      ]
     },
     "execution_count": 91,
     "metadata": {},
     "output_type": "execute_result"
    }
   ],
   "source": [
    "gridsearch = GridSearchCV(pipe3, param_grid, scoring='f1_weighted', cv=kfold, \n",
    "             n_jobs=-1, verbose=3)\n",
    "gridsearch\n"
   ]
  },
  {
   "cell_type": "code",
   "execution_count": 92,
   "metadata": {},
   "outputs": [
    {
     "name": "stdout",
     "output_type": "stream",
     "text": [
      "Fitting 5 folds for each of 32 candidates, totalling 160 fits\n"
     ]
    },
    {
     "name": "stderr",
     "output_type": "stream",
     "text": [
      "[Parallel(n_jobs=-1)]: Using backend LokyBackend with 8 concurrent workers.\n",
      "[Parallel(n_jobs=-1)]: Done  16 tasks      | elapsed:   45.0s\n",
      "[Parallel(n_jobs=-1)]: Done 112 tasks      | elapsed:  4.0min\n",
      "[Parallel(n_jobs=-1)]: Done 160 out of 160 | elapsed:  5.6min finished\n"
     ]
    },
    {
     "data": {
      "text/html": [
       "<style>div.sk-top-container {color: black;background-color: white;}div.sk-toggleable {background-color: white;}label.sk-toggleable__label {cursor: pointer;display: block;width: 100%;margin-bottom: 0;padding: 0.2em 0.3em;box-sizing: border-box;text-align: center;}div.sk-toggleable__content {max-height: 0;max-width: 0;overflow: hidden;text-align: left;background-color: #f0f8ff;}div.sk-toggleable__content pre {margin: 0.2em;color: black;border-radius: 0.25em;background-color: #f0f8ff;}input.sk-toggleable__control:checked~div.sk-toggleable__content {max-height: 200px;max-width: 100%;overflow: auto;}div.sk-estimator input.sk-toggleable__control:checked~label.sk-toggleable__label {background-color: #d4ebff;}div.sk-label input.sk-toggleable__control:checked~label.sk-toggleable__label {background-color: #d4ebff;}input.sk-hidden--visually {border: 0;clip: rect(1px 1px 1px 1px);clip: rect(1px, 1px, 1px, 1px);height: 1px;margin: -1px;overflow: hidden;padding: 0;position: absolute;width: 1px;}div.sk-estimator {font-family: monospace;background-color: #f0f8ff;margin: 0.25em 0.25em;border: 1px dotted black;border-radius: 0.25em;box-sizing: border-box;}div.sk-estimator:hover {background-color: #d4ebff;}div.sk-parallel-item::after {content: \"\";width: 100%;border-bottom: 1px solid gray;flex-grow: 1;}div.sk-label:hover label.sk-toggleable__label {background-color: #d4ebff;}div.sk-serial::before {content: \"\";position: absolute;border-left: 1px solid gray;box-sizing: border-box;top: 2em;bottom: 0;left: 50%;}div.sk-serial {display: flex;flex-direction: column;align-items: center;background-color: white;}div.sk-item {z-index: 1;}div.sk-parallel {display: flex;align-items: stretch;justify-content: center;background-color: white;}div.sk-parallel-item {display: flex;flex-direction: column;position: relative;background-color: white;}div.sk-parallel-item:first-child::after {align-self: flex-end;width: 50%;}div.sk-parallel-item:last-child::after {align-self: flex-start;width: 50%;}div.sk-parallel-item:only-child::after {width: 0;}div.sk-dashed-wrapped {border: 1px dashed gray;margin: 0.2em;box-sizing: border-box;padding-bottom: 0.1em;background-color: white;position: relative;}div.sk-label label {font-family: monospace;font-weight: bold;background-color: white;display: inline-block;line-height: 1.2em;}div.sk-label-container {position: relative;z-index: 2;text-align: center;}div.sk-container {display: inline-block;position: relative;}</style><div class=\"sk-top-container\"><div class=\"sk-container\"><div class=\"sk-item sk-dashed-wrapped\"><div class=\"sk-label-container\"><div class=\"sk-label sk-toggleable\"><input class=\"sk-toggleable__control sk-hidden--visually\" id=\"71ed3df3-4c94-44b6-a3e1-b70334ca7fbd\" type=\"checkbox\" ><label class=\"sk-toggleable__label\" for=\"71ed3df3-4c94-44b6-a3e1-b70334ca7fbd\">GridSearchCV</label><div class=\"sk-toggleable__content\"><pre>GridSearchCV(cv=StratifiedKFold(n_splits=5, random_state=887, shuffle=True),\n",
       "             estimator=Pipeline(steps=[('PreprocessTransform',\n",
       "                                        PreprocessTransform()),\n",
       "                                       ('TokenizeLemmatize',\n",
       "                                        TokenizeLemmatize()),\n",
       "                                       ('CountVectorizer', CountVectorizer()),\n",
       "                                       ('clf',\n",
       "                                        LogisticRegression(random_state=856,\n",
       "                                                           solver='liblinear'))]),\n",
       "             n_jobs=-1,\n",
       "             param_grid={'CountVectorizer__max_df': [0.7, 0.5],\n",
       "                         'CountVectorizer__max_features': [1500, 2000],\n",
       "                         'PreprocessTransform__remove_numbers': [True, False],\n",
       "                         'clf__class_weight': [{-1: 0.1, 0: 0.6, 1: 0.3},\n",
       "                                               {-1: 0.1, 0: 0.8, 1: 0.1}],\n",
       "                         'clf__fit_intercept': [True, False]},\n",
       "             scoring='f1_weighted', verbose=3)</pre></div></div></div><div class=\"sk-parallel\"><div class=\"sk-parallel-item\"><div class=\"sk-item\"><div class=\"sk-serial\"><div class=\"sk-item\"><div class=\"sk-serial\"><div class=\"sk-item\"><div class=\"sk-estimator sk-toggleable\"><input class=\"sk-toggleable__control sk-hidden--visually\" id=\"f2df5967-d1e4-4423-b419-629c8972690d\" type=\"checkbox\" ><label class=\"sk-toggleable__label\" for=\"f2df5967-d1e4-4423-b419-629c8972690d\">PreprocessTransform</label><div class=\"sk-toggleable__content\"><pre>PreprocessTransform()</pre></div></div></div><div class=\"sk-item\"><div class=\"sk-estimator sk-toggleable\"><input class=\"sk-toggleable__control sk-hidden--visually\" id=\"39484836-ccde-4064-a4f0-a62cb6a36bb1\" type=\"checkbox\" ><label class=\"sk-toggleable__label\" for=\"39484836-ccde-4064-a4f0-a62cb6a36bb1\">TokenizeLemmatize</label><div class=\"sk-toggleable__content\"><pre>TokenizeLemmatize()</pre></div></div></div><div class=\"sk-item\"><div class=\"sk-estimator sk-toggleable\"><input class=\"sk-toggleable__control sk-hidden--visually\" id=\"b2e2d1c1-4315-4919-872e-3b0458d5416f\" type=\"checkbox\" ><label class=\"sk-toggleable__label\" for=\"b2e2d1c1-4315-4919-872e-3b0458d5416f\">CountVectorizer</label><div class=\"sk-toggleable__content\"><pre>CountVectorizer()</pre></div></div></div><div class=\"sk-item\"><div class=\"sk-estimator sk-toggleable\"><input class=\"sk-toggleable__control sk-hidden--visually\" id=\"44311242-460f-41ef-add7-bb7b433a84a4\" type=\"checkbox\" ><label class=\"sk-toggleable__label\" for=\"44311242-460f-41ef-add7-bb7b433a84a4\">LogisticRegression</label><div class=\"sk-toggleable__content\"><pre>LogisticRegression(random_state=856, solver='liblinear')</pre></div></div></div></div></div></div></div></div></div></div></div></div>"
      ],
      "text/plain": [
       "GridSearchCV(cv=StratifiedKFold(n_splits=5, random_state=887, shuffle=True),\n",
       "             estimator=Pipeline(steps=[('PreprocessTransform',\n",
       "                                        PreprocessTransform()),\n",
       "                                       ('TokenizeLemmatize',\n",
       "                                        TokenizeLemmatize()),\n",
       "                                       ('CountVectorizer', CountVectorizer()),\n",
       "                                       ('clf',\n",
       "                                        LogisticRegression(random_state=856,\n",
       "                                                           solver='liblinear'))]),\n",
       "             n_jobs=-1,\n",
       "             param_grid={'CountVectorizer__max_df': [0.7, 0.5],\n",
       "                         'CountVectorizer__max_features': [1500, 2000],\n",
       "                         'PreprocessTransform__remove_numbers': [True, False],\n",
       "                         'clf__class_weight': [{-1: 0.1, 0: 0.6, 1: 0.3},\n",
       "                                               {-1: 0.1, 0: 0.8, 1: 0.1}],\n",
       "                         'clf__fit_intercept': [True, False]},\n",
       "             scoring='f1_weighted', verbose=3)"
      ]
     },
     "execution_count": 92,
     "metadata": {},
     "output_type": "execute_result"
    }
   ],
   "source": [
    "gridsearch.fit(X_train, y_train)\n"
   ]
  },
  {
   "cell_type": "code",
   "execution_count": 93,
   "metadata": {},
   "outputs": [
    {
     "name": "stdout",
     "output_type": "stream",
     "text": [
      "              precision    recall  f1-score   support\n",
      "\n",
      "          -1       0.89      0.81      0.85      2294\n",
      "           0       0.53      0.71      0.60       775\n",
      "           1       0.72      0.66      0.69       591\n",
      "\n",
      "    accuracy                           0.76      3660\n",
      "   macro avg       0.71      0.73      0.71      3660\n",
      "weighted avg       0.79      0.76      0.77      3660\n",
      "\n"
     ]
    }
   ],
   "source": [
    "pred_gs = gridsearch.predict(X_test)\n",
    "print(classification_report(y_test, pred_gs))\n"
   ]
  },
  {
   "cell_type": "code",
   "execution_count": 94,
   "metadata": {},
   "outputs": [
    {
     "name": "stdout",
     "output_type": "stream",
     "text": [
      "{'CountVectorizer__max_df': 0.7, 'CountVectorizer__max_features': 2000, 'PreprocessTransform__remove_numbers': False, 'clf__class_weight': {-1: 0.1, 0: 0.6, 1: 0.3}, 'clf__fit_intercept': True}\n"
     ]
    }
   ],
   "source": [
    "print(gridsearch.best_params_)\n"
   ]
  },
  {
   "cell_type": "code",
   "execution_count": 95,
   "metadata": {},
   "outputs": [
    {
     "name": "stdout",
     "output_type": "stream",
     "text": [
      "[[1850  361   83]\n",
      " [ 154  549   72]\n",
      " [  67  133  391]]\n"
     ]
    },
    {
     "data": {
      "image/png": "[encoded data removed]",
      "text/plain": [
       "<Figure size 576x360 with 2 Axes>"
      ]
     },
     "metadata": {
      "needs_background": "light"
     },
     "output_type": "display_data"
    }
   ],
   "source": [
    "conf_mat = confusion_matrix(y_test, pred_gs)\n",
    "\n",
    "print(conf_mat)\n",
    "\n",
    "df_cm = pd.DataFrame(conf_mat, index = [i for i in ['-1','0','1']],\n",
    "                  columns = [i for i in ['-1','0','1']])\n",
    "plt.figure(figsize = (8,5))\n",
    "sns.heatmap(df_cm, \n",
    "            annot=True, \n",
    "            fmt='g',\n",
    "            xticklabels=['neg_act','neut_act','pos_act'],\n",
    "            yticklabels=['neg_pr','neut_pr','pos_pr'],\n",
    "           )\n",
    "\n",
    "plt.tight_layout(pad=1.1)\n",
    "\n",
    "plt.savefig('confus_matrix_3classes.png', facecolor='w')"
   ]
  },
  {
   "cell_type": "markdown",
   "metadata": {},
   "source": [
    "### Combining 'neutral' group with 'positive', as being non-negative\n",
    " - 'Neutral' group sometime seems to be assigned to a not-very-clear cooments (even for humans). \n",
    " - If the main goal is to isolate 'negative' group, classification will be more precise"
   ]
  },
  {
   "cell_type": "code",
   "execution_count": 96,
   "metadata": {},
   "outputs": [
    {
     "data": {
      "text/html": [
       "<div>\n",
       "<style scoped>\n",
       "    .dataframe tbody tr th:only-of-type {\n",
       "        vertical-align: middle;\n",
       "    }\n",
       "\n",
       "    .dataframe tbody tr th {\n",
       "        vertical-align: top;\n",
       "    }\n",
       "\n",
       "    .dataframe thead th {\n",
       "        text-align: right;\n",
       "    }\n",
       "</style>\n",
       "<table border=\"1\" class=\"dataframe\">\n",
       "  <thead>\n",
       "    <tr style=\"text-align: right;\">\n",
       "      <th></th>\n",
       "      <th>airline_sentiment</th>\n",
       "      <th>airline</th>\n",
       "      <th>text</th>\n",
       "      <th>sentiment_score</th>\n",
       "    </tr>\n",
       "  </thead>\n",
       "  <tbody>\n",
       "    <tr>\n",
       "      <th>14635</th>\n",
       "      <td>positive</td>\n",
       "      <td>American</td>\n",
       "      <td>@AmericanAir thank you we got on a different flight to Chicago.</td>\n",
       "      <td>1</td>\n",
       "    </tr>\n",
       "    <tr>\n",
       "      <th>14636</th>\n",
       "      <td>negative</td>\n",
       "      <td>American</td>\n",
       "      <td>@AmericanAir leaving over 20 minutes Late Flight. No warnings or communication until we were 15 minutes Late Flight. That's called shitty customer svc</td>\n",
       "      <td>-1</td>\n",
       "    </tr>\n",
       "    <tr>\n",
       "      <th>14637</th>\n",
       "      <td>neutral</td>\n",
       "      <td>American</td>\n",
       "      <td>@AmericanAir Please bring American Airlines to #BlackBerry10</td>\n",
       "      <td>0</td>\n",
       "    </tr>\n",
       "    <tr>\n",
       "      <th>14638</th>\n",
       "      <td>negative</td>\n",
       "      <td>American</td>\n",
       "      <td>@AmericanAir you have my money, you change my flight, and don't answer your phones! Any other suggestions so I can make my commitment??</td>\n",
       "      <td>-1</td>\n",
       "    </tr>\n",
       "    <tr>\n",
       "      <th>14639</th>\n",
       "      <td>neutral</td>\n",
       "      <td>American</td>\n",
       "      <td>@AmericanAir we have 8 ppl so we need 2 know how many seats are on the next flight. Plz put us on standby for 4 people on the next flight?</td>\n",
       "      <td>0</td>\n",
       "    </tr>\n",
       "  </tbody>\n",
       "</table>\n",
       "</div>"
      ],
      "text/plain": [
       "      airline_sentiment   airline  \\\n",
       "14635          positive  American   \n",
       "14636          negative  American   \n",
       "14637           neutral  American   \n",
       "14638          negative  American   \n",
       "14639           neutral  American   \n",
       "\n",
       "                                                                                                                                                         text  \\\n",
       "14635                                                                                         @AmericanAir thank you we got on a different flight to Chicago.   \n",
       "14636  @AmericanAir leaving over 20 minutes Late Flight. No warnings or communication until we were 15 minutes Late Flight. That's called shitty customer svc   \n",
       "14637                                                                                            @AmericanAir Please bring American Airlines to #BlackBerry10   \n",
       "14638                 @AmericanAir you have my money, you change my flight, and don't answer your phones! Any other suggestions so I can make my commitment??   \n",
       "14639              @AmericanAir we have 8 ppl so we need 2 know how many seats are on the next flight. Plz put us on standby for 4 people on the next flight?   \n",
       "\n",
       "       sentiment_score  \n",
       "14635                1  \n",
       "14636               -1  \n",
       "14637                0  \n",
       "14638               -1  \n",
       "14639                0  "
      ]
     },
     "execution_count": 96,
     "metadata": {},
     "output_type": "execute_result"
    }
   ],
   "source": [
    "df2.tail()\n"
   ]
  },
  {
   "cell_type": "code",
   "execution_count": 97,
   "metadata": {},
   "outputs": [
    {
     "data": {
      "text/html": [
       "<div>\n",
       "<style scoped>\n",
       "    .dataframe tbody tr th:only-of-type {\n",
       "        vertical-align: middle;\n",
       "    }\n",
       "\n",
       "    .dataframe tbody tr th {\n",
       "        vertical-align: top;\n",
       "    }\n",
       "\n",
       "    .dataframe thead th {\n",
       "        text-align: right;\n",
       "    }\n",
       "</style>\n",
       "<table border=\"1\" class=\"dataframe\">\n",
       "  <thead>\n",
       "    <tr style=\"text-align: right;\">\n",
       "      <th></th>\n",
       "      <th>airline_sentiment</th>\n",
       "      <th>airline</th>\n",
       "      <th>text</th>\n",
       "      <th>sentiment_score</th>\n",
       "    </tr>\n",
       "  </thead>\n",
       "  <tbody>\n",
       "    <tr>\n",
       "      <th>14635</th>\n",
       "      <td>positive</td>\n",
       "      <td>American</td>\n",
       "      <td>@AmericanAir thank you we got on a different flight to Chicago.</td>\n",
       "      <td>1</td>\n",
       "    </tr>\n",
       "    <tr>\n",
       "      <th>14636</th>\n",
       "      <td>negative</td>\n",
       "      <td>American</td>\n",
       "      <td>@AmericanAir leaving over 20 minutes Late Flight. No warnings or communication until we were 15 minutes Late Flight. That's called shitty customer svc</td>\n",
       "      <td>-1</td>\n",
       "    </tr>\n",
       "    <tr>\n",
       "      <th>14637</th>\n",
       "      <td>neutral</td>\n",
       "      <td>American</td>\n",
       "      <td>@AmericanAir Please bring American Airlines to #BlackBerry10</td>\n",
       "      <td>1</td>\n",
       "    </tr>\n",
       "    <tr>\n",
       "      <th>14638</th>\n",
       "      <td>negative</td>\n",
       "      <td>American</td>\n",
       "      <td>@AmericanAir you have my money, you change my flight, and don't answer your phones! Any other suggestions so I can make my commitment??</td>\n",
       "      <td>-1</td>\n",
       "    </tr>\n",
       "    <tr>\n",
       "      <th>14639</th>\n",
       "      <td>neutral</td>\n",
       "      <td>American</td>\n",
       "      <td>@AmericanAir we have 8 ppl so we need 2 know how many seats are on the next flight. Plz put us on standby for 4 people on the next flight?</td>\n",
       "      <td>1</td>\n",
       "    </tr>\n",
       "  </tbody>\n",
       "</table>\n",
       "</div>"
      ],
      "text/plain": [
       "      airline_sentiment   airline  \\\n",
       "14635          positive  American   \n",
       "14636          negative  American   \n",
       "14637           neutral  American   \n",
       "14638          negative  American   \n",
       "14639           neutral  American   \n",
       "\n",
       "                                                                                                                                                         text  \\\n",
       "14635                                                                                         @AmericanAir thank you we got on a different flight to Chicago.   \n",
       "14636  @AmericanAir leaving over 20 minutes Late Flight. No warnings or communication until we were 15 minutes Late Flight. That's called shitty customer svc   \n",
       "14637                                                                                            @AmericanAir Please bring American Airlines to #BlackBerry10   \n",
       "14638                 @AmericanAir you have my money, you change my flight, and don't answer your phones! Any other suggestions so I can make my commitment??   \n",
       "14639              @AmericanAir we have 8 ppl so we need 2 know how many seats are on the next flight. Plz put us on standby for 4 people on the next flight?   \n",
       "\n",
       "       sentiment_score  \n",
       "14635                1  \n",
       "14636               -1  \n",
       "14637                1  \n",
       "14638               -1  \n",
       "14639                1  "
      ]
     },
     "execution_count": 97,
     "metadata": {},
     "output_type": "execute_result"
    }
   ],
   "source": [
    "df3=df2.copy()\n",
    "\n",
    "df3.loc[df3['sentiment_score']==0, 'sentiment_score']=1\n",
    "\n",
    "df3.tail()\n"
   ]
  },
  {
   "cell_type": "code",
   "execution_count": 98,
   "metadata": {},
   "outputs": [
    {
     "name": "stdout",
     "output_type": "stream",
     "text": [
      "previous groups -1    0.626913\n",
      " 0    0.211680\n",
      " 1    0.161407\n",
      "Name: sentiment_score, dtype: float64\n",
      "combined groups -1    0.626913\n",
      " 1    0.373087\n",
      "Name: sentiment_score, dtype: float64\n"
     ]
    }
   ],
   "source": [
    "print('previous groups', df2['sentiment_score'].value_counts(normalize=True))\n",
    "print('combined groups', df3['sentiment_score'].value_counts(normalize=True))\n"
   ]
  },
  {
   "cell_type": "markdown",
   "metadata": {},
   "source": [
    "### Classifier re-built"
   ]
  },
  {
   "cell_type": "code",
   "execution_count": 99,
   "metadata": {},
   "outputs": [],
   "source": [
    "X = df3['text']\n",
    "\n",
    "y = df3['sentiment_score']\n",
    "y = y.astype(int)\n"
   ]
  },
  {
   "cell_type": "code",
   "execution_count": 100,
   "metadata": {},
   "outputs": [
    {
     "name": "stdout",
     "output_type": "stream",
     "text": [
      "(10980,) (10980,)\n"
     ]
    }
   ],
   "source": [
    "X_train, X_test, y_train, y_test = train_test_split(X, y, test_size=0.25, \n",
    "                                                    random_state=887,  stratify=y)\n",
    "print(X_train.shape, y_train.shape)\n"
   ]
  },
  {
   "cell_type": "code",
   "execution_count": 101,
   "metadata": {},
   "outputs": [
    {
     "data": {
      "text/plain": [
       "{'PreprocessTransform__remove_numbers': [True, False],\n",
       " 'CountVectorizer__max_features': [1500, 2000],\n",
       " 'CountVectorizer__max_df': [0.7, 0.5],\n",
       " 'clf__class_weight': [{-1: 0.2, 1: 0.8}, {-1: 0.4, 1: 0.6}],\n",
       " 'clf__fit_intercept': [True, False]}"
      ]
     },
     "execution_count": 101,
     "metadata": {},
     "output_type": "execute_result"
    }
   ],
   "source": [
    "param_grid_new = dict(\n",
    "            PreprocessTransform__remove_numbers=[True, False],\n",
    "            CountVectorizer__max_features=[1500, 2000],\n",
    "            CountVectorizer__max_df=[0.7, 0.5],\n",
    "            clf__class_weight=[{-1:0.2, 1:0.8}, {-1:0.4, 1:0.6}],\n",
    "            clf__fit_intercept=[True, False])\n",
    "param_grid_new\n"
   ]
  },
  {
   "cell_type": "code",
   "execution_count": 102,
   "metadata": {},
   "outputs": [
    {
     "data": {
      "text/html": [
       "<style>div.sk-top-container {color: black;background-color: white;}div.sk-toggleable {background-color: white;}label.sk-toggleable__label {cursor: pointer;display: block;width: 100%;margin-bottom: 0;padding: 0.2em 0.3em;box-sizing: border-box;text-align: center;}div.sk-toggleable__content {max-height: 0;max-width: 0;overflow: hidden;text-align: left;background-color: #f0f8ff;}div.sk-toggleable__content pre {margin: 0.2em;color: black;border-radius: 0.25em;background-color: #f0f8ff;}input.sk-toggleable__control:checked~div.sk-toggleable__content {max-height: 200px;max-width: 100%;overflow: auto;}div.sk-estimator input.sk-toggleable__control:checked~label.sk-toggleable__label {background-color: #d4ebff;}div.sk-label input.sk-toggleable__control:checked~label.sk-toggleable__label {background-color: #d4ebff;}input.sk-hidden--visually {border: 0;clip: rect(1px 1px 1px 1px);clip: rect(1px, 1px, 1px, 1px);height: 1px;margin: -1px;overflow: hidden;padding: 0;position: absolute;width: 1px;}div.sk-estimator {font-family: monospace;background-color: #f0f8ff;margin: 0.25em 0.25em;border: 1px dotted black;border-radius: 0.25em;box-sizing: border-box;}div.sk-estimator:hover {background-color: #d4ebff;}div.sk-parallel-item::after {content: \"\";width: 100%;border-bottom: 1px solid gray;flex-grow: 1;}div.sk-label:hover label.sk-toggleable__label {background-color: #d4ebff;}div.sk-serial::before {content: \"\";position: absolute;border-left: 1px solid gray;box-sizing: border-box;top: 2em;bottom: 0;left: 50%;}div.sk-serial {display: flex;flex-direction: column;align-items: center;background-color: white;}div.sk-item {z-index: 1;}div.sk-parallel {display: flex;align-items: stretch;justify-content: center;background-color: white;}div.sk-parallel-item {display: flex;flex-direction: column;position: relative;background-color: white;}div.sk-parallel-item:first-child::after {align-self: flex-end;width: 50%;}div.sk-parallel-item:last-child::after {align-self: flex-start;width: 50%;}div.sk-parallel-item:only-child::after {width: 0;}div.sk-dashed-wrapped {border: 1px dashed gray;margin: 0.2em;box-sizing: border-box;padding-bottom: 0.1em;background-color: white;position: relative;}div.sk-label label {font-family: monospace;font-weight: bold;background-color: white;display: inline-block;line-height: 1.2em;}div.sk-label-container {position: relative;z-index: 2;text-align: center;}div.sk-container {display: inline-block;position: relative;}</style><div class=\"sk-top-container\"><div class=\"sk-container\"><div class=\"sk-item sk-dashed-wrapped\"><div class=\"sk-label-container\"><div class=\"sk-label sk-toggleable\"><input class=\"sk-toggleable__control sk-hidden--visually\" id=\"b90cab40-45de-4d88-a3d9-91918f1d8a49\" type=\"checkbox\" ><label class=\"sk-toggleable__label\" for=\"b90cab40-45de-4d88-a3d9-91918f1d8a49\">GridSearchCV</label><div class=\"sk-toggleable__content\"><pre>GridSearchCV(cv=StratifiedKFold(n_splits=5, random_state=887, shuffle=True),\n",
       "             estimator=Pipeline(steps=[('PreprocessTransform',\n",
       "                                        PreprocessTransform()),\n",
       "                                       ('TokenizeLemmatize',\n",
       "                                        TokenizeLemmatize()),\n",
       "                                       ('CountVectorizer', CountVectorizer()),\n",
       "                                       ('clf',\n",
       "                                        LogisticRegression(random_state=856,\n",
       "                                                           solver='liblinear'))]),\n",
       "             n_jobs=-1,\n",
       "             param_grid={'CountVectorizer__max_df': [0.7, 0.5],\n",
       "                         'CountVectorizer__max_features': [1500, 2000],\n",
       "                         'PreprocessTransform__remove_numbers': [True, False],\n",
       "                         'clf__class_weight': [{-1: 0.2, 1: 0.8},\n",
       "                                               {-1: 0.4, 1: 0.6}],\n",
       "                         'clf__fit_intercept': [True, False]},\n",
       "             scoring='f1_weighted', verbose=3)</pre></div></div></div><div class=\"sk-parallel\"><div class=\"sk-parallel-item\"><div class=\"sk-item\"><div class=\"sk-serial\"><div class=\"sk-item\"><div class=\"sk-serial\"><div class=\"sk-item\"><div class=\"sk-estimator sk-toggleable\"><input class=\"sk-toggleable__control sk-hidden--visually\" id=\"1aa47d4f-b274-4212-ac9f-732e873e5b60\" type=\"checkbox\" ><label class=\"sk-toggleable__label\" for=\"1aa47d4f-b274-4212-ac9f-732e873e5b60\">PreprocessTransform</label><div class=\"sk-toggleable__content\"><pre>PreprocessTransform()</pre></div></div></div><div class=\"sk-item\"><div class=\"sk-estimator sk-toggleable\"><input class=\"sk-toggleable__control sk-hidden--visually\" id=\"fd99a55d-1c6f-4469-85e2-6db877121fe6\" type=\"checkbox\" ><label class=\"sk-toggleable__label\" for=\"fd99a55d-1c6f-4469-85e2-6db877121fe6\">TokenizeLemmatize</label><div class=\"sk-toggleable__content\"><pre>TokenizeLemmatize()</pre></div></div></div><div class=\"sk-item\"><div class=\"sk-estimator sk-toggleable\"><input class=\"sk-toggleable__control sk-hidden--visually\" id=\"4bdc2453-23a4-4253-bd6d-4f92ddc86418\" type=\"checkbox\" ><label class=\"sk-toggleable__label\" for=\"4bdc2453-23a4-4253-bd6d-4f92ddc86418\">CountVectorizer</label><div class=\"sk-toggleable__content\"><pre>CountVectorizer()</pre></div></div></div><div class=\"sk-item\"><div class=\"sk-estimator sk-toggleable\"><input class=\"sk-toggleable__control sk-hidden--visually\" id=\"62bff4fc-5589-4790-be8e-ae6236bb57ff\" type=\"checkbox\" ><label class=\"sk-toggleable__label\" for=\"62bff4fc-5589-4790-be8e-ae6236bb57ff\">LogisticRegression</label><div class=\"sk-toggleable__content\"><pre>LogisticRegression(random_state=856, solver='liblinear')</pre></div></div></div></div></div></div></div></div></div></div></div></div>"
      ],
      "text/plain": [
       "GridSearchCV(cv=StratifiedKFold(n_splits=5, random_state=887, shuffle=True),\n",
       "             estimator=Pipeline(steps=[('PreprocessTransform',\n",
       "                                        PreprocessTransform()),\n",
       "                                       ('TokenizeLemmatize',\n",
       "                                        TokenizeLemmatize()),\n",
       "                                       ('CountVectorizer', CountVectorizer()),\n",
       "                                       ('clf',\n",
       "                                        LogisticRegression(random_state=856,\n",
       "                                                           solver='liblinear'))]),\n",
       "             n_jobs=-1,\n",
       "             param_grid={'CountVectorizer__max_df': [0.7, 0.5],\n",
       "                         'CountVectorizer__max_features': [1500, 2000],\n",
       "                         'PreprocessTransform__remove_numbers': [True, False],\n",
       "                         'clf__class_weight': [{-1: 0.2, 1: 0.8},\n",
       "                                               {-1: 0.4, 1: 0.6}],\n",
       "                         'clf__fit_intercept': [True, False]},\n",
       "             scoring='f1_weighted', verbose=3)"
      ]
     },
     "execution_count": 102,
     "metadata": {},
     "output_type": "execute_result"
    }
   ],
   "source": [
    "gridsearch_new = GridSearchCV(pipe3, param_grid_new, scoring='f1_weighted', cv=kfold, \n",
    "             n_jobs=-1, verbose=3)\n",
    "gridsearch_new\n"
   ]
  },
  {
   "cell_type": "code",
   "execution_count": 103,
   "metadata": {},
   "outputs": [
    {
     "name": "stdout",
     "output_type": "stream",
     "text": [
      "Fitting 5 folds for each of 32 candidates, totalling 160 fits\n"
     ]
    },
    {
     "name": "stderr",
     "output_type": "stream",
     "text": [
      "[Parallel(n_jobs=-1)]: Using backend LokyBackend with 8 concurrent workers.\n",
      "[Parallel(n_jobs=-1)]: Done  16 tasks      | elapsed:   37.2s\n",
      "[Parallel(n_jobs=-1)]: Done 112 tasks      | elapsed:  4.0min\n",
      "[Parallel(n_jobs=-1)]: Done 160 out of 160 | elapsed:  5.7min finished\n"
     ]
    },
    {
     "data": {
      "text/html": [
       "<style>div.sk-top-container {color: black;background-color: white;}div.sk-toggleable {background-color: white;}label.sk-toggleable__label {cursor: pointer;display: block;width: 100%;margin-bottom: 0;padding: 0.2em 0.3em;box-sizing: border-box;text-align: center;}div.sk-toggleable__content {max-height: 0;max-width: 0;overflow: hidden;text-align: left;background-color: #f0f8ff;}div.sk-toggleable__content pre {margin: 0.2em;color: black;border-radius: 0.25em;background-color: #f0f8ff;}input.sk-toggleable__control:checked~div.sk-toggleable__content {max-height: 200px;max-width: 100%;overflow: auto;}div.sk-estimator input.sk-toggleable__control:checked~label.sk-toggleable__label {background-color: #d4ebff;}div.sk-label input.sk-toggleable__control:checked~label.sk-toggleable__label {background-color: #d4ebff;}input.sk-hidden--visually {border: 0;clip: rect(1px 1px 1px 1px);clip: rect(1px, 1px, 1px, 1px);height: 1px;margin: -1px;overflow: hidden;padding: 0;position: absolute;width: 1px;}div.sk-estimator {font-family: monospace;background-color: #f0f8ff;margin: 0.25em 0.25em;border: 1px dotted black;border-radius: 0.25em;box-sizing: border-box;}div.sk-estimator:hover {background-color: #d4ebff;}div.sk-parallel-item::after {content: \"\";width: 100%;border-bottom: 1px solid gray;flex-grow: 1;}div.sk-label:hover label.sk-toggleable__label {background-color: #d4ebff;}div.sk-serial::before {content: \"\";position: absolute;border-left: 1px solid gray;box-sizing: border-box;top: 2em;bottom: 0;left: 50%;}div.sk-serial {display: flex;flex-direction: column;align-items: center;background-color: white;}div.sk-item {z-index: 1;}div.sk-parallel {display: flex;align-items: stretch;justify-content: center;background-color: white;}div.sk-parallel-item {display: flex;flex-direction: column;position: relative;background-color: white;}div.sk-parallel-item:first-child::after {align-self: flex-end;width: 50%;}div.sk-parallel-item:last-child::after {align-self: flex-start;width: 50%;}div.sk-parallel-item:only-child::after {width: 0;}div.sk-dashed-wrapped {border: 1px dashed gray;margin: 0.2em;box-sizing: border-box;padding-bottom: 0.1em;background-color: white;position: relative;}div.sk-label label {font-family: monospace;font-weight: bold;background-color: white;display: inline-block;line-height: 1.2em;}div.sk-label-container {position: relative;z-index: 2;text-align: center;}div.sk-container {display: inline-block;position: relative;}</style><div class=\"sk-top-container\"><div class=\"sk-container\"><div class=\"sk-item sk-dashed-wrapped\"><div class=\"sk-label-container\"><div class=\"sk-label sk-toggleable\"><input class=\"sk-toggleable__control sk-hidden--visually\" id=\"fd4ac1d9-472e-4452-8007-b64c7fa60e35\" type=\"checkbox\" ><label class=\"sk-toggleable__label\" for=\"fd4ac1d9-472e-4452-8007-b64c7fa60e35\">GridSearchCV</label><div class=\"sk-toggleable__content\"><pre>GridSearchCV(cv=StratifiedKFold(n_splits=5, random_state=887, shuffle=True),\n",
       "             estimator=Pipeline(steps=[('PreprocessTransform',\n",
       "                                        PreprocessTransform()),\n",
       "                                       ('TokenizeLemmatize',\n",
       "                                        TokenizeLemmatize()),\n",
       "                                       ('CountVectorizer', CountVectorizer()),\n",
       "                                       ('clf',\n",
       "                                        LogisticRegression(random_state=856,\n",
       "                                                           solver='liblinear'))]),\n",
       "             n_jobs=-1,\n",
       "             param_grid={'CountVectorizer__max_df': [0.7, 0.5],\n",
       "                         'CountVectorizer__max_features': [1500, 2000],\n",
       "                         'PreprocessTransform__remove_numbers': [True, False],\n",
       "                         'clf__class_weight': [{-1: 0.2, 1: 0.8},\n",
       "                                               {-1: 0.4, 1: 0.6}],\n",
       "                         'clf__fit_intercept': [True, False]},\n",
       "             scoring='f1_weighted', verbose=3)</pre></div></div></div><div class=\"sk-parallel\"><div class=\"sk-parallel-item\"><div class=\"sk-item\"><div class=\"sk-serial\"><div class=\"sk-item\"><div class=\"sk-serial\"><div class=\"sk-item\"><div class=\"sk-estimator sk-toggleable\"><input class=\"sk-toggleable__control sk-hidden--visually\" id=\"a798fd0d-ef11-4d78-a70e-75eb040d3502\" type=\"checkbox\" ><label class=\"sk-toggleable__label\" for=\"a798fd0d-ef11-4d78-a70e-75eb040d3502\">PreprocessTransform</label><div class=\"sk-toggleable__content\"><pre>PreprocessTransform()</pre></div></div></div><div class=\"sk-item\"><div class=\"sk-estimator sk-toggleable\"><input class=\"sk-toggleable__control sk-hidden--visually\" id=\"889d033e-f60b-4569-a863-111a221e30a4\" type=\"checkbox\" ><label class=\"sk-toggleable__label\" for=\"889d033e-f60b-4569-a863-111a221e30a4\">TokenizeLemmatize</label><div class=\"sk-toggleable__content\"><pre>TokenizeLemmatize()</pre></div></div></div><div class=\"sk-item\"><div class=\"sk-estimator sk-toggleable\"><input class=\"sk-toggleable__control sk-hidden--visually\" id=\"defcbfd3-f1c1-48ac-8633-b259d6dc72db\" type=\"checkbox\" ><label class=\"sk-toggleable__label\" for=\"defcbfd3-f1c1-48ac-8633-b259d6dc72db\">CountVectorizer</label><div class=\"sk-toggleable__content\"><pre>CountVectorizer()</pre></div></div></div><div class=\"sk-item\"><div class=\"sk-estimator sk-toggleable\"><input class=\"sk-toggleable__control sk-hidden--visually\" id=\"905e5518-01a0-44d0-94df-546f91de52fe\" type=\"checkbox\" ><label class=\"sk-toggleable__label\" for=\"905e5518-01a0-44d0-94df-546f91de52fe\">LogisticRegression</label><div class=\"sk-toggleable__content\"><pre>LogisticRegression(random_state=856, solver='liblinear')</pre></div></div></div></div></div></div></div></div></div></div></div></div>"
      ],
      "text/plain": [
       "GridSearchCV(cv=StratifiedKFold(n_splits=5, random_state=887, shuffle=True),\n",
       "             estimator=Pipeline(steps=[('PreprocessTransform',\n",
       "                                        PreprocessTransform()),\n",
       "                                       ('TokenizeLemmatize',\n",
       "                                        TokenizeLemmatize()),\n",
       "                                       ('CountVectorizer', CountVectorizer()),\n",
       "                                       ('clf',\n",
       "                                        LogisticRegression(random_state=856,\n",
       "                                                           solver='liblinear'))]),\n",
       "             n_jobs=-1,\n",
       "             param_grid={'CountVectorizer__max_df': [0.7, 0.5],\n",
       "                         'CountVectorizer__max_features': [1500, 2000],\n",
       "                         'PreprocessTransform__remove_numbers': [True, False],\n",
       "                         'clf__class_weight': [{-1: 0.2, 1: 0.8},\n",
       "                                               {-1: 0.4, 1: 0.6}],\n",
       "                         'clf__fit_intercept': [True, False]},\n",
       "             scoring='f1_weighted', verbose=3)"
      ]
     },
     "execution_count": 103,
     "metadata": {},
     "output_type": "execute_result"
    }
   ],
   "source": [
    "gridsearch_new.fit(X_train, y_train)\n"
   ]
  },
  {
   "cell_type": "code",
   "execution_count": 104,
   "metadata": {},
   "outputs": [
    {
     "name": "stdout",
     "output_type": "stream",
     "text": [
      "              precision    recall  f1-score   support\n",
      "\n",
      "          -1       0.89      0.83      0.86      2294\n",
      "           1       0.75      0.83      0.79      1366\n",
      "\n",
      "    accuracy                           0.83      3660\n",
      "   macro avg       0.82      0.83      0.82      3660\n",
      "weighted avg       0.84      0.83      0.83      3660\n",
      "\n"
     ]
    }
   ],
   "source": [
    "pred_gs_new = gridsearch_new.predict(X_test)\n",
    "print(classification_report(y_test, pred_gs_new))\n"
   ]
  },
  {
   "cell_type": "code",
   "execution_count": 105,
   "metadata": {},
   "outputs": [
    {
     "name": "stdout",
     "output_type": "stream",
     "text": [
      "{'CountVectorizer__max_df': 0.7, 'CountVectorizer__max_features': 2000, 'PreprocessTransform__remove_numbers': True, 'clf__class_weight': {-1: 0.4, 1: 0.6}, 'clf__fit_intercept': True}\n"
     ]
    }
   ],
   "source": [
    "print(gridsearch_new.best_params_)\n"
   ]
  },
  {
   "cell_type": "code",
   "execution_count": 106,
   "metadata": {},
   "outputs": [
    {
     "name": "stdout",
     "output_type": "stream",
     "text": [
      "[[1913  381]\n",
      " [ 233 1133]]\n"
     ]
    },
    {
     "data": {
      "image/png": "[encoded data removed]",
      "text/plain": [
       "<Figure size 576x360 with 2 Axes>"
      ]
     },
     "metadata": {
      "needs_background": "light"
     },
     "output_type": "display_data"
    }
   ],
   "source": [
    "conf_mat = confusion_matrix(y_test, pred_gs_new)\n",
    "\n",
    "print(conf_mat)\n",
    "\n",
    "df_cm = pd.DataFrame(conf_mat, index = [i for i in ['-1','1']],\n",
    "                  columns = [i for i in ['-1','1']])\n",
    "plt.figure(figsize = (8,5))\n",
    "sns.heatmap(df_cm, \n",
    "            annot=True, \n",
    "            fmt='g',\n",
    "            xticklabels=['neg_act','neut_pos_act'],\n",
    "            yticklabels=['neg_pr','neut_pos_pr'],\n",
    "           )\n",
    "\n",
    "plt.tight_layout(pad=1.1)\n",
    "\n",
    "plt.savefig('confus_matrix_2classes.png', facecolor='w')\n"
   ]
  },
  {
   "cell_type": "markdown",
   "metadata": {},
   "source": [
    "### Decision Tree modeling"
   ]
  },
  {
   "cell_type": "code",
   "execution_count": 107,
   "metadata": {},
   "outputs": [],
   "source": [
    "from sklearn.tree import DecisionTreeClassifier"
   ]
  },
  {
   "cell_type": "code",
   "execution_count": 108,
   "metadata": {},
   "outputs": [],
   "source": [
    "dtcl = DecisionTreeClassifier(random_state=559)"
   ]
  },
  {
   "cell_type": "code",
   "execution_count": 109,
   "metadata": {},
   "outputs": [
    {
     "data": {
      "text/plain": [
       "dict_keys(['ccp_alpha', 'class_weight', 'criterion', 'max_depth', 'max_features', 'max_leaf_nodes', 'min_impurity_decrease', 'min_impurity_split', 'min_samples_leaf', 'min_samples_split', 'min_weight_fraction_leaf', 'presort', 'random_state', 'splitter'])"
      ]
     },
     "execution_count": 109,
     "metadata": {},
     "output_type": "execute_result"
    }
   ],
   "source": [
    "dtcl.get_params().keys()"
   ]
  },
  {
   "cell_type": "code",
   "execution_count": 112,
   "metadata": {},
   "outputs": [
    {
     "data": {
      "text/plain": [
       "[('PreprocessTransform', PreprocessTransform()),\n",
       " ('TokenizeLemmatize', TokenizeLemmatize()),\n",
       " ('CountVectorizer', CountVectorizer()),\n",
       " ('clf', LogisticRegression(random_state=856, solver='liblinear')),\n",
       " ('clf_dt', DecisionTreeClassifier(random_state=559))]"
      ]
     },
     "execution_count": 112,
     "metadata": {},
     "output_type": "execute_result"
    }
   ],
   "source": [
    "pipe_steps.append(('clf_dt', dtcl))\n",
    "pipe_steps"
   ]
  },
  {
   "cell_type": "code",
   "execution_count": 113,
   "metadata": {},
   "outputs": [
    {
     "data": {
      "text/plain": [
       "[('PreprocessTransform', PreprocessTransform()),\n",
       " ('TokenizeLemmatize', TokenizeLemmatize()),\n",
       " ('CountVectorizer', CountVectorizer()),\n",
       " ('clf_dt', DecisionTreeClassifier(random_state=559))]"
      ]
     },
     "execution_count": 113,
     "metadata": {},
     "output_type": "execute_result"
    }
   ],
   "source": [
    "pipe_steps.pop(3)\n",
    "pipe_steps"
   ]
  },
  {
   "cell_type": "code",
   "execution_count": 114,
   "metadata": {},
   "outputs": [
    {
     "data": {
      "text/html": [
       "<style>div.sk-top-container {color: black;background-color: white;}div.sk-toggleable {background-color: white;}label.sk-toggleable__label {cursor: pointer;display: block;width: 100%;margin-bottom: 0;padding: 0.2em 0.3em;box-sizing: border-box;text-align: center;}div.sk-toggleable__content {max-height: 0;max-width: 0;overflow: hidden;text-align: left;background-color: #f0f8ff;}div.sk-toggleable__content pre {margin: 0.2em;color: black;border-radius: 0.25em;background-color: #f0f8ff;}input.sk-toggleable__control:checked~div.sk-toggleable__content {max-height: 200px;max-width: 100%;overflow: auto;}div.sk-estimator input.sk-toggleable__control:checked~label.sk-toggleable__label {background-color: #d4ebff;}div.sk-label input.sk-toggleable__control:checked~label.sk-toggleable__label {background-color: #d4ebff;}input.sk-hidden--visually {border: 0;clip: rect(1px 1px 1px 1px);clip: rect(1px, 1px, 1px, 1px);height: 1px;margin: -1px;overflow: hidden;padding: 0;position: absolute;width: 1px;}div.sk-estimator {font-family: monospace;background-color: #f0f8ff;margin: 0.25em 0.25em;border: 1px dotted black;border-radius: 0.25em;box-sizing: border-box;}div.sk-estimator:hover {background-color: #d4ebff;}div.sk-parallel-item::after {content: \"\";width: 100%;border-bottom: 1px solid gray;flex-grow: 1;}div.sk-label:hover label.sk-toggleable__label {background-color: #d4ebff;}div.sk-serial::before {content: \"\";position: absolute;border-left: 1px solid gray;box-sizing: border-box;top: 2em;bottom: 0;left: 50%;}div.sk-serial {display: flex;flex-direction: column;align-items: center;background-color: white;}div.sk-item {z-index: 1;}div.sk-parallel {display: flex;align-items: stretch;justify-content: center;background-color: white;}div.sk-parallel-item {display: flex;flex-direction: column;position: relative;background-color: white;}div.sk-parallel-item:first-child::after {align-self: flex-end;width: 50%;}div.sk-parallel-item:last-child::after {align-self: flex-start;width: 50%;}div.sk-parallel-item:only-child::after {width: 0;}div.sk-dashed-wrapped {border: 1px dashed gray;margin: 0.2em;box-sizing: border-box;padding-bottom: 0.1em;background-color: white;position: relative;}div.sk-label label {font-family: monospace;font-weight: bold;background-color: white;display: inline-block;line-height: 1.2em;}div.sk-label-container {position: relative;z-index: 2;text-align: center;}div.sk-container {display: inline-block;position: relative;}</style><div class=\"sk-top-container\"><div class=\"sk-container\"><div class=\"sk-item sk-dashed-wrapped\"><div class=\"sk-label-container\"><div class=\"sk-label sk-toggleable\"><input class=\"sk-toggleable__control sk-hidden--visually\" id=\"ade01458-216c-4155-8c1a-4688ad17dc2b\" type=\"checkbox\" ><label class=\"sk-toggleable__label\" for=\"ade01458-216c-4155-8c1a-4688ad17dc2b\">Pipeline</label><div class=\"sk-toggleable__content\"><pre>Pipeline(steps=[('PreprocessTransform', PreprocessTransform()),\n",
       "                ('TokenizeLemmatize', TokenizeLemmatize()),\n",
       "                ('CountVectorizer', CountVectorizer()),\n",
       "                ('clf_dt', DecisionTreeClassifier(random_state=559))])</pre></div></div></div><div class=\"sk-serial\"><div class=\"sk-item\"><div class=\"sk-estimator sk-toggleable\"><input class=\"sk-toggleable__control sk-hidden--visually\" id=\"987f6edf-9f24-4c58-96f4-012bfa7c18c7\" type=\"checkbox\" ><label class=\"sk-toggleable__label\" for=\"987f6edf-9f24-4c58-96f4-012bfa7c18c7\">PreprocessTransform</label><div class=\"sk-toggleable__content\"><pre>PreprocessTransform()</pre></div></div></div><div class=\"sk-item\"><div class=\"sk-estimator sk-toggleable\"><input class=\"sk-toggleable__control sk-hidden--visually\" id=\"0e5142f9-0bbc-4214-8b05-127a57a83fbf\" type=\"checkbox\" ><label class=\"sk-toggleable__label\" for=\"0e5142f9-0bbc-4214-8b05-127a57a83fbf\">TokenizeLemmatize</label><div class=\"sk-toggleable__content\"><pre>TokenizeLemmatize()</pre></div></div></div><div class=\"sk-item\"><div class=\"sk-estimator sk-toggleable\"><input class=\"sk-toggleable__control sk-hidden--visually\" id=\"6f43acfb-8e16-4fa9-adf0-48fd93edc471\" type=\"checkbox\" ><label class=\"sk-toggleable__label\" for=\"6f43acfb-8e16-4fa9-adf0-48fd93edc471\">CountVectorizer</label><div class=\"sk-toggleable__content\"><pre>CountVectorizer()</pre></div></div></div><div class=\"sk-item\"><div class=\"sk-estimator sk-toggleable\"><input class=\"sk-toggleable__control sk-hidden--visually\" id=\"b1ff2912-b5f9-4d42-a8f8-8a76734efc45\" type=\"checkbox\" ><label class=\"sk-toggleable__label\" for=\"b1ff2912-b5f9-4d42-a8f8-8a76734efc45\">DecisionTreeClassifier</label><div class=\"sk-toggleable__content\"><pre>DecisionTreeClassifier(random_state=559)</pre></div></div></div></div></div></div></div>"
      ],
      "text/plain": [
       "Pipeline(steps=[('PreprocessTransform', PreprocessTransform()),\n",
       "                ('TokenizeLemmatize', TokenizeLemmatize()),\n",
       "                ('CountVectorizer', CountVectorizer()),\n",
       "                ('clf_dt', DecisionTreeClassifier(random_state=559))])"
      ]
     },
     "execution_count": 114,
     "metadata": {},
     "output_type": "execute_result"
    }
   ],
   "source": [
    "pipe4 = Pipeline(pipe_steps)\n",
    "pipe4"
   ]
  },
  {
   "cell_type": "code",
   "execution_count": 115,
   "metadata": {},
   "outputs": [
    {
     "data": {
      "text/plain": [
       "{'PreprocessTransform__remove_numbers': [True, False],\n",
       " 'CountVectorizer__max_features': [1500, 2000],\n",
       " 'CountVectorizer__max_df': [0.7, 0.5],\n",
       " 'clf_dt__class_weight': [{-1: 0.2, 1: 0.8}, {-1: 0.4, 1: 0.6}],\n",
       " 'clf_dt__criterion': ['gini', 'entropy']}"
      ]
     },
     "execution_count": 115,
     "metadata": {},
     "output_type": "execute_result"
    }
   ],
   "source": [
    "param_grid_dt = dict(\n",
    "            PreprocessTransform__remove_numbers=[True, False],\n",
    "            CountVectorizer__max_features=[1500, 2000],\n",
    "            CountVectorizer__max_df=[0.7, 0.5],\n",
    "            clf_dt__class_weight=[{-1:0.2, 1:0.8}, {-1:0.4, 1:0.6}],\n",
    "            clf_dt__criterion=[\"gini\", \"entropy\"])\n",
    "param_grid_dt\n"
   ]
  },
  {
   "cell_type": "code",
   "execution_count": 116,
   "metadata": {},
   "outputs": [
    {
     "data": {
      "text/html": [
       "<style>div.sk-top-container {color: black;background-color: white;}div.sk-toggleable {background-color: white;}label.sk-toggleable__label {cursor: pointer;display: block;width: 100%;margin-bottom: 0;padding: 0.2em 0.3em;box-sizing: border-box;text-align: center;}div.sk-toggleable__content {max-height: 0;max-width: 0;overflow: hidden;text-align: left;background-color: #f0f8ff;}div.sk-toggleable__content pre {margin: 0.2em;color: black;border-radius: 0.25em;background-color: #f0f8ff;}input.sk-toggleable__control:checked~div.sk-toggleable__content {max-height: 200px;max-width: 100%;overflow: auto;}div.sk-estimator input.sk-toggleable__control:checked~label.sk-toggleable__label {background-color: #d4ebff;}div.sk-label input.sk-toggleable__control:checked~label.sk-toggleable__label {background-color: #d4ebff;}input.sk-hidden--visually {border: 0;clip: rect(1px 1px 1px 1px);clip: rect(1px, 1px, 1px, 1px);height: 1px;margin: -1px;overflow: hidden;padding: 0;position: absolute;width: 1px;}div.sk-estimator {font-family: monospace;background-color: #f0f8ff;margin: 0.25em 0.25em;border: 1px dotted black;border-radius: 0.25em;box-sizing: border-box;}div.sk-estimator:hover {background-color: #d4ebff;}div.sk-parallel-item::after {content: \"\";width: 100%;border-bottom: 1px solid gray;flex-grow: 1;}div.sk-label:hover label.sk-toggleable__label {background-color: #d4ebff;}div.sk-serial::before {content: \"\";position: absolute;border-left: 1px solid gray;box-sizing: border-box;top: 2em;bottom: 0;left: 50%;}div.sk-serial {display: flex;flex-direction: column;align-items: center;background-color: white;}div.sk-item {z-index: 1;}div.sk-parallel {display: flex;align-items: stretch;justify-content: center;background-color: white;}div.sk-parallel-item {display: flex;flex-direction: column;position: relative;background-color: white;}div.sk-parallel-item:first-child::after {align-self: flex-end;width: 50%;}div.sk-parallel-item:last-child::after {align-self: flex-start;width: 50%;}div.sk-parallel-item:only-child::after {width: 0;}div.sk-dashed-wrapped {border: 1px dashed gray;margin: 0.2em;box-sizing: border-box;padding-bottom: 0.1em;background-color: white;position: relative;}div.sk-label label {font-family: monospace;font-weight: bold;background-color: white;display: inline-block;line-height: 1.2em;}div.sk-label-container {position: relative;z-index: 2;text-align: center;}div.sk-container {display: inline-block;position: relative;}</style><div class=\"sk-top-container\"><div class=\"sk-container\"><div class=\"sk-item sk-dashed-wrapped\"><div class=\"sk-label-container\"><div class=\"sk-label sk-toggleable\"><input class=\"sk-toggleable__control sk-hidden--visually\" id=\"90bff983-f9f0-421e-a7e0-b9d75353aa41\" type=\"checkbox\" ><label class=\"sk-toggleable__label\" for=\"90bff983-f9f0-421e-a7e0-b9d75353aa41\">GridSearchCV</label><div class=\"sk-toggleable__content\"><pre>GridSearchCV(cv=StratifiedKFold(n_splits=5, random_state=887, shuffle=True),\n",
       "             estimator=Pipeline(steps=[('PreprocessTransform',\n",
       "                                        PreprocessTransform()),\n",
       "                                       ('TokenizeLemmatize',\n",
       "                                        TokenizeLemmatize()),\n",
       "                                       ('CountVectorizer', CountVectorizer()),\n",
       "                                       ('clf_dt',\n",
       "                                        DecisionTreeClassifier(random_state=559))]),\n",
       "             n_jobs=-1,\n",
       "             param_grid={'CountVectorizer__max_df': [0.7, 0.5],\n",
       "                         'CountVectorizer__max_features': [1500, 2000],\n",
       "                         'PreprocessTransform__remove_numbers': [True, False],\n",
       "                         'clf_dt__class_weight': [{-1: 0.2, 1: 0.8},\n",
       "                                                  {-1: 0.4, 1: 0.6}],\n",
       "                         'clf_dt__criterion': ['gini', 'entropy']},\n",
       "             scoring='f1_weighted', verbose=3)</pre></div></div></div><div class=\"sk-parallel\"><div class=\"sk-parallel-item\"><div class=\"sk-item\"><div class=\"sk-serial\"><div class=\"sk-item\"><div class=\"sk-serial\"><div class=\"sk-item\"><div class=\"sk-estimator sk-toggleable\"><input class=\"sk-toggleable__control sk-hidden--visually\" id=\"1d63b869-ec7e-4998-b539-a50e7b62320f\" type=\"checkbox\" ><label class=\"sk-toggleable__label\" for=\"1d63b869-ec7e-4998-b539-a50e7b62320f\">PreprocessTransform</label><div class=\"sk-toggleable__content\"><pre>PreprocessTransform()</pre></div></div></div><div class=\"sk-item\"><div class=\"sk-estimator sk-toggleable\"><input class=\"sk-toggleable__control sk-hidden--visually\" id=\"a00f7c94-7a43-45be-afca-d1ad120fbc02\" type=\"checkbox\" ><label class=\"sk-toggleable__label\" for=\"a00f7c94-7a43-45be-afca-d1ad120fbc02\">TokenizeLemmatize</label><div class=\"sk-toggleable__content\"><pre>TokenizeLemmatize()</pre></div></div></div><div class=\"sk-item\"><div class=\"sk-estimator sk-toggleable\"><input class=\"sk-toggleable__control sk-hidden--visually\" id=\"96f05153-4ecf-4fb5-b5e5-6d5c80cf3513\" type=\"checkbox\" ><label class=\"sk-toggleable__label\" for=\"96f05153-4ecf-4fb5-b5e5-6d5c80cf3513\">CountVectorizer</label><div class=\"sk-toggleable__content\"><pre>CountVectorizer()</pre></div></div></div><div class=\"sk-item\"><div class=\"sk-estimator sk-toggleable\"><input class=\"sk-toggleable__control sk-hidden--visually\" id=\"eeb35e9b-60ed-43de-ac5c-3582bfe64612\" type=\"checkbox\" ><label class=\"sk-toggleable__label\" for=\"eeb35e9b-60ed-43de-ac5c-3582bfe64612\">DecisionTreeClassifier</label><div class=\"sk-toggleable__content\"><pre>DecisionTreeClassifier(random_state=559)</pre></div></div></div></div></div></div></div></div></div></div></div></div>"
      ],
      "text/plain": [
       "GridSearchCV(cv=StratifiedKFold(n_splits=5, random_state=887, shuffle=True),\n",
       "             estimator=Pipeline(steps=[('PreprocessTransform',\n",
       "                                        PreprocessTransform()),\n",
       "                                       ('TokenizeLemmatize',\n",
       "                                        TokenizeLemmatize()),\n",
       "                                       ('CountVectorizer', CountVectorizer()),\n",
       "                                       ('clf_dt',\n",
       "                                        DecisionTreeClassifier(random_state=559))]),\n",
       "             n_jobs=-1,\n",
       "             param_grid={'CountVectorizer__max_df': [0.7, 0.5],\n",
       "                         'CountVectorizer__max_features': [1500, 2000],\n",
       "                         'PreprocessTransform__remove_numbers': [True, False],\n",
       "                         'clf_dt__class_weight': [{-1: 0.2, 1: 0.8},\n",
       "                                                  {-1: 0.4, 1: 0.6}],\n",
       "                         'clf_dt__criterion': ['gini', 'entropy']},\n",
       "             scoring='f1_weighted', verbose=3)"
      ]
     },
     "execution_count": 116,
     "metadata": {},
     "output_type": "execute_result"
    }
   ],
   "source": [
    "gridsearch_dt = GridSearchCV(pipe4, param_grid_dt, scoring='f1_weighted', cv=kfold, \n",
    "             n_jobs=-1, verbose=3)\n",
    "gridsearch_dt"
   ]
  },
  {
   "cell_type": "code",
   "execution_count": 117,
   "metadata": {},
   "outputs": [
    {
     "name": "stdout",
     "output_type": "stream",
     "text": [
      "Fitting 5 folds for each of 32 candidates, totalling 160 fits\n"
     ]
    },
    {
     "name": "stderr",
     "output_type": "stream",
     "text": [
      "[Parallel(n_jobs=-1)]: Using backend LokyBackend with 8 concurrent workers.\n",
      "[Parallel(n_jobs=-1)]: Done  16 tasks      | elapsed:   31.9s\n",
      "[Parallel(n_jobs=-1)]: Done 112 tasks      | elapsed:  3.9min\n",
      "[Parallel(n_jobs=-1)]: Done 160 out of 160 | elapsed:  5.6min finished\n"
     ]
    },
    {
     "data": {
      "text/html": [
       "<style>div.sk-top-container {color: black;background-color: white;}div.sk-toggleable {background-color: white;}label.sk-toggleable__label {cursor: pointer;display: block;width: 100%;margin-bottom: 0;padding: 0.2em 0.3em;box-sizing: border-box;text-align: center;}div.sk-toggleable__content {max-height: 0;max-width: 0;overflow: hidden;text-align: left;background-color: #f0f8ff;}div.sk-toggleable__content pre {margin: 0.2em;color: black;border-radius: 0.25em;background-color: #f0f8ff;}input.sk-toggleable__control:checked~div.sk-toggleable__content {max-height: 200px;max-width: 100%;overflow: auto;}div.sk-estimator input.sk-toggleable__control:checked~label.sk-toggleable__label {background-color: #d4ebff;}div.sk-label input.sk-toggleable__control:checked~label.sk-toggleable__label {background-color: #d4ebff;}input.sk-hidden--visually {border: 0;clip: rect(1px 1px 1px 1px);clip: rect(1px, 1px, 1px, 1px);height: 1px;margin: -1px;overflow: hidden;padding: 0;position: absolute;width: 1px;}div.sk-estimator {font-family: monospace;background-color: #f0f8ff;margin: 0.25em 0.25em;border: 1px dotted black;border-radius: 0.25em;box-sizing: border-box;}div.sk-estimator:hover {background-color: #d4ebff;}div.sk-parallel-item::after {content: \"\";width: 100%;border-bottom: 1px solid gray;flex-grow: 1;}div.sk-label:hover label.sk-toggleable__label {background-color: #d4ebff;}div.sk-serial::before {content: \"\";position: absolute;border-left: 1px solid gray;box-sizing: border-box;top: 2em;bottom: 0;left: 50%;}div.sk-serial {display: flex;flex-direction: column;align-items: center;background-color: white;}div.sk-item {z-index: 1;}div.sk-parallel {display: flex;align-items: stretch;justify-content: center;background-color: white;}div.sk-parallel-item {display: flex;flex-direction: column;position: relative;background-color: white;}div.sk-parallel-item:first-child::after {align-self: flex-end;width: 50%;}div.sk-parallel-item:last-child::after {align-self: flex-start;width: 50%;}div.sk-parallel-item:only-child::after {width: 0;}div.sk-dashed-wrapped {border: 1px dashed gray;margin: 0.2em;box-sizing: border-box;padding-bottom: 0.1em;background-color: white;position: relative;}div.sk-label label {font-family: monospace;font-weight: bold;background-color: white;display: inline-block;line-height: 1.2em;}div.sk-label-container {position: relative;z-index: 2;text-align: center;}div.sk-container {display: inline-block;position: relative;}</style><div class=\"sk-top-container\"><div class=\"sk-container\"><div class=\"sk-item sk-dashed-wrapped\"><div class=\"sk-label-container\"><div class=\"sk-label sk-toggleable\"><input class=\"sk-toggleable__control sk-hidden--visually\" id=\"a41340b2-92b4-4d3a-95dd-b83b95a8c9d1\" type=\"checkbox\" ><label class=\"sk-toggleable__label\" for=\"a41340b2-92b4-4d3a-95dd-b83b95a8c9d1\">GridSearchCV</label><div class=\"sk-toggleable__content\"><pre>GridSearchCV(cv=StratifiedKFold(n_splits=5, random_state=887, shuffle=True),\n",
       "             estimator=Pipeline(steps=[('PreprocessTransform',\n",
       "                                        PreprocessTransform()),\n",
       "                                       ('TokenizeLemmatize',\n",
       "                                        TokenizeLemmatize()),\n",
       "                                       ('CountVectorizer', CountVectorizer()),\n",
       "                                       ('clf_dt',\n",
       "                                        DecisionTreeClassifier(random_state=559))]),\n",
       "             n_jobs=-1,\n",
       "             param_grid={'CountVectorizer__max_df': [0.7, 0.5],\n",
       "                         'CountVectorizer__max_features': [1500, 2000],\n",
       "                         'PreprocessTransform__remove_numbers': [True, False],\n",
       "                         'clf_dt__class_weight': [{-1: 0.2, 1: 0.8},\n",
       "                                                  {-1: 0.4, 1: 0.6}],\n",
       "                         'clf_dt__criterion': ['gini', 'entropy']},\n",
       "             scoring='f1_weighted', verbose=3)</pre></div></div></div><div class=\"sk-parallel\"><div class=\"sk-parallel-item\"><div class=\"sk-item\"><div class=\"sk-serial\"><div class=\"sk-item\"><div class=\"sk-serial\"><div class=\"sk-item\"><div class=\"sk-estimator sk-toggleable\"><input class=\"sk-toggleable__control sk-hidden--visually\" id=\"0e14f43d-38b9-4b0a-9c01-765cce856728\" type=\"checkbox\" ><label class=\"sk-toggleable__label\" for=\"0e14f43d-38b9-4b0a-9c01-765cce856728\">PreprocessTransform</label><div class=\"sk-toggleable__content\"><pre>PreprocessTransform()</pre></div></div></div><div class=\"sk-item\"><div class=\"sk-estimator sk-toggleable\"><input class=\"sk-toggleable__control sk-hidden--visually\" id=\"be554c92-546b-422a-8e28-3642636f37f7\" type=\"checkbox\" ><label class=\"sk-toggleable__label\" for=\"be554c92-546b-422a-8e28-3642636f37f7\">TokenizeLemmatize</label><div class=\"sk-toggleable__content\"><pre>TokenizeLemmatize()</pre></div></div></div><div class=\"sk-item\"><div class=\"sk-estimator sk-toggleable\"><input class=\"sk-toggleable__control sk-hidden--visually\" id=\"c8be2ecd-a5ed-4e48-8d4d-0596962f7041\" type=\"checkbox\" ><label class=\"sk-toggleable__label\" for=\"c8be2ecd-a5ed-4e48-8d4d-0596962f7041\">CountVectorizer</label><div class=\"sk-toggleable__content\"><pre>CountVectorizer()</pre></div></div></div><div class=\"sk-item\"><div class=\"sk-estimator sk-toggleable\"><input class=\"sk-toggleable__control sk-hidden--visually\" id=\"d00558ff-6d05-404a-87de-1049809b54bc\" type=\"checkbox\" ><label class=\"sk-toggleable__label\" for=\"d00558ff-6d05-404a-87de-1049809b54bc\">DecisionTreeClassifier</label><div class=\"sk-toggleable__content\"><pre>DecisionTreeClassifier(random_state=559)</pre></div></div></div></div></div></div></div></div></div></div></div></div>"
      ],
      "text/plain": [
       "GridSearchCV(cv=StratifiedKFold(n_splits=5, random_state=887, shuffle=True),\n",
       "             estimator=Pipeline(steps=[('PreprocessTransform',\n",
       "                                        PreprocessTransform()),\n",
       "                                       ('TokenizeLemmatize',\n",
       "                                        TokenizeLemmatize()),\n",
       "                                       ('CountVectorizer', CountVectorizer()),\n",
       "                                       ('clf_dt',\n",
       "                                        DecisionTreeClassifier(random_state=559))]),\n",
       "             n_jobs=-1,\n",
       "             param_grid={'CountVectorizer__max_df': [0.7, 0.5],\n",
       "                         'CountVectorizer__max_features': [1500, 2000],\n",
       "                         'PreprocessTransform__remove_numbers': [True, False],\n",
       "                         'clf_dt__class_weight': [{-1: 0.2, 1: 0.8},\n",
       "                                                  {-1: 0.4, 1: 0.6}],\n",
       "                         'clf_dt__criterion': ['gini', 'entropy']},\n",
       "             scoring='f1_weighted', verbose=3)"
      ]
     },
     "execution_count": 117,
     "metadata": {},
     "output_type": "execute_result"
    }
   ],
   "source": [
    "gridsearch_dt.fit(X_train, y_train)"
   ]
  },
  {
   "cell_type": "code",
   "execution_count": 118,
   "metadata": {},
   "outputs": [
    {
     "name": "stdout",
     "output_type": "stream",
     "text": [
      "              precision    recall  f1-score   support\n",
      "\n",
      "          -1       0.83      0.78      0.81      2294\n",
      "           1       0.67      0.74      0.70      1366\n",
      "\n",
      "    accuracy                           0.76      3660\n",
      "   macro avg       0.75      0.76      0.75      3660\n",
      "weighted avg       0.77      0.76      0.77      3660\n",
      "\n"
     ]
    }
   ],
   "source": [
    "pred_gs_dt = gridsearch_dt.predict(X_test)\n",
    "print(classification_report(y_test, pred_gs_dt))"
   ]
  },
  {
   "cell_type": "code",
   "execution_count": 119,
   "metadata": {},
   "outputs": [
    {
     "name": "stdout",
     "output_type": "stream",
     "text": [
      "{'CountVectorizer__max_df': 0.7, 'CountVectorizer__max_features': 2000, 'PreprocessTransform__remove_numbers': True, 'clf_dt__class_weight': {-1: 0.2, 1: 0.8}, 'clf_dt__criterion': 'entropy'}\n"
     ]
    }
   ],
   "source": [
    "print(gridsearch_dt.best_params_)"
   ]
  },
  {
   "cell_type": "code",
   "execution_count": 120,
   "metadata": {},
   "outputs": [
    {
     "name": "stdout",
     "output_type": "stream",
     "text": [
      "[[1793  501]\n",
      " [ 360 1006]]\n"
     ]
    },
    {
     "data": {
      "text/plain": [
       "<AxesSubplot:>"
      ]
     },
     "execution_count": 120,
     "metadata": {},
     "output_type": "execute_result"
    },
    {
     "data": {
      "image/png": "[encoded data removed]",
      "text/plain": [
       "<Figure size 576x360 with 2 Axes>"
      ]
     },
     "metadata": {
      "needs_background": "light"
     },
     "output_type": "display_data"
    }
   ],
   "source": [
    "conf_mat = confusion_matrix(y_test, pred_gs_dt)\n",
    "\n",
    "print(conf_mat)\n",
    "\n",
    "df_cm = pd.DataFrame(conf_mat, index = [i for i in ['-1','1']],\n",
    "                  columns = [i for i in ['-1','1']])\n",
    "plt.figure(figsize = (8,5))\n",
    "sns.heatmap(df_cm, \n",
    "            annot=True, \n",
    "            fmt='g',\n",
    "            xticklabels=['neg_act','neut_pos_act'],\n",
    "            yticklabels=['neg_pr','neut_pos_pr'],\n",
    "           )"
   ]
  },
  {
   "cell_type": "markdown",
   "metadata": {},
   "source": [
    "#### Insights:\n",
    " - Logistic Regression performed better than Decision Tree algorithm.\n",
    " "
   ]
  },
  {
   "cell_type": "markdown",
   "metadata": {
    "id": "LwxfFdwhc-9o"
   },
   "source": [
    "### Summary:\n",
    "\n",
    "- Airlines sentiments scraped from tweets were analyzed using text reviews in and their sentiment score on the scale of 'negative', 'neutral' and 'postive for text classification modeling.\n",
    "- Built text pre-processing pipelines for:\n",
    "  - Part A: removing html tags, numbers (on/off), translating emojis, replacing contractions\n",
    "  - Part B: tokenization, removing punctuation, non-ascii, stopwords, lemmitization and joining words\n",
    "- 'Bag of words' using CountVectorizer.\n",
    "\n",
    "- Logisitic Regression was found to perform better (f1-score=0.83) vs. Decision Tree (f1-score=0.77).\n",
    "\n"
   ]
  },
  {
   "cell_type": "code",
   "execution_count": null,
   "metadata": {},
   "outputs": [],
   "source": []
  }
 ],
 "metadata": {
  "colab": {
   "collapsed_sections": [],
   "name": "MLS_week_2_NLP.ipynb",
   "provenance": []
  },
  "kernelspec": {
   "display_name": "Python 3",
   "language": "python",
   "name": "python3"
  },
  "language_info": {
   "codemirror_mode": {
    "name": "ipython",
    "version": 3
   },
   "file_extension": ".py",
   "mimetype": "text/x-python",
   "name": "python",
   "nbconvert_exporter": "python",
   "pygments_lexer": "ipython3",
   "version": "3.7.9"
  },
  "toc": {
   "base_numbering": 1,
   "nav_menu": {},
   "number_sections": true,
   "sideBar": true,
   "skip_h1_title": false,
   "title_cell": "Table of Contents",
   "title_sidebar": "Contents",
   "toc_cell": false,
   "toc_position": {},
   "toc_section_display": true,
   "toc_window_display": false
  },
  "varInspector": {
   "cols": {
    "lenName": 16,
    "lenType": 16,
    "lenVar": 40
   },
   "kernels_config": {
    "python": {
     "delete_cmd_postfix": "",
     "delete_cmd_prefix": "del ",
     "library": "var_list.py",
     "varRefreshCmd": "print(var_dic_list())"
    },
    "r": {
     "delete_cmd_postfix": ") ",
     "delete_cmd_prefix": "rm(",
     "library": "var_list.r",
     "varRefreshCmd": "cat(var_dic_list()) "
    }
   },
   "types_to_exclude": [
    "module",
    "function",
    "builtin_function_or_method",
    "instance",
    "_Feature"
   ],
   "window_display": false
  }
 },
 "nbformat": 4,
 "nbformat_minor": 4
}
